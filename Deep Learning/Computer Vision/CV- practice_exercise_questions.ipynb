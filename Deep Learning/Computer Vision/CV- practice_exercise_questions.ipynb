{
 "cells": [
  {
   "cell_type": "markdown",
   "metadata": {
    "colab_type": "text",
    "id": "Uk4Q_z7C1l_u"
   },
   "source": [
    "**Import necessary Libraries**"
   ]
  },
  {
   "cell_type": "code",
   "execution_count": 0,
   "metadata": {
    "colab": {},
    "colab_type": "code",
    "id": "N1zUbfN5Y6O7"
   },
   "outputs": [],
   "source": [
    "import numpy as np\n",
    "from skimage import data, io\n",
    "import matplotlib.pyplot as plt\n",
    "\n",
    "import os\n",
    "os.environ['TF_CPP_MIN_LOG_LEVEL'] = '3' \n",
    "import warnings\n",
    "# Suppress warnings\n",
    "warnings.filterwarnings('ignore')"
   ]
  },
  {
   "cell_type": "markdown",
   "metadata": {
    "colab_type": "text",
    "id": "1h9tLBMP1BU-"
   },
   "source": [
    "**Load any image**"
   ]
  },
  {
   "cell_type": "code",
   "execution_count": 0,
   "metadata": {
    "colab": {},
    "colab_type": "code",
    "id": "3KN8kAeUsdal"
   },
   "outputs": [],
   "source": [
    "# skimage.data has a lot of sample images to play around with\n",
    "image = data.coins()\n",
    "\n",
    "plt.imshow(image, cmap='gray')\n"
   ]
  },
  {
   "cell_type": "markdown",
   "metadata": {
    "colab_type": "text",
    "id": "zEy5xttn148-"
   },
   "source": [
    "**Import utilities needed for convolution**"
   ]
  },
  {
   "cell_type": "code",
   "execution_count": 0,
   "metadata": {
    "colab": {},
    "colab_type": "code",
    "id": "WM1vkGr4lxsX"
   },
   "outputs": [],
   "source": [
    "from scipy.signal import convolve2d"
   ]
  },
  {
   "cell_type": "markdown",
   "metadata": {
    "colab_type": "text",
    "id": "ZpkLqYPe2Dpx"
   },
   "source": [
    "**Find the 5X5 Guassian Blur kernel with sigma = 1.0 and convolve the above image with that kernel**\n",
    "\n",
    "\n",
    "*Hint: You can create various Guassian kernel at http://dev.theomader.com/gaussian-kernel-calculator/*"
   ]
  },
  {
   "cell_type": "code",
   "execution_count": 0,
   "metadata": {
    "colab": {},
    "colab_type": "code",
    "id": "E-D2W3zD1-bb"
   },
   "outputs": [],
   "source": [
    "kernel = ### Your Code Here###"
   ]
  },
  {
   "cell_type": "markdown",
   "metadata": {
    "colab_type": "text",
    "id": "1k0UBG4K2o52"
   },
   "source": [
    "**Convole the guassian kernel with the image and use 'valid' convolution and show the result side by side**"
   ]
  },
  {
   "cell_type": "code",
   "execution_count": 0,
   "metadata": {
    "colab": {},
    "colab_type": "code",
    "id": "d3UAWwmo1-0k"
   },
   "outputs": [],
   "source": [
    "blurred_image = ### Your Code Here###\n",
    "\n",
    "### Your Code Here###\n"
   ]
  },
  {
   "cell_type": "markdown",
   "metadata": {
    "colab_type": "text",
    "id": "RuoHfILa4P04"
   },
   "source": [
    "<h1>Build a CNN to classify 10 monkey species</h1>"
   ]
  },
  {
   "cell_type": "markdown",
   "metadata": {
    "colab_type": "text",
    "id": "UEB3KqhjSbJD"
   },
   "source": [
    "**Mounting Google Drive on to the Google Colab instance**"
   ]
  },
  {
   "cell_type": "code",
   "execution_count": 0,
   "metadata": {
    "colab": {},
    "colab_type": "code",
    "id": "DsCraWoxfIvp"
   },
   "outputs": [],
   "source": [
    "from google.colab import drive\n",
    "drive.mount('/content/drive')"
   ]
  },
  {
   "cell_type": "markdown",
   "metadata": {
    "colab_type": "text",
    "id": "93cfwi25SlSF"
   },
   "source": [
    "**Set the appropriate path for the datsaet zip provided**"
   ]
  },
  {
   "cell_type": "code",
   "execution_count": 0,
   "metadata": {
    "colab": {},
    "colab_type": "code",
    "id": "U2rV6UPvf9PV"
   },
   "outputs": [],
   "source": [
    "images_path = ### Your Code Here###"
   ]
  },
  {
   "cell_type": "markdown",
   "metadata": {
    "colab_type": "text",
    "id": "TF6IorgsSqG5"
   },
   "source": [
    "**Extracting the dataset.zip to the present working directory**"
   ]
  },
  {
   "cell_type": "code",
   "execution_count": 0,
   "metadata": {
    "colab": {},
    "colab_type": "code",
    "id": "6fF2XlCnfhDD"
   },
   "outputs": [],
   "source": [
    "from zipfile import ZipFile\n",
    "with ZipFile(images_path, 'r') as zip:\n",
    "  zip.extractall()"
   ]
  },
  {
   "cell_type": "markdown",
   "metadata": {
    "colab_type": "text",
    "id": "_qCQB-4eSwMK"
   },
   "source": [
    "*Check the list of files in the pwd(present working directory) by running command 'ls' and ensure 'dataset' folder has been generated*"
   ]
  },
  {
   "cell_type": "code",
   "execution_count": 0,
   "metadata": {
    "colab": {},
    "colab_type": "code",
    "id": "e_GB89vufuum"
   },
   "outputs": [],
   "source": [
    "!ls"
   ]
  },
  {
   "cell_type": "markdown",
   "metadata": {
    "colab_type": "text",
    "id": "dfoV8iFbTA52"
   },
   "source": [
    "**Importing required Keras modules**"
   ]
  },
  {
   "cell_type": "code",
   "execution_count": 0,
   "metadata": {
    "colab": {},
    "colab_type": "code",
    "id": "KpFyhikhgKHB"
   },
   "outputs": [],
   "source": [
    "from keras.models import Sequential\n",
    "from keras.layers import Conv2D\n",
    "from keras.layers import MaxPooling2D\n",
    "from keras.layers import Flatten\n",
    "from keras.layers import Dense, Dropout"
   ]
  },
  {
   "cell_type": "markdown",
   "metadata": {
    "colab_type": "text",
    "id": "SM6ARMO1TFw-"
   },
   "source": [
    "**Build a Sequential CNN classifier with input shape as 64X64 and using three sets of Convoltutional + Pooling layers. You can additionally use Dropout in the fully connected layers. Make sure the final layer shape matches with the number of classes**"
   ]
  },
  {
   "cell_type": "code",
   "execution_count": 0,
   "metadata": {
    "colab": {},
    "colab_type": "code",
    "id": "RLhlFr9vg8Qq"
   },
   "outputs": [],
   "source": [
    "### Your Code Here###"
   ]
  },
  {
   "cell_type": "markdown",
   "metadata": {
    "colab_type": "text",
    "id": "xmlFKyBaToR2"
   },
   "source": [
    "**Compile the CNN classifier with Adam optimizer (default Learning rate and other parameters)\n",
    "and Categorical Crossentropy as loss function and Accuracy as the metric to monitor**"
   ]
  },
  {
   "cell_type": "markdown",
   "metadata": {
    "colab_type": "text",
    "id": "i97nysnzTuAZ"
   },
   "source": [
    "*Optionally you can use an optimizer with custom learning rate and passing it to the optimizer parameter of compile*\n",
    "\n",
    "*Eg: keras.optimizers.Adam(lr=0.001, beta_1=0.9, beta_2=0.999, epsilon=None, decay=0.0, amsgrad=False)*"
   ]
  },
  {
   "cell_type": "code",
   "execution_count": 0,
   "metadata": {
    "colab": {},
    "colab_type": "code",
    "id": "CtMbL_TvTnlp"
   },
   "outputs": [],
   "source": [
    "### Your Code Here###"
   ]
  },
  {
   "cell_type": "markdown",
   "metadata": {
    "colab_type": "text",
    "id": "Dv0eDbXYUcgQ"
   },
   "source": [
    "**Use ImageDataGenerator to create a test and training set data generators and use fit_generator() function to train the model**"
   ]
  },
  {
   "cell_type": "markdown",
   "metadata": {
    "colab_type": "text",
    "id": "jdKWE1o-UjB7"
   },
   "source": [
    "*ImageDataGenerator is a powerful preprocessing utility to generate training and \n",
    "testing data with common data augmentation techniques. It can also be used to  \n",
    "generate training data from Images stored in hierarchical directory structures\n",
    "For more options of ImageDataGenerator go to https://keras.io/preprocessing/image/*"
   ]
  },
  {
   "cell_type": "code",
   "execution_count": 0,
   "metadata": {
    "colab": {},
    "colab_type": "code",
    "id": "1djMyebthCGP"
   },
   "outputs": [],
   "source": [
    "### Your Code Here###"
   ]
  },
  {
   "cell_type": "markdown",
   "metadata": {
    "colab_type": "text",
    "id": "157MBWfwVORb"
   },
   "source": [
    "**save the model and its weights**"
   ]
  },
  {
   "cell_type": "code",
   "execution_count": 0,
   "metadata": {
    "colab": {},
    "colab_type": "code",
    "id": "WwvESxvvzRgz"
   },
   "outputs": [],
   "source": [
    "### Your Code Here###"
   ]
  },
  {
   "cell_type": "markdown",
   "metadata": {
    "colab_type": "text",
    "id": "mw9MVESlVSq0"
   },
   "source": [
    "*Check the current directory if the weights have been saved*"
   ]
  },
  {
   "cell_type": "code",
   "execution_count": 0,
   "metadata": {
    "colab": {},
    "colab_type": "code",
    "id": "pHkGYUnpzbVQ"
   },
   "outputs": [],
   "source": [
    "!ls"
   ]
  },
  {
   "cell_type": "markdown",
   "metadata": {
    "colab_type": "text",
    "id": "XKfWmfnTVWbO"
   },
   "source": [
    "<h2>Testing the model</h2>"
   ]
  },
  {
   "cell_type": "markdown",
   "metadata": {
    "colab_type": "text",
    "id": "KRXKNJjWVzGq"
   },
   "source": [
    "**Load the pre-trained saved model and load the weights**"
   ]
  },
  {
   "cell_type": "code",
   "execution_count": 0,
   "metadata": {
    "colab": {},
    "colab_type": "code",
    "id": "tB5k1sCWVwJt"
   },
   "outputs": [],
   "source": [
    "\n",
    "from keras.models import load_model\n",
    "import numpy as np\n",
    "from keras.preprocessing import image\n",
    "\n",
    "# Load the pre trained model from the HDF5 file saved previously\n",
    "pretrained_model = ### Your Code Here###"
   ]
  },
  {
   "cell_type": "markdown",
   "metadata": {
    "colab_type": "text",
    "id": "8iFL22MKV-nB"
   },
   "source": [
    "**Test the model on one single image from the test folders**"
   ]
  },
  {
   "cell_type": "code",
   "execution_count": 0,
   "metadata": {
    "colab": {},
    "colab_type": "code",
    "id": "FLrGrFCJhCmq"
   },
   "outputs": [],
   "source": [
    "### Your Code Here###"
   ]
  },
  {
   "cell_type": "markdown",
   "metadata": {
    "colab_type": "text",
    "id": "32IsbG8Ox2XN"
   },
   "source": [
    "**Generating a report on the test data**"
   ]
  },
  {
   "cell_type": "code",
   "execution_count": 0,
   "metadata": {
    "colab": {},
    "colab_type": "code",
    "id": "vXnGiGIKxzE5"
   },
   "outputs": [],
   "source": [
    "### Your Code Here###"
   ]
  },
  {
   "cell_type": "markdown",
   "metadata": {
    "colab_type": "text",
    "id": "lnp5BHrHWIuY"
   },
   "source": [
    "**Play around with the model by adding regularization to the layers, adding more convolutional layers, etc., to improve the testing accuracy**"
   ]
  }
 ],
 "metadata": {
  "colab": {
   "collapsed_sections": [],
   "name": "practice_exercise_questions.ipynb",
   "provenance": [
    {
     "file_id": "1AfRP620CLggWOuf8sxl7bIZyAXHIj7wA",
     "timestamp": 1561538368493
    }
   ],
   "version": "0.3.2"
  },
  "kernelspec": {
   "display_name": "Python 3",
   "language": "python",
   "name": "python3"
  },
  "language_info": {
   "codemirror_mode": {
    "name": "ipython",
    "version": 3
   },
   "file_extension": ".py",
   "mimetype": "text/x-python",
   "name": "python",
   "nbconvert_exporter": "python",
   "pygments_lexer": "ipython3",
   "version": "3.7.3"
  }
 },
 "nbformat": 4,
 "nbformat_minor": 1
}
