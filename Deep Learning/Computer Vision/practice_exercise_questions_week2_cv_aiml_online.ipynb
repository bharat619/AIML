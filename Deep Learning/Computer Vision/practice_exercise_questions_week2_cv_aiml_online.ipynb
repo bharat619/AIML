{
 "cells": [
  {
   "cell_type": "markdown",
   "metadata": {
    "colab_type": "text",
    "id": "QGIsF1ADyJ58"
   },
   "source": [
    "# Transfer Learning CIFAR10"
   ]
  },
  {
   "cell_type": "markdown",
   "metadata": {
    "colab_type": "text",
    "id": "E-n6tVFayGBe"
   },
   "source": [
    "* Train a simple convnet on the CIFAR dataset the first 5 output classes [0..4].\n",
    "* Freeze convolutional layers and fine-tune dense layers for the last 5 ouput classes [5..9].\n"
   ]
  },
  {
   "cell_type": "markdown",
   "metadata": {
    "colab_type": "text",
    "id": "VgWNaP4SFZlP"
   },
   "source": [
    "## Get data"
   ]
  },
  {
   "cell_type": "markdown",
   "metadata": {
    "colab_type": "text",
    "id": "Cq8ejXHJyGYq"
   },
   "source": [
    "### Import keras and CIFAR10 data"
   ]
  },
  {
   "cell_type": "code",
   "execution_count": 74,
   "metadata": {
    "colab": {},
    "colab_type": "code",
    "id": "uWYbxnBayFUP"
   },
   "outputs": [],
   "source": [
    "import keras\n",
    "from keras.datasets import cifar10"
   ]
  },
  {
   "cell_type": "markdown",
   "metadata": {
    "colab_type": "text",
    "id": "tlh0c0dACZnA"
   },
   "source": [
    "### Get train and test data\n",
    "Use these variable names\n",
    "\n",
    "X_train, X_test, y_train, y_test"
   ]
  },
  {
   "cell_type": "code",
   "execution_count": 75,
   "metadata": {
    "colab": {},
    "colab_type": "code",
    "id": "Ap7iaMNG2Zbu"
   },
   "outputs": [],
   "source": [
    "(X_train, y_train), (X_test, y_test) = cifar10.load_data()"
   ]
  },
  {
   "cell_type": "markdown",
   "metadata": {
    "colab_type": "text",
    "id": "3T-SswFTC4sL"
   },
   "source": [
    "### Print the shape of X_train and y_train"
   ]
  },
  {
   "cell_type": "code",
   "execution_count": 76,
   "metadata": {
    "colab": {},
    "colab_type": "code",
    "id": "E_AYES5F2eOt"
   },
   "outputs": [
    {
     "name": "stdout",
     "output_type": "stream",
     "text": [
      "(50000, 32, 32, 3)\n",
      "(50000, 1)\n"
     ]
    }
   ],
   "source": [
    "print(X_train.shape)\n",
    "print(y_train.shape)"
   ]
  },
  {
   "cell_type": "markdown",
   "metadata": {
    "colab_type": "text",
    "id": "-d2iEjeeDBM3"
   },
   "source": [
    "### Rehshape y_train and y_test\n",
    "reshape with y_train.shape[0] and y_test.shape[0]"
   ]
  },
  {
   "cell_type": "code",
   "execution_count": 77,
   "metadata": {
    "colab": {},
    "colab_type": "code",
    "id": "sIJRUpPO2gUy"
   },
   "outputs": [],
   "source": [
    "y_train = y_train.reshape(y_train.shape[0])\n",
    "y_test = y_test.reshape(y_test.shape[0])"
   ]
  },
  {
   "cell_type": "code",
   "execution_count": 78,
   "metadata": {},
   "outputs": [
    {
     "data": {
      "text/plain": [
       "array([6, 9, 9, ..., 9, 1, 1], dtype=uint8)"
      ]
     },
     "execution_count": 78,
     "metadata": {},
     "output_type": "execute_result"
    }
   ],
   "source": [
    "y_train"
   ]
  },
  {
   "cell_type": "markdown",
   "metadata": {
    "colab_type": "text",
    "id": "w5_Q2VODDlhT"
   },
   "source": [
    "### Create 2 datasets with one dataset having classes from 0 to 4 and other having classes from 5 to 9 "
   ]
  },
  {
   "cell_type": "code",
   "execution_count": 79,
   "metadata": {
    "colab": {},
    "colab_type": "code",
    "id": "-oWCfC9s2i-r"
   },
   "outputs": [],
   "source": [
    "X_train_lt_5 = X_train[y_train < 5]\n",
    "y_train_lt_5 = y_train[y_train < 5]\n",
    "X_test_lt_5 = X_test[y_test < 5]\n",
    "y_test_lt_5 = y_test[y_test < 5]\n",
    "\n",
    "X_train_gt_5 = X_train[y_train >= 5]\n",
    "y_train_gt_5 = y_train[y_train >= 5]\n",
    "X_test_gt_5 = X_test[y_test >= 5]\n",
    "y_test_gt_5 = y_test[y_test >= 5]"
   ]
  },
  {
   "cell_type": "markdown",
   "metadata": {
    "colab_type": "text",
    "id": "xtCKmQh4yXhT"
   },
   "source": [
    "## Use One-hot encoding to divide y_train and y_test into required no of output classes\n",
    "Do it for both datasets"
   ]
  },
  {
   "cell_type": "code",
   "execution_count": 80,
   "metadata": {
    "colab": {},
    "colab_type": "code",
    "id": "uN5O2kJ3yYa6"
   },
   "outputs": [],
   "source": [
    "y_train_gt_5 = pd.get_dummies(y_train_gt_5)\n",
    "y_test_gt_5 = pd.get_dummies(y_test_gt_5)\n",
    "\n",
    "y_train_lt_5 = pd.get_dummies(y_train_lt_5)\n",
    "y_test_lt_5 = pd.get_dummies(y_test_lt_5)"
   ]
  },
  {
   "cell_type": "code",
   "execution_count": 81,
   "metadata": {},
   "outputs": [
    {
     "data": {
      "text/html": [
       "<div>\n",
       "<style scoped>\n",
       "    .dataframe tbody tr th:only-of-type {\n",
       "        vertical-align: middle;\n",
       "    }\n",
       "\n",
       "    .dataframe tbody tr th {\n",
       "        vertical-align: top;\n",
       "    }\n",
       "\n",
       "    .dataframe thead th {\n",
       "        text-align: right;\n",
       "    }\n",
       "</style>\n",
       "<table border=\"1\" class=\"dataframe\">\n",
       "  <thead>\n",
       "    <tr style=\"text-align: right;\">\n",
       "      <th></th>\n",
       "      <th>5</th>\n",
       "      <th>6</th>\n",
       "      <th>7</th>\n",
       "      <th>8</th>\n",
       "      <th>9</th>\n",
       "    </tr>\n",
       "  </thead>\n",
       "  <tbody>\n",
       "    <tr>\n",
       "      <th>0</th>\n",
       "      <td>0</td>\n",
       "      <td>1</td>\n",
       "      <td>0</td>\n",
       "      <td>0</td>\n",
       "      <td>0</td>\n",
       "    </tr>\n",
       "    <tr>\n",
       "      <th>1</th>\n",
       "      <td>0</td>\n",
       "      <td>0</td>\n",
       "      <td>0</td>\n",
       "      <td>0</td>\n",
       "      <td>1</td>\n",
       "    </tr>\n",
       "    <tr>\n",
       "      <th>2</th>\n",
       "      <td>0</td>\n",
       "      <td>0</td>\n",
       "      <td>0</td>\n",
       "      <td>0</td>\n",
       "      <td>1</td>\n",
       "    </tr>\n",
       "    <tr>\n",
       "      <th>3</th>\n",
       "      <td>0</td>\n",
       "      <td>0</td>\n",
       "      <td>1</td>\n",
       "      <td>0</td>\n",
       "      <td>0</td>\n",
       "    </tr>\n",
       "    <tr>\n",
       "      <th>4</th>\n",
       "      <td>0</td>\n",
       "      <td>0</td>\n",
       "      <td>0</td>\n",
       "      <td>1</td>\n",
       "      <td>0</td>\n",
       "    </tr>\n",
       "    <tr>\n",
       "      <th>5</th>\n",
       "      <td>0</td>\n",
       "      <td>0</td>\n",
       "      <td>1</td>\n",
       "      <td>0</td>\n",
       "      <td>0</td>\n",
       "    </tr>\n",
       "    <tr>\n",
       "      <th>6</th>\n",
       "      <td>0</td>\n",
       "      <td>0</td>\n",
       "      <td>1</td>\n",
       "      <td>0</td>\n",
       "      <td>0</td>\n",
       "    </tr>\n",
       "    <tr>\n",
       "      <th>7</th>\n",
       "      <td>0</td>\n",
       "      <td>0</td>\n",
       "      <td>0</td>\n",
       "      <td>0</td>\n",
       "      <td>1</td>\n",
       "    </tr>\n",
       "    <tr>\n",
       "      <th>8</th>\n",
       "      <td>0</td>\n",
       "      <td>0</td>\n",
       "      <td>0</td>\n",
       "      <td>0</td>\n",
       "      <td>1</td>\n",
       "    </tr>\n",
       "    <tr>\n",
       "      <th>9</th>\n",
       "      <td>0</td>\n",
       "      <td>0</td>\n",
       "      <td>0</td>\n",
       "      <td>0</td>\n",
       "      <td>1</td>\n",
       "    </tr>\n",
       "    <tr>\n",
       "      <th>10</th>\n",
       "      <td>0</td>\n",
       "      <td>1</td>\n",
       "      <td>0</td>\n",
       "      <td>0</td>\n",
       "      <td>0</td>\n",
       "    </tr>\n",
       "    <tr>\n",
       "      <th>11</th>\n",
       "      <td>0</td>\n",
       "      <td>1</td>\n",
       "      <td>0</td>\n",
       "      <td>0</td>\n",
       "      <td>0</td>\n",
       "    </tr>\n",
       "    <tr>\n",
       "      <th>12</th>\n",
       "      <td>0</td>\n",
       "      <td>1</td>\n",
       "      <td>0</td>\n",
       "      <td>0</td>\n",
       "      <td>0</td>\n",
       "    </tr>\n",
       "    <tr>\n",
       "      <th>13</th>\n",
       "      <td>0</td>\n",
       "      <td>1</td>\n",
       "      <td>0</td>\n",
       "      <td>0</td>\n",
       "      <td>0</td>\n",
       "    </tr>\n",
       "    <tr>\n",
       "      <th>14</th>\n",
       "      <td>1</td>\n",
       "      <td>0</td>\n",
       "      <td>0</td>\n",
       "      <td>0</td>\n",
       "      <td>0</td>\n",
       "    </tr>\n",
       "    <tr>\n",
       "      <th>15</th>\n",
       "      <td>0</td>\n",
       "      <td>0</td>\n",
       "      <td>0</td>\n",
       "      <td>0</td>\n",
       "      <td>1</td>\n",
       "    </tr>\n",
       "    <tr>\n",
       "      <th>16</th>\n",
       "      <td>0</td>\n",
       "      <td>0</td>\n",
       "      <td>1</td>\n",
       "      <td>0</td>\n",
       "      <td>0</td>\n",
       "    </tr>\n",
       "    <tr>\n",
       "      <th>17</th>\n",
       "      <td>1</td>\n",
       "      <td>0</td>\n",
       "      <td>0</td>\n",
       "      <td>0</td>\n",
       "      <td>0</td>\n",
       "    </tr>\n",
       "    <tr>\n",
       "      <th>18</th>\n",
       "      <td>0</td>\n",
       "      <td>0</td>\n",
       "      <td>1</td>\n",
       "      <td>0</td>\n",
       "      <td>0</td>\n",
       "    </tr>\n",
       "    <tr>\n",
       "      <th>19</th>\n",
       "      <td>0</td>\n",
       "      <td>0</td>\n",
       "      <td>0</td>\n",
       "      <td>0</td>\n",
       "      <td>1</td>\n",
       "    </tr>\n",
       "    <tr>\n",
       "      <th>20</th>\n",
       "      <td>1</td>\n",
       "      <td>0</td>\n",
       "      <td>0</td>\n",
       "      <td>0</td>\n",
       "      <td>0</td>\n",
       "    </tr>\n",
       "    <tr>\n",
       "      <th>21</th>\n",
       "      <td>0</td>\n",
       "      <td>0</td>\n",
       "      <td>1</td>\n",
       "      <td>0</td>\n",
       "      <td>0</td>\n",
       "    </tr>\n",
       "    <tr>\n",
       "      <th>22</th>\n",
       "      <td>0</td>\n",
       "      <td>0</td>\n",
       "      <td>0</td>\n",
       "      <td>0</td>\n",
       "      <td>1</td>\n",
       "    </tr>\n",
       "    <tr>\n",
       "      <th>23</th>\n",
       "      <td>1</td>\n",
       "      <td>0</td>\n",
       "      <td>0</td>\n",
       "      <td>0</td>\n",
       "      <td>0</td>\n",
       "    </tr>\n",
       "    <tr>\n",
       "      <th>24</th>\n",
       "      <td>0</td>\n",
       "      <td>0</td>\n",
       "      <td>0</td>\n",
       "      <td>1</td>\n",
       "      <td>0</td>\n",
       "    </tr>\n",
       "    <tr>\n",
       "      <th>25</th>\n",
       "      <td>0</td>\n",
       "      <td>0</td>\n",
       "      <td>0</td>\n",
       "      <td>0</td>\n",
       "      <td>1</td>\n",
       "    </tr>\n",
       "    <tr>\n",
       "      <th>26</th>\n",
       "      <td>0</td>\n",
       "      <td>0</td>\n",
       "      <td>1</td>\n",
       "      <td>0</td>\n",
       "      <td>0</td>\n",
       "    </tr>\n",
       "    <tr>\n",
       "      <th>27</th>\n",
       "      <td>0</td>\n",
       "      <td>0</td>\n",
       "      <td>0</td>\n",
       "      <td>1</td>\n",
       "      <td>0</td>\n",
       "    </tr>\n",
       "    <tr>\n",
       "      <th>28</th>\n",
       "      <td>1</td>\n",
       "      <td>0</td>\n",
       "      <td>0</td>\n",
       "      <td>0</td>\n",
       "      <td>0</td>\n",
       "    </tr>\n",
       "    <tr>\n",
       "      <th>29</th>\n",
       "      <td>0</td>\n",
       "      <td>0</td>\n",
       "      <td>0</td>\n",
       "      <td>0</td>\n",
       "      <td>1</td>\n",
       "    </tr>\n",
       "    <tr>\n",
       "      <th>...</th>\n",
       "      <td>...</td>\n",
       "      <td>...</td>\n",
       "      <td>...</td>\n",
       "      <td>...</td>\n",
       "      <td>...</td>\n",
       "    </tr>\n",
       "    <tr>\n",
       "      <th>24970</th>\n",
       "      <td>0</td>\n",
       "      <td>0</td>\n",
       "      <td>0</td>\n",
       "      <td>1</td>\n",
       "      <td>0</td>\n",
       "    </tr>\n",
       "    <tr>\n",
       "      <th>24971</th>\n",
       "      <td>1</td>\n",
       "      <td>0</td>\n",
       "      <td>0</td>\n",
       "      <td>0</td>\n",
       "      <td>0</td>\n",
       "    </tr>\n",
       "    <tr>\n",
       "      <th>24972</th>\n",
       "      <td>0</td>\n",
       "      <td>0</td>\n",
       "      <td>1</td>\n",
       "      <td>0</td>\n",
       "      <td>0</td>\n",
       "    </tr>\n",
       "    <tr>\n",
       "      <th>24973</th>\n",
       "      <td>0</td>\n",
       "      <td>0</td>\n",
       "      <td>1</td>\n",
       "      <td>0</td>\n",
       "      <td>0</td>\n",
       "    </tr>\n",
       "    <tr>\n",
       "      <th>24974</th>\n",
       "      <td>0</td>\n",
       "      <td>0</td>\n",
       "      <td>1</td>\n",
       "      <td>0</td>\n",
       "      <td>0</td>\n",
       "    </tr>\n",
       "    <tr>\n",
       "      <th>24975</th>\n",
       "      <td>0</td>\n",
       "      <td>0</td>\n",
       "      <td>0</td>\n",
       "      <td>0</td>\n",
       "      <td>1</td>\n",
       "    </tr>\n",
       "    <tr>\n",
       "      <th>24976</th>\n",
       "      <td>0</td>\n",
       "      <td>1</td>\n",
       "      <td>0</td>\n",
       "      <td>0</td>\n",
       "      <td>0</td>\n",
       "    </tr>\n",
       "    <tr>\n",
       "      <th>24977</th>\n",
       "      <td>0</td>\n",
       "      <td>1</td>\n",
       "      <td>0</td>\n",
       "      <td>0</td>\n",
       "      <td>0</td>\n",
       "    </tr>\n",
       "    <tr>\n",
       "      <th>24978</th>\n",
       "      <td>0</td>\n",
       "      <td>1</td>\n",
       "      <td>0</td>\n",
       "      <td>0</td>\n",
       "      <td>0</td>\n",
       "    </tr>\n",
       "    <tr>\n",
       "      <th>24979</th>\n",
       "      <td>0</td>\n",
       "      <td>0</td>\n",
       "      <td>0</td>\n",
       "      <td>1</td>\n",
       "      <td>0</td>\n",
       "    </tr>\n",
       "    <tr>\n",
       "      <th>24980</th>\n",
       "      <td>0</td>\n",
       "      <td>0</td>\n",
       "      <td>0</td>\n",
       "      <td>1</td>\n",
       "      <td>0</td>\n",
       "    </tr>\n",
       "    <tr>\n",
       "      <th>24981</th>\n",
       "      <td>1</td>\n",
       "      <td>0</td>\n",
       "      <td>0</td>\n",
       "      <td>0</td>\n",
       "      <td>0</td>\n",
       "    </tr>\n",
       "    <tr>\n",
       "      <th>24982</th>\n",
       "      <td>0</td>\n",
       "      <td>0</td>\n",
       "      <td>0</td>\n",
       "      <td>1</td>\n",
       "      <td>0</td>\n",
       "    </tr>\n",
       "    <tr>\n",
       "      <th>24983</th>\n",
       "      <td>0</td>\n",
       "      <td>0</td>\n",
       "      <td>1</td>\n",
       "      <td>0</td>\n",
       "      <td>0</td>\n",
       "    </tr>\n",
       "    <tr>\n",
       "      <th>24984</th>\n",
       "      <td>0</td>\n",
       "      <td>1</td>\n",
       "      <td>0</td>\n",
       "      <td>0</td>\n",
       "      <td>0</td>\n",
       "    </tr>\n",
       "    <tr>\n",
       "      <th>24985</th>\n",
       "      <td>0</td>\n",
       "      <td>0</td>\n",
       "      <td>0</td>\n",
       "      <td>0</td>\n",
       "      <td>1</td>\n",
       "    </tr>\n",
       "    <tr>\n",
       "      <th>24986</th>\n",
       "      <td>1</td>\n",
       "      <td>0</td>\n",
       "      <td>0</td>\n",
       "      <td>0</td>\n",
       "      <td>0</td>\n",
       "    </tr>\n",
       "    <tr>\n",
       "      <th>24987</th>\n",
       "      <td>0</td>\n",
       "      <td>0</td>\n",
       "      <td>1</td>\n",
       "      <td>0</td>\n",
       "      <td>0</td>\n",
       "    </tr>\n",
       "    <tr>\n",
       "      <th>24988</th>\n",
       "      <td>0</td>\n",
       "      <td>1</td>\n",
       "      <td>0</td>\n",
       "      <td>0</td>\n",
       "      <td>0</td>\n",
       "    </tr>\n",
       "    <tr>\n",
       "      <th>24989</th>\n",
       "      <td>0</td>\n",
       "      <td>0</td>\n",
       "      <td>0</td>\n",
       "      <td>1</td>\n",
       "      <td>0</td>\n",
       "    </tr>\n",
       "    <tr>\n",
       "      <th>24990</th>\n",
       "      <td>0</td>\n",
       "      <td>0</td>\n",
       "      <td>0</td>\n",
       "      <td>1</td>\n",
       "      <td>0</td>\n",
       "    </tr>\n",
       "    <tr>\n",
       "      <th>24991</th>\n",
       "      <td>0</td>\n",
       "      <td>0</td>\n",
       "      <td>0</td>\n",
       "      <td>0</td>\n",
       "      <td>1</td>\n",
       "    </tr>\n",
       "    <tr>\n",
       "      <th>24992</th>\n",
       "      <td>0</td>\n",
       "      <td>0</td>\n",
       "      <td>0</td>\n",
       "      <td>1</td>\n",
       "      <td>0</td>\n",
       "    </tr>\n",
       "    <tr>\n",
       "      <th>24993</th>\n",
       "      <td>0</td>\n",
       "      <td>0</td>\n",
       "      <td>1</td>\n",
       "      <td>0</td>\n",
       "      <td>0</td>\n",
       "    </tr>\n",
       "    <tr>\n",
       "      <th>24994</th>\n",
       "      <td>1</td>\n",
       "      <td>0</td>\n",
       "      <td>0</td>\n",
       "      <td>0</td>\n",
       "      <td>0</td>\n",
       "    </tr>\n",
       "    <tr>\n",
       "      <th>24995</th>\n",
       "      <td>0</td>\n",
       "      <td>0</td>\n",
       "      <td>0</td>\n",
       "      <td>1</td>\n",
       "      <td>0</td>\n",
       "    </tr>\n",
       "    <tr>\n",
       "      <th>24996</th>\n",
       "      <td>0</td>\n",
       "      <td>0</td>\n",
       "      <td>1</td>\n",
       "      <td>0</td>\n",
       "      <td>0</td>\n",
       "    </tr>\n",
       "    <tr>\n",
       "      <th>24997</th>\n",
       "      <td>1</td>\n",
       "      <td>0</td>\n",
       "      <td>0</td>\n",
       "      <td>0</td>\n",
       "      <td>0</td>\n",
       "    </tr>\n",
       "    <tr>\n",
       "      <th>24998</th>\n",
       "      <td>0</td>\n",
       "      <td>1</td>\n",
       "      <td>0</td>\n",
       "      <td>0</td>\n",
       "      <td>0</td>\n",
       "    </tr>\n",
       "    <tr>\n",
       "      <th>24999</th>\n",
       "      <td>0</td>\n",
       "      <td>0</td>\n",
       "      <td>0</td>\n",
       "      <td>0</td>\n",
       "      <td>1</td>\n",
       "    </tr>\n",
       "  </tbody>\n",
       "</table>\n",
       "<p>25000 rows × 5 columns</p>\n",
       "</div>"
      ],
      "text/plain": [
       "       5  6  7  8  9\n",
       "0      0  1  0  0  0\n",
       "1      0  0  0  0  1\n",
       "2      0  0  0  0  1\n",
       "3      0  0  1  0  0\n",
       "4      0  0  0  1  0\n",
       "5      0  0  1  0  0\n",
       "6      0  0  1  0  0\n",
       "7      0  0  0  0  1\n",
       "8      0  0  0  0  1\n",
       "9      0  0  0  0  1\n",
       "10     0  1  0  0  0\n",
       "11     0  1  0  0  0\n",
       "12     0  1  0  0  0\n",
       "13     0  1  0  0  0\n",
       "14     1  0  0  0  0\n",
       "15     0  0  0  0  1\n",
       "16     0  0  1  0  0\n",
       "17     1  0  0  0  0\n",
       "18     0  0  1  0  0\n",
       "19     0  0  0  0  1\n",
       "20     1  0  0  0  0\n",
       "21     0  0  1  0  0\n",
       "22     0  0  0  0  1\n",
       "23     1  0  0  0  0\n",
       "24     0  0  0  1  0\n",
       "25     0  0  0  0  1\n",
       "26     0  0  1  0  0\n",
       "27     0  0  0  1  0\n",
       "28     1  0  0  0  0\n",
       "29     0  0  0  0  1\n",
       "...   .. .. .. .. ..\n",
       "24970  0  0  0  1  0\n",
       "24971  1  0  0  0  0\n",
       "24972  0  0  1  0  0\n",
       "24973  0  0  1  0  0\n",
       "24974  0  0  1  0  0\n",
       "24975  0  0  0  0  1\n",
       "24976  0  1  0  0  0\n",
       "24977  0  1  0  0  0\n",
       "24978  0  1  0  0  0\n",
       "24979  0  0  0  1  0\n",
       "24980  0  0  0  1  0\n",
       "24981  1  0  0  0  0\n",
       "24982  0  0  0  1  0\n",
       "24983  0  0  1  0  0\n",
       "24984  0  1  0  0  0\n",
       "24985  0  0  0  0  1\n",
       "24986  1  0  0  0  0\n",
       "24987  0  0  1  0  0\n",
       "24988  0  1  0  0  0\n",
       "24989  0  0  0  1  0\n",
       "24990  0  0  0  1  0\n",
       "24991  0  0  0  0  1\n",
       "24992  0  0  0  1  0\n",
       "24993  0  0  1  0  0\n",
       "24994  1  0  0  0  0\n",
       "24995  0  0  0  1  0\n",
       "24996  0  0  1  0  0\n",
       "24997  1  0  0  0  0\n",
       "24998  0  1  0  0  0\n",
       "24999  0  0  0  0  1\n",
       "\n",
       "[25000 rows x 5 columns]"
      ]
     },
     "execution_count": 81,
     "metadata": {},
     "output_type": "execute_result"
    }
   ],
   "source": [
    "y_train_gt_5"
   ]
  },
  {
   "cell_type": "markdown",
   "metadata": {
    "colab_type": "text",
    "id": "E-6agMpZD9E_"
   },
   "source": [
    "### Print data variables for dataset having classes from 0 to 4\n",
    "Data variables here are referring to X-train, X_test, y_train, y_test of that dataset"
   ]
  },
  {
   "cell_type": "code",
   "execution_count": 82,
   "metadata": {
    "colab": {},
    "colab_type": "code",
    "id": "t8Sm5YzM2orX"
   },
   "outputs": [
    {
     "data": {
      "text/plain": [
       "(25000, 32, 32, 3)"
      ]
     },
     "metadata": {},
     "output_type": "display_data"
    },
    {
     "data": {
      "text/plain": [
       "(25000, 32, 32, 3)"
      ]
     },
     "metadata": {},
     "output_type": "display_data"
    },
    {
     "data": {
      "text/plain": [
       "(25000, 5)"
      ]
     },
     "metadata": {},
     "output_type": "display_data"
    },
    {
     "data": {
      "text/plain": [
       "(25000, 5)"
      ]
     },
     "metadata": {},
     "output_type": "display_data"
    },
    {
     "data": {
      "text/plain": [
       "(5000, 32, 32, 3)"
      ]
     },
     "metadata": {},
     "output_type": "display_data"
    },
    {
     "data": {
      "text/plain": [
       "(5000, 32, 32, 3)"
      ]
     },
     "metadata": {},
     "output_type": "display_data"
    },
    {
     "data": {
      "text/plain": [
       "(5000, 5)"
      ]
     },
     "metadata": {},
     "output_type": "display_data"
    },
    {
     "data": {
      "text/plain": [
       "(5000, 5)"
      ]
     },
     "metadata": {},
     "output_type": "display_data"
    }
   ],
   "source": [
    "display(X_train_gt_5.shape)\n",
    "display(X_train_lt_5.shape)\n",
    "display(y_train_gt_5.shape)\n",
    "display(y_train_lt_5.shape)\n",
    "\n",
    "display(X_test_gt_5.shape)\n",
    "display(X_test_lt_5.shape)\n",
    "display(y_test_gt_5.shape)\n",
    "display(y_test_lt_5.shape)"
   ]
  },
  {
   "cell_type": "code",
   "execution_count": 83,
   "metadata": {},
   "outputs": [
    {
     "data": {
      "text/plain": [
       "<matplotlib.image.AxesImage at 0x138070ef0>"
      ]
     },
     "execution_count": 83,
     "metadata": {},
     "output_type": "execute_result"
    },
    {
     "data": {
      "image/png": "[encoded data removed]",
      "text/plain": [
       "<Figure size 144x144 with 1 Axes>"
      ]
     },
     "metadata": {
      "needs_background": "light"
     },
     "output_type": "display_data"
    }
   ],
   "source": [
    "import matplotlib.pyplot as plt\n",
    "fig = plt.figure(figsize=(2,2))\n",
    "img = X_train[5]\n",
    "plt.imshow(img)"
   ]
  },
  {
   "cell_type": "markdown",
   "metadata": {
    "colab_type": "text",
    "id": "buY4EplOEaLN"
   },
   "source": [
    "### Print data variables for dataset having classes from 5 to 9\n",
    "Data variables here are referring to X-train, X_test, y_train, y_test of that dataset"
   ]
  },
  {
   "cell_type": "code",
   "execution_count": 0,
   "metadata": {
    "colab": {},
    "colab_type": "code",
    "id": "YfnfqV2B2qmW"
   },
   "outputs": [],
   "source": []
  },
  {
   "cell_type": "markdown",
   "metadata": {
    "colab_type": "text",
    "id": "cuOiKWfeybAl"
   },
   "source": [
    "## Build a sequential neural network model which can classify the classes 0 to 4 of CIFAR10 dataset with at least 80% accuracy on test data"
   ]
  },
  {
   "cell_type": "markdown",
   "metadata": {
    "colab_type": "text",
    "id": "Q7JwiBbcE2dL"
   },
   "source": [
    "### Import required libraries"
   ]
  },
  {
   "cell_type": "code",
   "execution_count": 48,
   "metadata": {
    "colab": {},
    "colab_type": "code",
    "id": "5HzxNbiiyoBD"
   },
   "outputs": [],
   "source": [
    "from keras.models import Sequential\n",
    "from keras.layers import Dense, MaxPooling2D, Conv2D,Flatten,Dropout"
   ]
  },
  {
   "cell_type": "markdown",
   "metadata": {
    "colab_type": "text",
    "id": "v2rue0r3E9YK"
   },
   "source": [
    "### Initialize a model and add the required layers"
   ]
  },
  {
   "cell_type": "code",
   "execution_count": 65,
   "metadata": {
    "colab": {},
    "colab_type": "code",
    "id": "3HucP-Qg2ufi"
   },
   "outputs": [],
   "source": [
    "keras.backend.clear_session()\n",
    "model = Sequential()\n",
    "model.add(Conv2D(32, kernel_size=(3,3), activation='relu', input_shape=(32,32,3), name='conv_1'))\n",
    "model.add(MaxPooling2D(pool_size=(2,2), strides=2, name='pool_1'))\n",
    "model.add(Dropout(0.2,name='drop_1'))\n",
    "\n",
    "model.add(Conv2D(64, kernel_size=(3,3), activation='relu', input_shape=(32,32,3), name='conv_2'))\n",
    "model.add(MaxPooling2D(pool_size=(2,2), strides=2, name='pool_2'))\n",
    "model.add(Dropout(0.2, name='drop_2'))\n",
    "model.add(Flatten())\n",
    "model.add(Dense(120, activation='relu', name='dense_1'))\n",
    "\n",
    "model.add(Dense(5, activation='softmax', name='dense_3'))\n",
    "\n",
    "from keras.optimizers import Adam\n",
    "from keras.losses import categorical_crossentropy\n",
    "optimizer = Adam(learning_rate=0.001)\n",
    "model.compile(optimizer=optimizer,loss=categorical_crossentropy, metrics=['accuracy'])"
   ]
  },
  {
   "cell_type": "markdown",
   "metadata": {
    "colab_type": "text",
    "id": "2SUCOn4SFE_H"
   },
   "source": [
    "### Summarize your model"
   ]
  },
  {
   "cell_type": "code",
   "execution_count": 66,
   "metadata": {
    "colab": {},
    "colab_type": "code",
    "id": "BGHKqBkZ2wZn"
   },
   "outputs": [
    {
     "name": "stdout",
     "output_type": "stream",
     "text": [
      "Model: \"sequential_1\"\n",
      "_________________________________________________________________\n",
      "Layer (type)                 Output Shape              Param #   \n",
      "=================================================================\n",
      "conv_1 (Conv2D)              (None, 30, 30, 32)        896       \n",
      "_________________________________________________________________\n",
      "pool_1 (MaxPooling2D)        (None, 15, 15, 32)        0         \n",
      "_________________________________________________________________\n",
      "drop_1 (Dropout)             (None, 15, 15, 32)        0         \n",
      "_________________________________________________________________\n",
      "conv_2 (Conv2D)              (None, 13, 13, 64)        18496     \n",
      "_________________________________________________________________\n",
      "pool_2 (MaxPooling2D)        (None, 6, 6, 64)          0         \n",
      "_________________________________________________________________\n",
      "drop_2 (Dropout)             (None, 6, 6, 64)          0         \n",
      "_________________________________________________________________\n",
      "flatten_1 (Flatten)          (None, 2304)              0         \n",
      "_________________________________________________________________\n",
      "dense_1 (Dense)              (None, 120)               276600    \n",
      "_________________________________________________________________\n",
      "dense_3 (Dense)              (None, 5)                 605       \n",
      "=================================================================\n",
      "Total params: 296,597\n",
      "Trainable params: 296,597\n",
      "Non-trainable params: 0\n",
      "_________________________________________________________________\n"
     ]
    }
   ],
   "source": [
    "model.summary()"
   ]
  },
  {
   "cell_type": "markdown",
   "metadata": {
    "colab_type": "text",
    "id": "8ByO-o9JFJCq"
   },
   "source": [
    "### Compile and fit the model"
   ]
  },
  {
   "cell_type": "code",
   "execution_count": 67,
   "metadata": {
    "colab": {},
    "colab_type": "code",
    "id": "RBgb4RDk21q3"
   },
   "outputs": [
    {
     "name": "stdout",
     "output_type": "stream",
     "text": [
      "Train on 25000 samples, validate on 5000 samples\n",
      "Epoch 1/30\n",
      "25000/25000 [==============================] - 27s 1ms/step - loss: 2.4029 - accuracy: 0.4348 - val_loss: 1.0425 - val_accuracy: 0.5836\n",
      "Epoch 2/30\n",
      "25000/25000 [==============================] - 27s 1ms/step - loss: 1.0198 - accuracy: 0.5855 - val_loss: 0.8877 - val_accuracy: 0.6470\n",
      "Epoch 3/30\n",
      "25000/25000 [==============================] - 26s 1ms/step - loss: 0.9303 - accuracy: 0.6300 - val_loss: 0.9009 - val_accuracy: 0.6636\n",
      "Epoch 4/30\n",
      "25000/25000 [==============================] - 26s 1ms/step - loss: 0.8512 - accuracy: 0.6703 - val_loss: 0.8542 - val_accuracy: 0.6760\n",
      "Epoch 5/30\n",
      "25000/25000 [==============================] - 26s 1ms/step - loss: 0.7888 - accuracy: 0.6970 - val_loss: 0.8295 - val_accuracy: 0.6770\n",
      "Epoch 6/30\n",
      "25000/25000 [==============================] - 27s 1ms/step - loss: 0.7433 - accuracy: 0.7156 - val_loss: 0.7428 - val_accuracy: 0.7198\n",
      "Epoch 7/30\n",
      "25000/25000 [==============================] - 27s 1ms/step - loss: 0.6990 - accuracy: 0.7348 - val_loss: 0.7135 - val_accuracy: 0.7312\n",
      "Epoch 8/30\n",
      "25000/25000 [==============================] - 27s 1ms/step - loss: 0.6611 - accuracy: 0.7488 - val_loss: 0.6968 - val_accuracy: 0.7404\n",
      "Epoch 9/30\n",
      "25000/25000 [==============================] - 27s 1ms/step - loss: 0.6275 - accuracy: 0.7638 - val_loss: 0.6915 - val_accuracy: 0.7426\n",
      "Epoch 10/30\n",
      "25000/25000 [==============================] - 27s 1ms/step - loss: 0.5960 - accuracy: 0.7762 - val_loss: 0.7043 - val_accuracy: 0.7446\n",
      "Epoch 11/30\n",
      "25000/25000 [==============================] - 27s 1ms/step - loss: 0.5726 - accuracy: 0.7848 - val_loss: 0.7312 - val_accuracy: 0.7338\n",
      "Epoch 12/30\n",
      "25000/25000 [==============================] - 27s 1ms/step - loss: 0.5503 - accuracy: 0.7940 - val_loss: 0.6943 - val_accuracy: 0.7542\n",
      "Epoch 13/30\n",
      "25000/25000 [==============================] - 28s 1ms/step - loss: 0.5234 - accuracy: 0.8070 - val_loss: 0.6816 - val_accuracy: 0.7574\n",
      "Epoch 14/30\n",
      "25000/25000 [==============================] - 28s 1ms/step - loss: 0.5021 - accuracy: 0.8148 - val_loss: 0.7189 - val_accuracy: 0.7488\n",
      "Epoch 15/30\n",
      "25000/25000 [==============================] - 28s 1ms/step - loss: 0.4981 - accuracy: 0.8140 - val_loss: 0.6854 - val_accuracy: 0.7518\n",
      "Epoch 16/30\n",
      "25000/25000 [==============================] - 28s 1ms/step - loss: 0.4766 - accuracy: 0.8262 - val_loss: 0.7256 - val_accuracy: 0.7416\n",
      "Epoch 17/30\n",
      "25000/25000 [==============================] - 29s 1ms/step - loss: 0.4559 - accuracy: 0.8328 - val_loss: 0.6839 - val_accuracy: 0.7600\n",
      "Epoch 18/30\n",
      "25000/25000 [==============================] - 28s 1ms/step - loss: 0.4520 - accuracy: 0.8323 - val_loss: 0.7001 - val_accuracy: 0.7624\n",
      "Epoch 19/30\n",
      "25000/25000 [==============================] - 27s 1ms/step - loss: 0.4229 - accuracy: 0.8484 - val_loss: 0.7373 - val_accuracy: 0.7570\n",
      "Epoch 20/30\n",
      "25000/25000 [==============================] - 28s 1ms/step - loss: 0.4043 - accuracy: 0.8542 - val_loss: 0.7203 - val_accuracy: 0.7596\n",
      "Epoch 21/30\n",
      "25000/25000 [==============================] - 28s 1ms/step - loss: 0.4144 - accuracy: 0.8484 - val_loss: 0.7576 - val_accuracy: 0.7514\n",
      "Epoch 22/30\n",
      "25000/25000 [==============================] - 28s 1ms/step - loss: 0.3813 - accuracy: 0.8628 - val_loss: 0.7493 - val_accuracy: 0.7648\n",
      "Epoch 23/30\n",
      "25000/25000 [==============================] - 28s 1ms/step - loss: 0.3705 - accuracy: 0.8660 - val_loss: 0.7578 - val_accuracy: 0.7674\n",
      "Epoch 24/30\n",
      "25000/25000 [==============================] - 28s 1ms/step - loss: 0.3528 - accuracy: 0.8711 - val_loss: 0.7682 - val_accuracy: 0.7568\n",
      "Epoch 25/30\n",
      "25000/25000 [==============================] - 28s 1ms/step - loss: 0.3708 - accuracy: 0.8651 - val_loss: 0.7403 - val_accuracy: 0.7644\n",
      "Epoch 26/30\n",
      "25000/25000 [==============================] - 30s 1ms/step - loss: 0.3605 - accuracy: 0.8712 - val_loss: 0.7496 - val_accuracy: 0.7628\n",
      "Epoch 27/30\n",
      "25000/25000 [==============================] - 30s 1ms/step - loss: 0.3575 - accuracy: 0.8736 - val_loss: 0.7668 - val_accuracy: 0.7678\n",
      "Epoch 28/30\n",
      "25000/25000 [==============================] - 27s 1ms/step - loss: 0.3379 - accuracy: 0.8804 - val_loss: 0.7927 - val_accuracy: 0.7688\n",
      "Epoch 29/30\n",
      "25000/25000 [==============================] - 29s 1ms/step - loss: 0.3280 - accuracy: 0.8840 - val_loss: 0.8144 - val_accuracy: 0.7576\n",
      "Epoch 30/30\n",
      "25000/25000 [==============================] - 27s 1ms/step - loss: 0.3263 - accuracy: 0.8862 - val_loss: 0.8215 - val_accuracy: 0.7650\n"
     ]
    },
    {
     "data": {
      "text/plain": [
       "<keras.callbacks.callbacks.History at 0x1392dccf8>"
      ]
     },
     "execution_count": 67,
     "metadata": {},
     "output_type": "execute_result"
    }
   ],
   "source": [
    "model.fit(X_train_lt_5, y_train_lt_5, validation_data=(X_test_lt_5,y_test_lt_5),\n",
    "         epochs=30, batch_size=32,verbose=1)"
   ]
  },
  {
   "cell_type": "markdown",
   "metadata": {
    "colab_type": "text",
    "id": "S4wvh-JCFNWB"
   },
   "source": [
    "### Evaluate your model"
   ]
  },
  {
   "cell_type": "code",
   "execution_count": 68,
   "metadata": {
    "colab": {},
    "colab_type": "code",
    "id": "iIpZqrtF24fO"
   },
   "outputs": [
    {
     "name": "stdout",
     "output_type": "stream",
     "text": [
      "5000/5000 [==============================] - 1s 243us/step\n"
     ]
    },
    {
     "data": {
      "text/plain": [
       "[0.8215060812950135, 0.7649999856948853]"
      ]
     },
     "execution_count": 68,
     "metadata": {},
     "output_type": "execute_result"
    }
   ],
   "source": [
    "model.evaluate(X_test_lt_5, y_test_lt_5)"
   ]
  },
  {
   "cell_type": "markdown",
   "metadata": {
    "colab_type": "text",
    "id": "woTfNst_ynRG"
   },
   "source": [
    "## In the model which was built above (for classification of classes 0-4 in CIFAR10), make only the dense layers to be trainable and conv layers to be non-trainable"
   ]
  },
  {
   "cell_type": "code",
   "execution_count": 69,
   "metadata": {
    "colab": {},
    "colab_type": "code",
    "id": "FWpSpxEg2zHC"
   },
   "outputs": [],
   "source": [
    "for layer in model.layers:\n",
    "    if('dense' not in layer.name):\n",
    "        layer.trainable = False"
   ]
  },
  {
   "cell_type": "markdown",
   "metadata": {
    "colab_type": "text",
    "id": "CbOAuPQaF00B"
   },
   "source": [
    "### Print in colors"
   ]
  },
  {
   "cell_type": "code",
   "execution_count": 70,
   "metadata": {
    "colab": {},
    "colab_type": "code",
    "id": "o_VCDB3Byb1a"
   },
   "outputs": [
    {
     "name": "stdout",
     "output_type": "stream",
     "text": [
      "\u001b[34mconv_1\u001b[0m\n",
      "\u001b[31mFalse\u001b[0m\n",
      "\u001b[34mpool_1\u001b[0m\n",
      "\u001b[31mFalse\u001b[0m\n",
      "\u001b[34mdrop_1\u001b[0m\n",
      "\u001b[31mFalse\u001b[0m\n",
      "\u001b[34mconv_2\u001b[0m\n",
      "\u001b[31mFalse\u001b[0m\n",
      "\u001b[34mpool_2\u001b[0m\n",
      "\u001b[31mFalse\u001b[0m\n",
      "\u001b[34mdrop_2\u001b[0m\n",
      "\u001b[31mFalse\u001b[0m\n",
      "\u001b[34mflatten_1\u001b[0m\n",
      "\u001b[31mFalse\u001b[0m\n",
      "\u001b[34mdense_1\u001b[0m\n",
      "\u001b[31mTrue\u001b[0m\n",
      "\u001b[34mdense_3\u001b[0m\n",
      "\u001b[31mTrue\u001b[0m\n"
     ]
    }
   ],
   "source": [
    "#Module to print colourful statements\n",
    "from termcolor import colored\n",
    "\n",
    "#Check which layers have been frozen \n",
    "for layer in model.layers:\n",
    "  print (colored(layer.name, 'blue'))\n",
    "  print (colored(layer.trainable, 'red'))"
   ]
  },
  {
   "cell_type": "markdown",
   "metadata": {
    "colab_type": "text",
    "id": "1-uUPqWpyeyX"
   },
   "source": [
    "## Utilize the the model trained on CIFAR 10 (classes 0 to 4) to classify the classes 5 to 9 of CIFAR 10  (Use Transfer Learning) <br>\n",
    "Achieve an accuracy of more than 85% on test data"
   ]
  },
  {
   "cell_type": "code",
   "execution_count": 84,
   "metadata": {
    "colab": {},
    "colab_type": "code",
    "id": "szHjJgDvyfCt"
   },
   "outputs": [
    {
     "name": "stdout",
     "output_type": "stream",
     "text": [
      "Train on 25000 samples, validate on 5000 samples\n",
      "Epoch 1/30\n",
      "25000/25000 [==============================] - 10s 415us/step - loss: 0.9762 - accuracy: 0.6616 - val_loss: 0.6721 - val_accuracy: 0.7540\n",
      "Epoch 2/30\n",
      "25000/25000 [==============================] - 11s 430us/step - loss: 0.6380 - accuracy: 0.7723 - val_loss: 0.5908 - val_accuracy: 0.7926\n",
      "Epoch 3/30\n",
      "25000/25000 [==============================] - 10s 405us/step - loss: 0.5572 - accuracy: 0.8039 - val_loss: 0.5551 - val_accuracy: 0.8064\n",
      "Epoch 4/30\n",
      "25000/25000 [==============================] - 10s 416us/step - loss: 0.5122 - accuracy: 0.8179 - val_loss: 0.5363 - val_accuracy: 0.8110\n",
      "Epoch 5/30\n",
      "25000/25000 [==============================] - 10s 414us/step - loss: 0.4762 - accuracy: 0.8304 - val_loss: 0.5344 - val_accuracy: 0.8090\n",
      "Epoch 6/30\n",
      "25000/25000 [==============================] - 11s 421us/step - loss: 0.4509 - accuracy: 0.8397 - val_loss: 0.5298 - val_accuracy: 0.8150\n",
      "Epoch 7/30\n",
      "25000/25000 [==============================] - 11s 423us/step - loss: 0.4283 - accuracy: 0.8471 - val_loss: 0.5285 - val_accuracy: 0.8232\n",
      "Epoch 8/30\n",
      "25000/25000 [==============================] - 11s 420us/step - loss: 0.4033 - accuracy: 0.8580 - val_loss: 0.5263 - val_accuracy: 0.8184\n",
      "Epoch 9/30\n",
      "25000/25000 [==============================] - 12s 464us/step - loss: 0.3907 - accuracy: 0.8590 - val_loss: 0.5396 - val_accuracy: 0.8180\n",
      "Epoch 10/30\n",
      "25000/25000 [==============================] - 11s 444us/step - loss: 0.3770 - accuracy: 0.8639 - val_loss: 0.5453 - val_accuracy: 0.8188\n",
      "Epoch 11/30\n",
      "25000/25000 [==============================] - 11s 455us/step - loss: 0.3604 - accuracy: 0.8706 - val_loss: 0.5319 - val_accuracy: 0.8230\n",
      "Epoch 12/30\n",
      "25000/25000 [==============================] - 11s 447us/step - loss: 0.3507 - accuracy: 0.8734 - val_loss: 0.5434 - val_accuracy: 0.8194\n",
      "Epoch 13/30\n",
      "25000/25000 [==============================] - 12s 467us/step - loss: 0.3367 - accuracy: 0.8800 - val_loss: 0.5411 - val_accuracy: 0.8208\n",
      "Epoch 14/30\n",
      "25000/25000 [==============================] - 13s 510us/step - loss: 0.3255 - accuracy: 0.8835 - val_loss: 0.5533 - val_accuracy: 0.8218\n",
      "Epoch 15/30\n",
      "25000/25000 [==============================] - 13s 529us/step - loss: 0.3136 - accuracy: 0.8891 - val_loss: 0.5604 - val_accuracy: 0.8084\n",
      "Epoch 16/30\n",
      "25000/25000 [==============================] - 12s 486us/step - loss: 0.3105 - accuracy: 0.8894 - val_loss: 0.5608 - val_accuracy: 0.8238\n",
      "Epoch 17/30\n",
      "25000/25000 [==============================] - 12s 461us/step - loss: 0.3043 - accuracy: 0.8918 - val_loss: 0.5592 - val_accuracy: 0.8248\n",
      "Epoch 18/30\n",
      "25000/25000 [==============================] - 11s 442us/step - loss: 0.2951 - accuracy: 0.8968 - val_loss: 0.5777 - val_accuracy: 0.8218\n",
      "Epoch 19/30\n",
      "25000/25000 [==============================] - 12s 474us/step - loss: 0.2887 - accuracy: 0.8978 - val_loss: 0.5671 - val_accuracy: 0.8274\n",
      "Epoch 20/30\n",
      "25000/25000 [==============================] - 11s 444us/step - loss: 0.2785 - accuracy: 0.9015 - val_loss: 0.6008 - val_accuracy: 0.8198\n",
      "Epoch 21/30\n",
      "25000/25000 [==============================] - 11s 449us/step - loss: 0.2751 - accuracy: 0.9026 - val_loss: 0.5953 - val_accuracy: 0.8238\n",
      "Epoch 22/30\n",
      "25000/25000 [==============================] - 11s 460us/step - loss: 0.2673 - accuracy: 0.9058 - val_loss: 0.5878 - val_accuracy: 0.8246\n",
      "Epoch 23/30\n",
      "25000/25000 [==============================] - 12s 478us/step - loss: 0.2588 - accuracy: 0.9100 - val_loss: 0.5891 - val_accuracy: 0.8206\n",
      "Epoch 24/30\n",
      "25000/25000 [==============================] - 11s 460us/step - loss: 0.2575 - accuracy: 0.9096 - val_loss: 0.6025 - val_accuracy: 0.8188\n",
      "Epoch 25/30\n",
      "25000/25000 [==============================] - 12s 461us/step - loss: 0.2553 - accuracy: 0.9107 - val_loss: 0.5962 - val_accuracy: 0.8268\n",
      "Epoch 26/30\n",
      "25000/25000 [==============================] - 12s 463us/step - loss: 0.2450 - accuracy: 0.9147 - val_loss: 0.6092 - val_accuracy: 0.8276\n",
      "Epoch 27/30\n",
      "25000/25000 [==============================] - 12s 466us/step - loss: 0.2354 - accuracy: 0.9179 - val_loss: 0.6202 - val_accuracy: 0.8202\n",
      "Epoch 28/30\n",
      "25000/25000 [==============================] - 12s 462us/step - loss: 0.2358 - accuracy: 0.9183 - val_loss: 0.6187 - val_accuracy: 0.8216\n",
      "Epoch 29/30\n",
      "25000/25000 [==============================] - 12s 464us/step - loss: 0.2336 - accuracy: 0.9187 - val_loss: 0.6062 - val_accuracy: 0.8188\n",
      "Epoch 30/30\n",
      "25000/25000 [==============================] - 12s 464us/step - loss: 0.2254 - accuracy: 0.9210 - val_loss: 0.6582 - val_accuracy: 0.8226\n"
     ]
    },
    {
     "data": {
      "text/plain": [
       "<keras.callbacks.callbacks.History at 0x138095710>"
      ]
     },
     "execution_count": 84,
     "metadata": {},
     "output_type": "execute_result"
    }
   ],
   "source": [
    "model.compile(optimizer=optimizer,loss=categorical_crossentropy, metrics=['accuracy'])\n",
    "model.fit(X_train_gt_5, y_train_gt_5, validation_data=(X_test_gt_5,y_test_gt_5),\n",
    "         epochs=30, batch_size=32,verbose=1)"
   ]
  },
  {
   "cell_type": "code",
   "execution_count": null,
   "metadata": {
    "colab": {},
    "colab_type": "code",
    "id": "8_Hd90rP4L1n"
   },
   "outputs": [],
   "source": []
  },
  {
   "cell_type": "code",
   "execution_count": null,
   "metadata": {},
   "outputs": [],
   "source": []
  }
 ],
 "metadata": {
  "colab": {
   "name": "practice_exercise_questions_week2_cv_aiml_online",
   "provenance": [],
   "version": "0.3.2"
  },
  "kernelspec": {
   "display_name": "Python 3",
   "language": "python",
   "name": "python3"
  },
  "language_info": {
   "codemirror_mode": {
    "name": "ipython",
    "version": 3
   },
   "file_extension": ".py",
   "mimetype": "text/x-python",
   "name": "python",
   "nbconvert_exporter": "python",
   "pygments_lexer": "ipython3",
   "version": "3.7.3"
  }
 },
 "nbformat": 4,
 "nbformat_minor": 1
}
