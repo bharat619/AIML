{
 "cells": [
  {
   "cell_type": "markdown",
   "metadata": {
    "colab_type": "text",
    "id": "WPJHV_CIn6Bg"
   },
   "source": [
    "# U - Net\n",
    "## Problem: \n",
    "\n",
    "Seismic data is collected using reflection seismology, or seismic reflection. The method requires a controlled seismic source of energy, such as compressed air or a seismic vibrator, and sensors record the reflection from rock interfaces within the subsurface. The recorded data is then processed to create a 3D view of earth’s interior. Reflection seismology is similar to X-ray, sonar and echolocation.\n",
    "\n",
    "A seismic image is produced from imaging the reflection coming from rock boundaries. The seismic image shows the boundaries between different rock types. In theory, the strength of reflection is directly proportional to the difference in the physical properties on either sides of the interface. While seismic images show rock boundaries, they don't say much about the rock themselves; some rocks are easy to identify while some are difficult.\n",
    "\n",
    "There are several areas of the world where there are vast quantities of salt in the subsurface. One of the challenges of seismic imaging is to identify the part of subsurface which is salt. Salt has characteristics that makes it both simple and hard to identify. Salt density is usually 2.14 g/cc which is lower than most surrounding rocks. The seismic velocity of salt is 4.5 km/sec, which is usually faster than its surrounding rocks. This difference creates a sharp reflection at the salt-sediment interface. Usually salt is an amorphous rock without much internal structure. This means that there is typically not much reflectivity inside the salt, unless there are sediments trapped inside it. The unusually high seismic velocity of salt can create problems with seismic imaging.\n",
    "\n",
    "### Data\n",
    "The data is a set of images chosen at various locations chosen at random in the subsurface. The images are 101 x 101 pixels and each pixel is classified as either salt or sediment. In addition to the seismic images, the depth of the imaged location is provided for each image. The goal of the competition is to segment regions that contain salt.\n",
    "\n",
    "#### Source: \n",
    "https://www.kaggle.com/c/tgs-salt-identification-challenge\n",
    "\n",
    "\n",
    "### Note: \n",
    "Accept the terms and download data from the above link"
   ]
  },
  {
   "cell_type": "markdown",
   "metadata": {
    "colab_type": "text",
    "id": "3OKrTNUtn-od"
   },
   "source": [
    "### Aim: \n",
    "\n",
    "Implement U-Net neural model architecture in keras to solve this problem.\n",
    "\n",
    "\n",
    "In this, you are asked to segment salt deposits beneath the Earth’s surface. Given a set of seismic images that are 101 x 101 pixels each and each pixel we need to classify as either salt or sediment. Our goal is to segment regions that contain salt. A seismic image is produced from imaging the reflection coming from rock boundaries. The seismic image shows the boundaries between different rock types. "
   ]
  },
  {
   "cell_type": "markdown",
   "metadata": {
    "colab_type": "text",
    "id": "ZUOAF8WWoA1x"
   },
   "source": [
    "### Broad Steps:\n",
    "\n",
    "1. Download the dataset\n",
    "2. Upload to Drive\n",
    "3. Import from drive to colab\n",
    "4. Load the images and create training data.\n",
    "5. Build U-net Model\n",
    "6. Train your model.\n",
    "7. Check the validation accuracy and plot sample."
   ]
  },
  {
   "cell_type": "code",
   "execution_count": 0,
   "metadata": {
    "colab": {},
    "colab_type": "code",
    "id": "b7TLNzB6oDep"
   },
   "outputs": [],
   "source": [
    "#Importing necessary libraries\n",
    "import os\n",
    "import random\n",
    "import pandas as pd\n",
    "import numpy as np\n",
    "import matplotlib.pyplot as plt\n",
    "plt.style.use(\"ggplot\")\n",
    "%matplotlib inline\n",
    "\n",
    "from tqdm import tqdm_notebook, tnrange\n",
    "from itertools import chain\n",
    "from skimage.io import imread, imshow, concatenate_images\n",
    "from skimage.transform import resize\n",
    "from skimage.morphology import label\n",
    "from sklearn.model_selection import train_test_split\n",
    "\n",
    "import tensorflow as tf\n",
    "from keras.models import Model, load_model\n",
    "from keras.layers import Input, BatchNormalization, Activation, Dense, Dropout\n",
    "from keras.layers.core import Lambda, RepeatVector, Reshape\n",
    "from keras.layers.convolutional import Conv2D, Conv2DTranspose\n",
    "from keras.layers.pooling import MaxPooling2D, GlobalMaxPool2D\n",
    "from keras.layers.merge import concatenate, add\n",
    "from keras.callbacks import EarlyStopping, ModelCheckpoint, ReduceLROnPlateau\n",
    "from keras.optimizers import Adam\n",
    "from keras.preprocessing.image import ImageDataGenerator, array_to_img, img_to_array, load_img"
   ]
  },
  {
   "cell_type": "code",
   "execution_count": 0,
   "metadata": {
    "colab": {},
    "colab_type": "code",
    "id": "6qiCvW9coD_E"
   },
   "outputs": [],
   "source": [
    "#Mount drive\n",
    "from google.colab import drive\n",
    "drive.mount('/content/drive/')"
   ]
  },
  {
   "cell_type": "markdown",
   "metadata": {
    "colab_type": "text",
    "id": "B4IaUgploION"
   },
   "source": [
    "### 1.Set your project path where you have your data and related files for this lab."
   ]
  },
  {
   "cell_type": "code",
   "execution_count": 0,
   "metadata": {
    "colab": {},
    "colab_type": "code",
    "id": "0tPkbXWyoK-z"
   },
   "outputs": [],
   "source": [
    "project_path = \"drive/My Drive/Colab Notebooks/Unet/\""
   ]
  },
  {
   "cell_type": "markdown",
   "metadata": {
    "colab_type": "text",
    "id": "g15qSXZSoSuL"
   },
   "source": [
    "### 2. Set the necessary parameters"
   ]
  },
  {
   "cell_type": "markdown",
   "metadata": {
    "colab_type": "text",
    "id": "Dzrz2Or_HdxR"
   },
   "source": [
    "## Setup"
   ]
  },
  {
   "cell_type": "code",
   "execution_count": 0,
   "metadata": {
    "colab": {},
    "colab_type": "code",
    "id": "3IEaEnuzoW2a"
   },
   "outputs": [],
   "source": [
    "im_width = 128      #width of your train image\n",
    "im_height = 128     #hight of your train image\n",
    "#border =        \n",
    "path_train = project_path + 'train/'   #Path for your train data"
   ]
  },
  {
   "cell_type": "code",
   "execution_count": 0,
   "metadata": {
    "colab": {},
    "colab_type": "code",
    "id": "uZQyyn55oKW-"
   },
   "outputs": [],
   "source": [
    "import os\n",
    "os.listdir('drive/My Drive/Colab Notebooks/Unet/train')"
   ]
  },
  {
   "cell_type": "markdown",
   "metadata": {
    "colab_type": "text",
    "id": "Q3IoS6RCoZPh"
   },
   "source": [
    "# 3. Make directory for train data at in your project/lab folder.\n",
    "\n",
    "Hint - use !mkdir function."
   ]
  },
  {
   "cell_type": "code",
   "execution_count": 0,
   "metadata": {
    "colab": {},
    "colab_type": "code",
    "id": "MRPpQ2QrocBQ"
   },
   "outputs": [],
   "source": [
    "!mkdir 'drive/My Drive/Colab Notebooks/Unet/train'"
   ]
  },
  {
   "cell_type": "markdown",
   "metadata": {
    "colab_type": "text",
    "id": "fRbC22DGoeb7"
   },
   "source": [
    "# 4. Extract your train images to the train directory you have just created above. \n",
    "train.zip and test.zip files available at your google drive/local system.\n",
    "\n",
    "As a good practice - Upload or copy the data at your project path folder.\n",
    "\n",
    "Make sure you are providing the right project_path."
   ]
  },
  {
   "cell_type": "code",
   "execution_count": 0,
   "metadata": {
    "colab": {},
    "colab_type": "code",
    "id": "5BtPznFbogjG"
   },
   "outputs": [],
   "source": [
    "#For simplicity we have added the required code here.\n",
    "from zipfile import ZipFile\n",
    "\n",
    "with ZipFile(project_path + 'train.zip', 'r') as zf:\n",
    "  zf.extractall('train/')\n"
   ]
  },
  {
   "cell_type": "code",
   "execution_count": 0,
   "metadata": {
    "colab": {},
    "colab_type": "code",
    "id": "7YZ2prb9oiX4"
   },
   "outputs": [],
   "source": [
    "#The train file have both images and masks with the same names_ids."
   ]
  },
  {
   "cell_type": "markdown",
   "metadata": {
    "colab_type": "text",
    "id": "iwCH81ZWomLA"
   },
   "source": [
    "### 5. Get the list of names of images and masks and name the list imagelist and masklist.\n",
    "\n",
    "Hint - Use os.listdir() funtions."
   ]
  },
  {
   "cell_type": "code",
   "execution_count": 0,
   "metadata": {
    "colab": {},
    "colab_type": "code",
    "id": "Clt5ya_JoplC"
   },
   "outputs": [],
   "source": [
    "imagelist = os.listdir('drive/My Drive/Colab Notebooks/Unet/tgs-salt-identification-challenge/images')\n",
    "masklist = os.listdir('drive/My Drive/Colab Notebooks/Unet/tgs-salt-identification-challenge/masks')"
   ]
  },
  {
   "cell_type": "code",
   "execution_count": 0,
   "metadata": {
    "colab": {},
    "colab_type": "code",
    "id": "-vHPQoHVoppK"
   },
   "outputs": [],
   "source": [
    "#Test your list names by printing some of the names as given below.\n",
    "print(imagelist[-1])\n",
    "print(masklist[-1])\n",
    "print(imagelist[10])\n",
    "print(masklist[10])"
   ]
  },
  {
   "cell_type": "markdown",
   "metadata": {
    "colab_type": "text",
    "id": "1t8raFq5ous8"
   },
   "source": [
    "# 6. Read and test your images and respective masks.\n",
    "\n",
    "Hint -\n",
    "\n",
    "import  matplotlib.pyplot as plt\n",
    "\n",
    "import cv2\n",
    "\n",
    "plt.imshow(cv2.imread('path of image'))\n",
    "\n",
    "plt.imshow(cv2.imread('path of mask'))\n"
   ]
  },
  {
   "cell_type": "code",
   "execution_count": 0,
   "metadata": {
    "colab": {},
    "colab_type": "code",
    "id": "1gGpCSPpovvH"
   },
   "outputs": [],
   "source": [
    "import  matplotlib.pyplot as plt\n",
    "import cv2\n",
    "\n",
    "plt.imshow(cv2.imread('./images/{}'.format(imagelist[10])))\n",
    "plt.imshow(cv2.imread('./images/{}'.format(masklist[10])))"
   ]
  },
  {
   "cell_type": "markdown",
   "metadata": {
    "colab_type": "text",
    "id": "_qFeroMNoylc"
   },
   "source": [
    "# 7. Create your training data.\n",
    "\n",
    "Hints - \n",
    "\n",
    "image_path = os.path.join(project_path +'path of your image directory' +n )\n",
    "\n",
    "mask_path = os.path.join(project_path +'path of your mask directory'+n )"
   ]
  },
  {
   "cell_type": "code",
   "execution_count": 0,
   "metadata": {
    "colab": {},
    "colab_type": "code",
    "id": "gJbRVbL4o1qT"
   },
   "outputs": [],
   "source": [
    "# Get and resize train images and masks\n",
    "def get_data(train=True):\n",
    "    #ids = next(os.walk(\"train/images\"))[2]\n",
    "    X = np.zeros((len(imagelist), im_height, im_width, 1), dtype=np.float32)\n",
    "    y = np.zeros((len(masklist), im_height, im_width, 1), dtype=np.float32)\n",
    "    for n in imagelist:\n",
    "        k = imagelist.index(n)\n",
    "        image_path = os.path.join(project_path +'tgs-salt-identification-challenge/images/'+n )\n",
    "        mask_path = os.path.join(project_path +'tgs-salt-identification-challenge/masks/'+n )\n",
    "        \n",
    "        # Load images\n",
    "        img = cv2.imread(image_path, 0)\n",
    "        resized_img = cv2.resize(img, (128, 128), interpolation = cv2.INTER_AREA)\n",
    "        \n",
    "\n",
    "        # Load masks\n",
    "        if train:\n",
    "            mask = cv2.imread(mask_path, 0)\n",
    "            resized_mask = cv2.resize(mask, (128, 128), interpolation = cv2.INTER_AREA)\n",
    "            resized_mask = np.reshape(resized_mask, (128,128,1))\n",
    "            \n",
    "           \n",
    "\n",
    "        # Save images\n",
    "        X[k, ..., 0] = resized_img.squeeze() / 255\n",
    "        if train:\n",
    "            y[k] = resized_mask/255\n",
    "    print('Done!')\n",
    "    if train:\n",
    "        return X, y\n",
    "    else:\n",
    "        return X\n",
    "    \n",
    "X, y = get_data(train=True)\n"
   ]
  },
  {
   "cell_type": "code",
   "execution_count": 0,
   "metadata": {
    "colab": {},
    "colab_type": "code",
    "id": "kt6zXJPHo35y"
   },
   "outputs": [],
   "source": [
    "# Split train and valid\n",
    "from sklearn.model_selection import train_test_split\n",
    "X_train, X_valid, y_train, y_valid = train_test_split(X, y, test_size=0.15, random_state=2019)"
   ]
  },
  {
   "cell_type": "code",
   "execution_count": 0,
   "metadata": {
    "colab": {},
    "colab_type": "code",
    "id": "mh_SRFGro6wr"
   },
   "outputs": [],
   "source": [
    "## Test your data whether it looks fine - Random check\n",
    "import random \n",
    "# Check if training data looks all right\n",
    "ix = random.randint(0, len(X_train))\n",
    "has_mask = y_train[ix].max() > 0\n",
    "\n",
    "fig, ax = plt.subplots(1, 2, figsize=(10, 10))\n",
    "\n",
    "ax[0].imshow(X_train[ix, ..., 0], cmap='seismic', interpolation='bilinear')\n",
    "if has_mask:\n",
    "    ax[0].contour(y_train[ix].squeeze(), colors='k', levels=[0.5])\n",
    "ax[0].set_title('Seismic')\n",
    "\n",
    "ax[1].imshow(y_train[ix].squeeze(), interpolation='bilinear', cmap='gray')\n",
    "ax[1].set_title('Salt');\n",
    "\n",
    "\n"
   ]
  },
  {
   "cell_type": "markdown",
   "metadata": {
    "colab_type": "text",
    "id": "em5jGV93o8qR"
   },
   "source": [
    "### 8. Define loss and dice_coeff function."
   ]
  },
  {
   "cell_type": "code",
   "execution_count": 0,
   "metadata": {
    "colab": {},
    "colab_type": "code",
    "id": "Uyxf8uhQpA78"
   },
   "outputs": [],
   "source": [
    "def dice_coefficient(y_true, y_pred):\n",
    "    numerator = 2 * tf.reduce_sum(y_true * y_pred)\n",
    "    denominator = tf.reduce_sum(y_true + y_pred)\n",
    "\n",
    "    return numerator / (denominator + tf.keras.backend.epsilon())\n",
    "\n",
    "\n",
    "def loss(y_true, y_pred):\n",
    "    return binary_crossentropy(y_true, y_pred) - tf.log(dice_coefficient(y_true, y_pred) + tf.keras.backend.epsilon())"
   ]
  },
  {
   "cell_type": "markdown",
   "metadata": {
    "colab_type": "text",
    "id": "-ofKZA-9pDVJ"
   },
   "source": [
    "### 9. Build and compile UNet Model for your data.\n",
    "\n",
    "Hint - \n",
    "You can install and use segmentation models from this github repository.\n",
    "\n",
    "#Install segmentation models\n",
    "\n",
    "!pip install git+https://github.com/qubvel/segmentation_models"
   ]
  },
  {
   "cell_type": "code",
   "execution_count": 0,
   "metadata": {
    "colab": {},
    "colab_type": "code",
    "id": "456utznCpGco"
   },
   "outputs": [],
   "source": [
    "#Import libraries\n",
    "from segmentation_models import Unet\n",
    "from segmentation_models.backbones import get_preprocessing\n",
    "from segmentation_models.losses import bce_jaccard_loss\n",
    "from segmentation_models.metrics import iou_score\n",
    "\n",
    "from keras.layers import Input, Conv2D, Reshape\n",
    "from keras.models import Model"
   ]
  },
  {
   "cell_type": "code",
   "execution_count": 0,
   "metadata": {
    "colab": {},
    "colab_type": "code",
    "id": "eL1lRlXDpIHl"
   },
   "outputs": [],
   "source": [
    "model = Unet(backbone_name='resnet34', encoder_weights=None, input_shape=(None, None, 1))"
   ]
  },
  {
   "cell_type": "code",
   "execution_count": 0,
   "metadata": {
    "colab": {},
    "colab_type": "code",
    "id": "cA4f4oYYpJA6"
   },
   "outputs": [],
   "source": [
    "model.compile(optimizer='Adam', loss=loss, metrics=[dice_coefficient])"
   ]
  },
  {
   "cell_type": "code",
   "execution_count": 0,
   "metadata": {
    "colab": {},
    "colab_type": "code",
    "id": "1OJoFksrKqdj"
   },
   "outputs": [],
   "source": [
    "model.summary()"
   ]
  },
  {
   "cell_type": "code",
   "execution_count": 0,
   "metadata": {
    "colab": {},
    "colab_type": "code",
    "id": "FEe3Lw3dK2vu"
   },
   "outputs": [],
   "source": [
    "BACKBONE = 'resnet34'\n",
    "preprocess_input = get_preprocessing(BACKBONE)\n",
    "X_train = preprocess_input(X_train)\n",
    "X_valid = preprocess_input(X_valid)"
   ]
  },
  {
   "cell_type": "markdown",
   "metadata": {
    "colab_type": "text",
    "id": "6UYvb8OdpLV5"
   },
   "source": [
    "### 10. Fit your model using model.fit function.\n",
    "Hint - As it might take long time to run. Run it for only 1 or 2 epochs."
   ]
  },
  {
   "cell_type": "code",
   "execution_count": 0,
   "metadata": {
    "colab": {},
    "colab_type": "code",
    "id": "-jad9vfmLbrG"
   },
   "outputs": [],
   "source": [
    "#I stopped it at half epoch to save time.\n",
    "model.fit(\n",
    "    x=X_train,\n",
    "    y=y_train,\n",
    "    batch_size=16,    \n",
    "    epochs=10,\n",
    "    validation_data=(X_valid, y_valid)\n",
    ")"
   ]
  },
  {
   "cell_type": "markdown",
   "metadata": {
    "colab_type": "text",
    "id": "iH34vMq9pSnh"
   },
   "source": [
    "### 11.Predict on val set using model.predict funtion and store in preds_val variable.\n",
    "\n"
   ]
  },
  {
   "cell_type": "code",
   "execution_count": 0,
   "metadata": {
    "colab": {},
    "colab_type": "code",
    "id": "FymN5QpopXW-"
   },
   "outputs": [],
   "source": [
    "preds_val = model.predict(X_valid, verbose=1)"
   ]
  },
  {
   "cell_type": "code",
   "execution_count": 0,
   "metadata": {
    "colab": {},
    "colab_type": "code",
    "id": "uKkpE3vEpXi8"
   },
   "outputs": [],
   "source": [
    "#Get the threshold predictions to look at refined results.\n",
    "preds_val_t = (preds_val > 0.5).astype(np.uint8)"
   ]
  },
  {
   "cell_type": "code",
   "execution_count": 0,
   "metadata": {
    "colab": {},
    "colab_type": "code",
    "id": "Pyn3RyCRpaRH"
   },
   "outputs": [],
   "source": [
    "#Plot a sample\n",
    "def plot_sample(X, y, preds, binary_preds, ix=None):\n",
    "    if ix is None:\n",
    "        ix = random.randint(0, len(X))\n",
    "\n",
    "    has_mask = y[ix].max() > 0\n",
    "\n",
    "    fig, ax = plt.subplots(1, 4, figsize=(20, 10))\n",
    "    ax[0].imshow(X[ix, ..., 0], cmap='seismic')\n",
    "    if has_mask:\n",
    "        ax[0].contour(y[ix].squeeze(), colors='k', levels=[0.5])\n",
    "    ax[0].set_title('Seismic')\n",
    "\n",
    "    ax[1].imshow(y[ix].squeeze())\n",
    "    ax[1].set_title('Salt')\n",
    "\n",
    "    ax[2].imshow(preds[ix].squeeze(), vmin=0, vmax=1)\n",
    "    if has_mask:\n",
    "        ax[2].contour(y[ix].squeeze(), colors='k', levels=[0.5])\n",
    "    ax[2].set_title('Salt Predicted')\n",
    "    \n",
    "    ax[3].imshow(binary_preds[ix].squeeze(), vmin=0, vmax=1)\n",
    "    if has_mask:\n",
    "        ax[3].contour(y[ix].squeeze(), colors='k', levels=[0.5])\n",
    "    ax[3].set_title('Salt Predicted binary');"
   ]
  },
  {
   "cell_type": "code",
   "execution_count": 0,
   "metadata": {
    "colab": {},
    "colab_type": "code",
    "id": "s_h5fcgYpbyR"
   },
   "outputs": [],
   "source": [
    "# Check if valid data looks all right\n",
    "plot_sample(X_valid, y_valid, preds_val, preds_val_t, ix=15)"
   ]
  },
  {
   "cell_type": "markdown",
   "metadata": {
    "colab_type": "text",
    "id": "oasnhlaDpeU0"
   },
   "source": [
    "If you are getting good results- Congratulations.\n",
    "If you are not, try to explore what might be the reason."
   ]
  },
  {
   "cell_type": "markdown",
   "metadata": {
    "colab_type": "text",
    "id": "yllJR0PQpm4M"
   },
   "source": [
    "# Text generation using a RNN"
   ]
  },
  {
   "cell_type": "markdown",
   "metadata": {
    "colab_type": "text",
    "id": "2W6g03QsptwG"
   },
   "source": [
    "Given a sequence of words from this data, train a model to predict the next word in the sequence. Longer sequences of text can be generated by calling the model repeatedly."
   ]
  },
  {
   "cell_type": "markdown",
   "metadata": {
    "colab_type": "text",
    "id": "hbd3E0IuHwjz"
   },
   "source": [
    "**Mount your Google Drive**"
   ]
  },
  {
   "cell_type": "code",
   "execution_count": 0,
   "metadata": {
    "colab": {},
    "colab_type": "code",
    "id": "Dikrw1ylHtAL"
   },
   "outputs": [],
   "source": [
    "from google.colab import drive\n",
    "drive.mount('/content/drive/')"
   ]
  },
  {
   "cell_type": "code",
   "execution_count": 0,
   "metadata": {
    "colab": {},
    "colab_type": "code",
    "id": "9-65VVnWO_xo"
   },
   "outputs": [],
   "source": [
    "import os\n",
    "os.chdir('/content/drive/My Drive/NLP/text_generation/oscar_wilde')"
   ]
  },
  {
   "cell_type": "markdown",
   "metadata": {
    "colab_type": "text",
    "id": "fnIX_mLXHdxS"
   },
   "source": [
    "### Import Keras and other libraries"
   ]
  },
  {
   "cell_type": "code",
   "execution_count": 0,
   "metadata": {
    "colab": {},
    "colab_type": "code",
    "id": "0TmrQuvpHdxU"
   },
   "outputs": [],
   "source": [
    "import glob\n",
    "\n",
    "from sklearn.utils import shuffle\n",
    "import numpy as np\n",
    "\n",
    "from keras.preprocessing.text import Tokenizer\n",
    "from keras.models import Sequential, load_model\n",
    "from keras.layers import LSTM, Dense, Dropout, Embedding, Masking, Bidirectional\n",
    "from keras.optimizers import Adam\n",
    "from keras import backend"
   ]
  },
  {
   "cell_type": "markdown",
   "metadata": {
    "colab_type": "text",
    "id": "zKBXQflGlPjG"
   },
   "source": [
    "## Download data\n",
    "Data is collected from http://www.gutenberg.org\n",
    "\n",
    "Go to this link to download the collected data\n",
    "https://github.com/partoftheorigin/text-generation-datasets/tree/master/oscar_wilde"
   ]
  },
  {
   "cell_type": "markdown",
   "metadata": {
    "colab_type": "text",
    "id": "s321mV4DHdxZ"
   },
   "source": [
    "### Load the Oscar Wilde dataset\n",
    "\n",
    "Store all the \".txt\" file names in a list"
   ]
  },
  {
   "cell_type": "code",
   "execution_count": 0,
   "metadata": {
    "colab": {},
    "colab_type": "code",
    "id": "VUanlzNJHdxa"
   },
   "outputs": [],
   "source": [
    "filelist = glob.glob(\"./data/*.txt\")"
   ]
  },
  {
   "cell_type": "markdown",
   "metadata": {
    "colab_type": "text",
    "id": "glr4hv6uZkL-"
   },
   "source": [
    "### Read the data\n",
    "\n",
    "Read contents of every file from the list and append the text in a new list"
   ]
  },
  {
   "cell_type": "code",
   "execution_count": 0,
   "metadata": {
    "colab": {},
    "colab_type": "code",
    "id": "zLrMMjrkRt9x"
   },
   "outputs": [],
   "source": [
    "text_data = []\n",
    "for file in filelist:\n",
    "    with open(file, \"r\") as file:\n",
    "      text_data.append(file.read())"
   ]
  },
  {
   "cell_type": "markdown",
   "metadata": {
    "colab_type": "text",
    "id": "jMX-Fu-GHdxj"
   },
   "source": [
    "## Process the text\n",
    "Initialize and fit the tokenizer"
   ]
  },
  {
   "cell_type": "code",
   "execution_count": 0,
   "metadata": {
    "colab": {},
    "colab_type": "code",
    "id": "zQf1AV8wHdxl"
   },
   "outputs": [],
   "source": [
    "tokenizer = Tokenizer()\n",
    "tokenizer.fit_on_texts(text_data)"
   ]
  },
  {
   "cell_type": "markdown",
   "metadata": {
    "colab_type": "text",
    "id": "vpZ0A2-xHdxp"
   },
   "source": [
    "### Vectorize the text\n",
    "\n",
    "Before training, we need to map strings to a numerical representation. Create two lookup tables: one mapping words to numbers, and another for numbers to words."
   ]
  },
  {
   "cell_type": "code",
   "execution_count": 0,
   "metadata": {
    "colab": {},
    "colab_type": "code",
    "id": "_Nsq-rSPHdxq"
   },
   "outputs": [],
   "source": [
    "word_idx = tokenizer.word_index #Last is the key\n",
    "idx_word = tokenizer.index_word"
   ]
  },
  {
   "cell_type": "markdown",
   "metadata": {
    "colab_type": "text",
    "id": "YMYdjx4aHdxu"
   },
   "source": [
    "Get the word count for every word and also get the total number of words."
   ]
  },
  {
   "cell_type": "code",
   "execution_count": 0,
   "metadata": {
    "colab": {},
    "colab_type": "code",
    "id": "ioEZ2c21Hdxw"
   },
   "outputs": [],
   "source": [
    "word_counts = tokenizer.word_counts\n",
    "num_words = len(word_counts)"
   ]
  },
  {
   "cell_type": "markdown",
   "metadata": {
    "colab_type": "text",
    "id": "dWUBr9rHHdx0"
   },
   "source": [
    "Convert text to sequence of numbers"
   ]
  },
  {
   "cell_type": "code",
   "execution_count": 0,
   "metadata": {
    "colab": {},
    "colab_type": "code",
    "id": "dwLl0BWKHdx2"
   },
   "outputs": [],
   "source": [
    "sequences = tokenizer.texts_to_sequences(text_data)"
   ]
  },
  {
   "cell_type": "markdown",
   "metadata": {
    "colab_type": "text",
    "id": "GkpK8McUHdx6"
   },
   "source": [
    "### Generate Features and Labels"
   ]
  },
  {
   "cell_type": "code",
   "execution_count": 0,
   "metadata": {
    "colab": {},
    "colab_type": "code",
    "id": "zxhQamjwHdx7"
   },
   "outputs": [],
   "source": [
    "features = []\n",
    "labels = []\n",
    "\n",
    "training_length = 50\n",
    "# Iterate through the sequences of tokens\n",
    "for seq in sequences:\n",
    "    # Create multiple training examples from each sequence\n",
    "    for i in range(training_length, training_length+300):\n",
    "        # Extract the features and label\n",
    "        extract = seq[i - training_length: i - training_length + 20]\n",
    "\n",
    "        # Set the features and label\n",
    "        features.append(extract[:-1])\n",
    "        labels.append(extract[-1])"
   ]
  },
  {
   "cell_type": "markdown",
   "metadata": {
    "colab_type": "text",
    "id": "bbmsf23Bymwe"
   },
   "source": [
    "### The prediction task"
   ]
  },
  {
   "cell_type": "markdown",
   "metadata": {
    "colab_type": "text",
    "id": "wssHQ1oGymwe"
   },
   "source": [
    "Given a word, or a sequence of words, what is the most probable next word? This is the task we're training the model to perform. The input to the model will be a sequence of words, and we train the model to predict the output—the following word at each time step.\n",
    "\n",
    "Since RNNs maintain an internal state that depends on the previously seen elements, given all the words computed until this moment, what is the next word?"
   ]
  },
  {
   "cell_type": "markdown",
   "metadata": {
    "colab_type": "text",
    "id": "T2bsVOl7HdyA"
   },
   "source": [
    "### Generate training and testing data"
   ]
  },
  {
   "cell_type": "code",
   "execution_count": 0,
   "metadata": {
    "colab": {},
    "colab_type": "code",
    "id": "j7-IsvynHdyB"
   },
   "outputs": [],
   "source": [
    "from sklearn.utils import shuffle\n",
    "import numpy as np\n",
    "\n",
    "features, labels = shuffle(features, labels, random_state=1)\n",
    "\n",
    "# Decide on number of samples for training\n",
    "train_end = int(0.75 * len(labels))\n",
    "\n",
    "train_features = np.array(features[:train_end])\n",
    "valid_features = np.array(features[train_end:])\n",
    "\n",
    "train_labels = labels[:train_end]\n",
    "valid_labels = labels[train_end:]\n",
    "\n",
    "# Convert to arrays\n",
    "X_train, X_valid = np.array(train_features), np.array(valid_features)\n",
    "\n",
    "# Using int8 for memory savings\n",
    "y_train = np.zeros((len(train_labels), num_words), dtype=np.int8)\n",
    "y_valid = np.zeros((len(valid_labels), num_words), dtype=np.int8)\n",
    "\n",
    "# One hot encoding of labels\n",
    "for example_index, word_index in enumerate(train_labels):\n",
    "    y_train[example_index, word_index] = 1\n",
    "\n",
    "for example_index, word_index in enumerate(valid_labels):\n",
    "    y_valid[example_index, word_index] = 1"
   ]
  },
  {
   "cell_type": "markdown",
   "metadata": {
    "colab_type": "text",
    "id": "juT1mZrUHdyE"
   },
   "source": [
    "This is just to check the features and labels"
   ]
  },
  {
   "cell_type": "code",
   "execution_count": 0,
   "metadata": {
    "colab": {},
    "colab_type": "code",
    "id": "wkdmNbgjHdyF"
   },
   "outputs": [],
   "source": [
    "for i, sequence in enumerate(X_train[:1]):\n",
    "    text = []\n",
    "    for idx in sequence:\n",
    "        text.append(idx_word[idx])\n",
    "        \n",
    "    print('Features: ' + ' '.join(text)+'\\n')\n",
    "    print('Label: ' + idx_word[np.argmax(y_train[i])] + '\\n')"
   ]
  },
  {
   "cell_type": "markdown",
   "metadata": {
    "colab_type": "text",
    "id": "r6oUuElIMgVx"
   },
   "source": [
    "## Build The Model"
   ]
  },
  {
   "cell_type": "markdown",
   "metadata": {
    "colab_type": "text",
    "id": "m8gPwEjRzf-Z"
   },
   "source": [
    "Use `keras.Sequential` to define the model. For this simple example three layers are used to define our model:\n",
    "\n",
    "* `keras.layers.Embedding`: The input layer. A trainable lookup table that will map the numbers of each character to a vector with `embedding_dim` dimensions;\n",
    "* `keras.layers.LSTM`: A type of RNN with size `units=rnn_units` (You can also use a GRU layer here.)\n",
    "* `keras.layers.Dense`: The output layer, with `num_words` outputs."
   ]
  },
  {
   "cell_type": "code",
   "execution_count": 0,
   "metadata": {
    "colab": {},
    "colab_type": "code",
    "id": "GKpCQFZLHdyN"
   },
   "outputs": [],
   "source": [
    "model = Sequential()\n",
    "\n",
    "# Embedding layer\n",
    "model.add(\n",
    "    Embedding(\n",
    "        input_dim=num_words,\n",
    "        output_dim=100,\n",
    "        weights=None,\n",
    "        trainable=True))\n",
    "\n",
    "# Recurrent layer\n",
    "model.add(\n",
    "    LSTM(\n",
    "        64, return_sequences=False, dropout=0.1,\n",
    "        recurrent_dropout=0.1))\n",
    "\n",
    "# Fully connected layer\n",
    "model.add(Dense(64, activation='relu'))\n",
    "\n",
    "# Dropout for regularization\n",
    "model.add(Dropout(0.5))\n",
    "\n",
    "# Output layer\n",
    "model.add(Dense(num_words, activation='softmax'))\n",
    "\n",
    "# Compile the model\n",
    "model.compile(\n",
    "    optimizer='adam', loss='categorical_crossentropy', metrics=['accuracy'])\n",
    "\n",
    "model.summary()"
   ]
  },
  {
   "cell_type": "markdown",
   "metadata": {
    "colab_type": "text",
    "id": "vL3tUp1UHdyS"
   },
   "source": [
    "For each word the model looks up the embedding, runs the LSTM one timestep with the embedding as input, and applies the dense layer to generate logits predicting the log-liklihood of the next word."
   ]
  },
  {
   "cell_type": "markdown",
   "metadata": {
    "colab_type": "text",
    "id": "LJL0Q0YPY6Ee"
   },
   "source": [
    "## Train the model"
   ]
  },
  {
   "cell_type": "code",
   "execution_count": 0,
   "metadata": {
    "colab": {},
    "colab_type": "code",
    "id": "6o84puBcHdyV"
   },
   "outputs": [],
   "source": [
    "h = model.fit(X_train, y_train, epochs = 1, batch_size = 500, verbose = 1)"
   ]
  },
  {
   "cell_type": "markdown",
   "metadata": {
    "colab_type": "text",
    "id": "82716QWAJrXG"
   },
   "source": [
    "### Save Model"
   ]
  },
  {
   "cell_type": "code",
   "execution_count": 0,
   "metadata": {
    "colab": {},
    "colab_type": "code",
    "id": "_8MFkQgYJm-D"
   },
   "outputs": [],
   "source": [
    "# save the model to file\n",
    "model.save('./data/model_1000epochs.h5')"
   ]
  },
  {
   "cell_type": "markdown",
   "metadata": {
    "colab_type": "text",
    "id": "4AYVKydVJv5C"
   },
   "source": [
    "## If you have already trained the model and saved it, you can load a pretrained model"
   ]
  },
  {
   "cell_type": "code",
   "execution_count": 0,
   "metadata": {
    "colab": {},
    "colab_type": "code",
    "id": "IqsQUz04J0GP"
   },
   "outputs": [],
   "source": [
    "1\n",
    "# load the model\n",
    "2\n",
    "model = load_model('./data/model_1000epochs.h5')"
   ]
  },
  {
   "cell_type": "markdown",
   "metadata": {
    "colab_type": "text",
    "id": "ZFe2Y0SJJ3Hb"
   },
   "source": [
    "### Note: After loading the model run  model.fit()  to continue training form there, if required."
   ]
  },
  {
   "cell_type": "code",
   "execution_count": 0,
   "metadata": {
    "colab": {},
    "colab_type": "code",
    "id": "e9yLm_xnJ5JV"
   },
   "outputs": [],
   "source": [
    "model.fit(X_train, y_train, batch_size=50, epochs=500)"
   ]
  },
  {
   "cell_type": "markdown",
   "metadata": {
    "colab_type": "text",
    "id": "EmkaxXdjHdyd"
   },
   "source": [
    "## Evaluation"
   ]
  },
  {
   "cell_type": "code",
   "execution_count": 0,
   "metadata": {
    "colab": {},
    "colab_type": "code",
    "id": "7RraFX9YHdye"
   },
   "outputs": [],
   "source": [
    "print(model.evaluate(X_train, y_train, batch_size = 20))\n",
    "print('\\nModel Performance: Log Loss and Accuracy on validation data')\n",
    "print(model.evaluate(X_valid, y_valid, batch_size = 20))"
   ]
  },
  {
   "cell_type": "markdown",
   "metadata": {
    "colab_type": "text",
    "id": "u5CKxykLHdyj"
   },
   "source": [
    "## Generate text"
   ]
  },
  {
   "cell_type": "code",
   "execution_count": 0,
   "metadata": {
    "colab": {},
    "colab_type": "code",
    "id": "4JSW5EwKHdyk"
   },
   "outputs": [],
   "source": [
    "seed_length=50\n",
    "new_words=50\n",
    "diversity=1\n",
    "n_gen=1\n",
    "\n",
    "import random\n",
    "\n",
    "# Choose a random sequence\n",
    "seq = random.choice(sequences)\n",
    "\n",
    "# print seq\n",
    "\n",
    "# Choose a random starting point\n",
    "seed_idx = random.randint(0, len(seq) - seed_length - 10)\n",
    "# Ending index for seed\n",
    "end_idx = seed_idx + seed_length\n",
    "\n",
    "gen_list = []\n",
    "\n",
    "for n in range(n_gen):\n",
    "    # Extract the seed sequence\n",
    "    seed = seq[seed_idx:end_idx]\n",
    "    original_sequence = [idx_word[i] for i in seed]\n",
    "    generated = seed[:] + ['#']\n",
    "\n",
    "    # Find the actual entire sequence\n",
    "    actual = generated[:] + seq[end_idx:end_idx + new_words]\n",
    "        \n",
    "    # Keep adding new words\n",
    "    for i in range(new_words):\n",
    "\n",
    "        # Make a prediction from the seed\n",
    "        preds = model.predict(np.array(seed).reshape(1, -1))[0].astype(np.float64)\n",
    "\n",
    "  \n",
    "        # Softmax\n",
    "        preds = exp_preds / sum(exp_preds)\n",
    "\n",
    "        # Choose the next word\n",
    "        probas = np.random.multinomial(1, preds, 1)[0]\n",
    "\n",
    "        next_idx = np.argmax(probas)\n",
    "\n",
    "        # New seed adds on old word\n",
    "        #             seed = seed[1:] + [next_idx]\n",
    "        seed += [next_idx]\n",
    "        generated.append(next_idx)\n",
    "    # Showing generated and actual abstract\n",
    "    n = []\n",
    "\n",
    "    for i in generated:\n",
    "        n.append(idx_word.get(i, '< --- >'))\n",
    "\n",
    "    gen_list.append(n)\n",
    "\n",
    "a = []\n",
    "\n",
    "for i in actual:\n",
    "    a.append(idx_word.get(i, '< --- >'))\n",
    "\n",
    "a = a[seed_length:]\n",
    "\n",
    "gen_list = [gen[seed_length:seed_length + len(a)] for gen in gen_list]\n",
    "\n",
    "print('Original Sequence: \\n'+' '.join(original_sequence))\n",
    "print(\"\\n\")\n",
    "# print(gen_list)\n",
    "print('Generated Sequence: \\n'+' '.join(gen_list[0][1:]))\n",
    "# print(a)"
   ]
  }
 ],
 "metadata": {
  "colab": {
   "collapsed_sections": [],
   "name": "R9_External_Lab_Solutions.ipynb",
   "provenance": [],
   "version": "0.3.2"
  },
  "kernelspec": {
   "display_name": "Python 3",
   "language": "python",
   "name": "python3"
  },
  "language_info": {
   "codemirror_mode": {
    "name": "ipython",
    "version": 3
   },
   "file_extension": ".py",
   "mimetype": "text/x-python",
   "name": "python",
   "nbconvert_exporter": "python",
   "pygments_lexer": "ipython3",
   "version": "3.7.3"
  }
 },
 "nbformat": 4,
 "nbformat_minor": 1
}
