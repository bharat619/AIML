{
 "cells": [
  {
   "cell_type": "markdown",
   "metadata": {
    "colab_type": "text",
    "id": "Uk4Q_z7C1l_u"
   },
   "source": [
    "**Import necessary Libraries**"
   ]
  },
  {
   "cell_type": "code",
   "execution_count": 0,
   "metadata": {
    "colab": {},
    "colab_type": "code",
    "id": "N1zUbfN5Y6O7"
   },
   "outputs": [],
   "source": [
    "import numpy as np\n",
    "from skimage import data, io\n",
    "import matplotlib.pyplot as plt\n",
    "\n",
    "import os\n",
    "os.environ['TF_CPP_MIN_LOG_LEVEL'] = '3' \n",
    "import warnings\n",
    "# Suppress warnings\n",
    "warnings.filterwarnings('ignore')"
   ]
  },
  {
   "cell_type": "markdown",
   "metadata": {
    "colab_type": "text",
    "id": "1h9tLBMP1BU-"
   },
   "source": [
    "**Load any image**"
   ]
  },
  {
   "cell_type": "code",
   "execution_count": 0,
   "metadata": {
    "colab": {},
    "colab_type": "code",
    "id": "3KN8kAeUsdal"
   },
   "outputs": [],
   "source": [
    "# skimage.data has a lot of sample images to play around with\n",
    "#image = data.coins()\n",
    "\n",
    "#plt.imshow(image, cmap='gray')\n"
   ]
  },
  {
   "cell_type": "markdown",
   "metadata": {
    "colab_type": "text",
    "id": "zEy5xttn148-"
   },
   "source": [
    "**Import utilities needed for convolution**"
   ]
  },
  {
   "cell_type": "code",
   "execution_count": 0,
   "metadata": {
    "colab": {},
    "colab_type": "code",
    "id": "WM1vkGr4lxsX"
   },
   "outputs": [],
   "source": [
    "from scipy.signal import convolve2d"
   ]
  },
  {
   "cell_type": "markdown",
   "metadata": {
    "colab_type": "text",
    "id": "ZpkLqYPe2Dpx"
   },
   "source": [
    "**Find the 5X5 Guassian Blur kernel with sigma = 1.0 and convolve the above image with that kernel**\n",
    "\n",
    "\n",
    "*Hint: You can create various Guassian kernel at http://dev.theomader.com/gaussian-kernel-calculator/*"
   ]
  },
  {
   "cell_type": "code",
   "execution_count": 0,
   "metadata": {
    "colab": {},
    "colab_type": "code",
    "id": "E-D2W3zD1-bb"
   },
   "outputs": [],
   "source": [
    "kernel = np.array([[0.003765,0.015019,0.023792,0.015019,0.003765],\n",
    "                   [0.015019,0.059912,0.094907,0.059912,0.015019],\n",
    "                   [0.023792,0.094907,0.150342,0.094907,0.023792],\n",
    "                   [0.015019,0.059912,0.094907,0.059912,0.015019],\n",
    "                   [0.003765,0.015019,0.023792,0.015019,0.003765]])"
   ]
  },
  {
   "cell_type": "markdown",
   "metadata": {
    "colab_type": "text",
    "id": "1k0UBG4K2o52"
   },
   "source": [
    "**Convole the guassian kernel with the image and use 'valid' convolution and show the result side by side**"
   ]
  },
  {
   "cell_type": "code",
   "execution_count": 0,
   "metadata": {
    "colab": {},
    "colab_type": "code",
    "id": "d3UAWwmo1-0k"
   },
   "outputs": [],
   "source": [
    "blurred_image = convolve2d(image, kernel, mode = 'valid')\n",
    "plt.imshow(blurred_image,cmap='gray')\n",
    "plt.show()\n",
    "plt.imshow(image,cmap='gray')\n"
   ]
  },
  {
   "cell_type": "markdown",
   "metadata": {
    "colab_type": "text",
    "id": "RuoHfILa4P04"
   },
   "source": [
    "<h1>Build a CNN to classify 10 monkey species</h1>"
   ]
  },
  {
   "cell_type": "markdown",
   "metadata": {
    "colab_type": "text",
    "id": "UEB3KqhjSbJD"
   },
   "source": [
    "**Mounting Google Drive on to the Google Colab instance**"
   ]
  },
  {
   "cell_type": "code",
   "execution_count": 0,
   "metadata": {
    "colab": {},
    "colab_type": "code",
    "id": "DsCraWoxfIvp"
   },
   "outputs": [],
   "source": [
    "from google.colab import drive\n",
    "drive.mount('/content/drive')"
   ]
  },
  {
   "cell_type": "markdown",
   "metadata": {
    "colab_type": "text",
    "id": "93cfwi25SlSF"
   },
   "source": [
    "**Set the appropriate path for the datsaet zip provided**"
   ]
  },
  {
   "cell_type": "code",
   "execution_count": 0,
   "metadata": {
    "colab": {},
    "colab_type": "code",
    "id": "U2rV6UPvf9PV"
   },
   "outputs": [],
   "source": [
    "images_path = \"/content/drive/My Drive/Colab Notebooks/tutorials/zips/monkeys_dataset.zip\""
   ]
  },
  {
   "cell_type": "markdown",
   "metadata": {
    "colab_type": "text",
    "id": "TF6IorgsSqG5"
   },
   "source": [
    "**Extracting the dataset.zip to the present working directory**"
   ]
  },
  {
   "cell_type": "code",
   "execution_count": 0,
   "metadata": {
    "colab": {},
    "colab_type": "code",
    "id": "6fF2XlCnfhDD"
   },
   "outputs": [],
   "source": [
    "from zipfile import ZipFile\n",
    "with ZipFile(images_path, 'r') as zip:\n",
    "  zip.extractall()"
   ]
  },
  {
   "cell_type": "markdown",
   "metadata": {
    "colab_type": "text",
    "id": "_qCQB-4eSwMK"
   },
   "source": [
    "*Check the list of files in the pwd(present working directory) by running command 'ls' and ensure 'dataset' folder has been generated*"
   ]
  },
  {
   "cell_type": "code",
   "execution_count": 0,
   "metadata": {
    "colab": {},
    "colab_type": "code",
    "id": "e_GB89vufuum"
   },
   "outputs": [],
   "source": [
    "!ls"
   ]
  },
  {
   "cell_type": "markdown",
   "metadata": {
    "colab_type": "text",
    "id": "dfoV8iFbTA52"
   },
   "source": [
    "**Importing required Keras modules**"
   ]
  },
  {
   "cell_type": "code",
   "execution_count": 0,
   "metadata": {
    "colab": {},
    "colab_type": "code",
    "id": "KpFyhikhgKHB"
   },
   "outputs": [],
   "source": [
    "from keras.models import Sequential\n",
    "from keras.layers import Conv2D\n",
    "from keras.layers import MaxPooling2D\n",
    "from keras.layers import Flatten\n",
    "from keras.layers import Dense, Dropout"
   ]
  },
  {
   "cell_type": "markdown",
   "metadata": {
    "colab_type": "text",
    "id": "SM6ARMO1TFw-"
   },
   "source": [
    "**Build a Sequential CNN classifier with input shape as 64X64 and using three sets of Convoltutional + Pooling layers. You can additionally use Dropout in the fully connected layers. Make sure the final layer shape matches with the number of classes**"
   ]
  },
  {
   "cell_type": "code",
   "execution_count": 0,
   "metadata": {
    "colab": {},
    "colab_type": "code",
    "id": "RLhlFr9vg8Qq"
   },
   "outputs": [],
   "source": [
    "# Initialising the CNN classifier\n",
    "classifier = Sequential()\n",
    "\n",
    "# Add a Convolution layer with 32 kernels of 3X3 shape with activation function ReLU\n",
    "classifier.add(Conv2D(32, (3, 3), input_shape = (64, 64, 3), activation = 'relu', padding = 'same'))\n",
    "\n",
    "# Add a Max Pooling layer of size 2X2\n",
    "classifier.add(MaxPooling2D(pool_size = (2, 2)))\n",
    "\n",
    "# Add another Convolution layer with 32 kernels of 3X3 shape with activation function ReLU\n",
    "classifier.add(Conv2D(32, (3, 3), activation = 'relu', padding = 'same'))\n",
    "\n",
    "# Adding another pooling layer\n",
    "classifier.add(MaxPooling2D(pool_size = (2, 2)))\n",
    "\n",
    "# Add another Convolution layer with 32 kernels of 3X3 shape with activation function ReLU\n",
    "classifier.add(Conv2D(32, (3, 3), activation = 'relu', padding = 'valid'))\n",
    "\n",
    "# Adding another pooling layer\n",
    "classifier.add(MaxPooling2D(pool_size = (2, 2)))\n",
    "\n",
    "# Flattening the layer before fully connected layers\n",
    "classifier.add(Flatten())\n",
    "\n",
    "# Adding a fully connected layer with 512 neurons\n",
    "classifier.add(Dense(units = 512, activation = 'relu'))\n",
    "\n",
    "# Adding dropout with probability 0.5\n",
    "classifier.add(Dropout(0.5))\n",
    "\n",
    "\n",
    "# Adding a fully connected layer with 128 neurons\n",
    "classifier.add(Dense(units = 128, activation = 'relu'))\n",
    "\n",
    "\n",
    "# The final output layer with 10 neurons to predict the categorical classifcation\n",
    "classifier.add(Dense(units = 10, activation = 'softmax'))"
   ]
  },
  {
   "cell_type": "markdown",
   "metadata": {
    "colab_type": "text",
    "id": "xmlFKyBaToR2"
   },
   "source": [
    "**Compile the CNN classifier with Adam optimizer (default Learning rate and other parameters)\n",
    "and Categorical Crossentropy as loss function and Accuracy as the metric to monitor**"
   ]
  },
  {
   "cell_type": "markdown",
   "metadata": {
    "colab_type": "text",
    "id": "i97nysnzTuAZ"
   },
   "source": [
    "*Optionally you can use an optimizer with custom learning rate and passing it to the optimizer parameter of compile*\n",
    "\n",
    "*Eg: keras.optimizers.Adam(lr=0.001, beta_1=0.9, beta_2=0.999, epsilon=None, decay=0.0, amsgrad=False)*"
   ]
  },
  {
   "cell_type": "code",
   "execution_count": 0,
   "metadata": {
    "colab": {},
    "colab_type": "code",
    "id": "CtMbL_TvTnlp"
   },
   "outputs": [],
   "source": [
    "classifier.compile(optimizer = 'adam', loss = 'categorical_crossentropy', metrics = ['accuracy'])"
   ]
  },
  {
   "cell_type": "markdown",
   "metadata": {
    "colab_type": "text",
    "id": "Dv0eDbXYUcgQ"
   },
   "source": [
    "**Use ImageDataGenerator to create a test and training set data generators and use fit_generator() function to train the model**"
   ]
  },
  {
   "cell_type": "markdown",
   "metadata": {
    "colab_type": "text",
    "id": "jdKWE1o-UjB7"
   },
   "source": [
    "*ImageDataGenerator is a powerful preprocessing utility to generate training and \n",
    "testing data with common data augmentation techniques. It can also be used to  \n",
    "generate training data from Images stored in hierarchical directory structures\n",
    "For more options of ImageDataGenerator go to https://keras.io/preprocessing/image/*"
   ]
  },
  {
   "cell_type": "code",
   "execution_count": 0,
   "metadata": {
    "colab": {},
    "colab_type": "code",
    "id": "1djMyebthCGP"
   },
   "outputs": [],
   "source": [
    "from keras.preprocessing.image import ImageDataGenerator\n",
    "\n",
    "\n",
    "# Create data generator for training data with data augmentation and normalizing all\n",
    "# values by 255\n",
    "train_datagen = ImageDataGenerator(rescale = 1./255,\n",
    "                                   shear_range = 0.2,\n",
    "                                   zoom_range = 0.2,\n",
    "                                   horizontal_flip = True)\n",
    "\n",
    "\n",
    "test_datagen = ImageDataGenerator(rescale = 1./255)\n",
    "\n",
    "# Setting training data generator's source directory\n",
    "# Setting the target size to resize all the images to (64,64) as the model input layer expects 64X64 images\n",
    "\n",
    "training_set = train_datagen.flow_from_directory('./dataset/train',\n",
    "                                                 target_size = (64, 64),\n",
    "                                                 batch_size = 32,\n",
    "                                                 class_mode = 'categorical')\n",
    "\n",
    "# Setting testing data generator's source directory\n",
    "test_set = test_datagen.flow_from_directory('./dataset/test',\n",
    "                                            target_size = (64, 64),\n",
    "                                            batch_size = 32,\n",
    "                                            class_mode = 'categorical')\n",
    "\n",
    "\n",
    "# There are 1098 training images and 272 test images in total\n",
    "classifier.fit_generator(training_set,\n",
    "                         steps_per_epoch = int(1098/32),\n",
    "                         epochs = 10,\n",
    "                         validation_data = test_set,\n",
    "                         validation_steps = int(272/32))\n"
   ]
  },
  {
   "cell_type": "markdown",
   "metadata": {
    "colab_type": "text",
    "id": "157MBWfwVORb"
   },
   "source": [
    "**save the model and its weights**"
   ]
  },
  {
   "cell_type": "code",
   "execution_count": 0,
   "metadata": {
    "colab": {},
    "colab_type": "code",
    "id": "WwvESxvvzRgz"
   },
   "outputs": [],
   "source": [
    "classifier.save('./classifier.h5')\n",
    "\n",
    "classifier.save_weights('./classifier_weights.h5')"
   ]
  },
  {
   "cell_type": "markdown",
   "metadata": {
    "colab_type": "text",
    "id": "mw9MVESlVSq0"
   },
   "source": [
    "*Check the current directory if the weights have been saved*"
   ]
  },
  {
   "cell_type": "code",
   "execution_count": 0,
   "metadata": {
    "colab": {},
    "colab_type": "code",
    "id": "pHkGYUnpzbVQ"
   },
   "outputs": [],
   "source": [
    "!ls"
   ]
  },
  {
   "cell_type": "markdown",
   "metadata": {
    "colab_type": "text",
    "id": "XKfWmfnTVWbO"
   },
   "source": [
    "<h2>Testing the model</h2>"
   ]
  },
  {
   "cell_type": "markdown",
   "metadata": {
    "colab_type": "text",
    "id": "KRXKNJjWVzGq"
   },
   "source": [
    "**Load the pre-trained saved model and load the weights**"
   ]
  },
  {
   "cell_type": "code",
   "execution_count": 0,
   "metadata": {
    "colab": {},
    "colab_type": "code",
    "id": "tB5k1sCWVwJt"
   },
   "outputs": [],
   "source": [
    "\n",
    "from keras.models import load_model\n",
    "import numpy as np\n",
    "from keras.preprocessing import image\n",
    "\n",
    "# Load the pre trained model from the HDF5 file saved previously\n",
    "pretrained_model = load_model('./classifier.h5')\n",
    "pretrained_model.load_weights('./classifier_weights.h5')"
   ]
  },
  {
   "cell_type": "markdown",
   "metadata": {
    "colab_type": "text",
    "id": "8iFL22MKV-nB"
   },
   "source": [
    "**Test the model on one single image from the test folders**"
   ]
  },
  {
   "cell_type": "code",
   "execution_count": 0,
   "metadata": {
    "colab": {},
    "colab_type": "code",
    "id": "FLrGrFCJhCmq"
   },
   "outputs": [],
   "source": [
    "import cv2\n",
    "test_image = cv2.imread('./cifar10/test/airplane/0001.png')\n",
    "\n",
    "\n",
    "# Check if the size of the Image array is compatible with Keras model\n",
    "print(test_image.shape)\n",
    "\n",
    "# If not compatible expand the dimensions to match with the Keras Input\n",
    "test_image = np.expand_dims(test_image, axis = 0)\n",
    "test_image =test_image*1/255.0\n",
    "\n",
    "#Check the size of the Image array again\n",
    "print('After expand_dims: '+ str(test_image.shape))\n",
    "\n",
    "\n",
    "#Predict the result of the test image\n",
    "result = classifier.predict(test_image)\n",
    "\n",
    "# Check the indices Image Data Generator has allotted to each folder\n",
    "classes_dict = training_set.class_indices\n",
    "print(classes_dict)\n",
    "\n",
    "# Creating a list of classes in test set for showing the result as the folder name\n",
    "prediction_class = []\n",
    "for class_name,index in classes_dict.items():\n",
    "  prediction_class.append(class_name)\n",
    "  \n",
    "print(result[0])\n",
    "\n",
    "# Index of the class with maximum probability\n",
    "predicted_index = np.argmax(result[0])\n",
    "\n",
    "# Print the name of the class\n",
    "print(prediction_class[predicted_index])"
   ]
  },
  {
   "cell_type": "markdown",
   "metadata": {
    "colab_type": "text",
    "id": "32IsbG8Ox2XN"
   },
   "source": [
    "**Generating a report on the test data**"
   ]
  },
  {
   "cell_type": "code",
   "execution_count": 0,
   "metadata": {
    "colab": {},
    "colab_type": "code",
    "id": "vXnGiGIKxzE5"
   },
   "outputs": [],
   "source": [
    "# Re-initalizing the test data generator with shuffle=False to create the confusion matrix\n",
    "test_set = test_datagen.flow_from_directory('./dataset/test',\n",
    "                                            target_size = (32, 32),\n",
    "                                            batch_size = 32,\n",
    "                                            shuffle=False,\n",
    "                                            class_mode = 'categorical')\n",
    "\n",
    "# Predict the whole generator to get predictions\n",
    "Y_pred = classifier.predict_generator(test_set, int(10000/32+1))\n",
    "\n",
    "# Find out the predictions classes with maximum probability\n",
    "y_pred = np.argmax(Y_pred, axis=1)\n",
    "\n",
    "# Utilities for confusion matrix\n",
    "from sklearn.metrics import classification_report, confusion_matrix\n",
    "\n",
    "# Printing the confusion matrix based on the actual data vs predicted data. \n",
    "print(confusion_matrix(test_set.classes, y_pred))\n",
    "\n",
    "# Printing the classification report\n",
    "print(classification_report(test_set.classes, y_pred, target_names=prediction_class))"
   ]
  },
  {
   "cell_type": "markdown",
   "metadata": {
    "colab_type": "text",
    "id": "lnp5BHrHWIuY"
   },
   "source": [
    "**Play around with the model by adding regularization to the layers, adding more convolutional layers, etc., to improve the testing accuracy**"
   ]
  }
 ],
 "metadata": {
  "colab": {
   "collapsed_sections": [],
   "name": "practice_exercise_answers.ipynb",
   "provenance": [],
   "version": "0.3.2"
  },
  "kernelspec": {
   "display_name": "Python 3",
   "language": "python",
   "name": "python3"
  },
  "language_info": {
   "codemirror_mode": {
    "name": "ipython",
    "version": 3
   },
   "file_extension": ".py",
   "mimetype": "text/x-python",
   "name": "python",
   "nbconvert_exporter": "python",
   "pygments_lexer": "ipython3",
   "version": "3.7.3"
  }
 },
 "nbformat": 4,
 "nbformat_minor": 1
}
