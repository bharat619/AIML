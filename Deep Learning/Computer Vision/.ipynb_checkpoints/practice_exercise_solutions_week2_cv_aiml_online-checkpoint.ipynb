{
 "cells": [
  {
   "cell_type": "markdown",
   "metadata": {
    "colab_type": "text",
    "id": "QGIsF1ADyJ58"
   },
   "source": [
    "# Transfer Learning CIFAR10"
   ]
  },
  {
   "cell_type": "markdown",
   "metadata": {
    "colab_type": "text",
    "id": "E-n6tVFayGBe"
   },
   "source": [
    "* Train a simple convnet on the CIFAR dataset the first 5 output classes [0..4].\n",
    "* Freeze convolutional layers and fine-tune dense layers for the last 5 ouput classes [5..9].\n"
   ]
  },
  {
   "cell_type": "markdown",
   "metadata": {
    "colab_type": "text",
    "id": "VgWNaP4SFZlP"
   },
   "source": [
    "## Get data"
   ]
  },
  {
   "cell_type": "markdown",
   "metadata": {
    "colab_type": "text",
    "id": "Cq8ejXHJyGYq"
   },
   "source": [
    "### Import keras and CIFAR10 data"
   ]
  },
  {
   "cell_type": "code",
   "execution_count": 1,
   "metadata": {
    "colab": {
     "base_uri": "https://localhost:8080/",
     "height": 35
    },
    "colab_type": "code",
    "executionInfo": {
     "elapsed": 3549,
     "status": "ok",
     "timestamp": 1563789220167,
     "user": {
      "displayName": "Suryansh Sharma",
      "photoUrl": "",
      "userId": "03232072030227591914"
     },
     "user_tz": -330
    },
    "id": "uWYbxnBayFUP",
    "outputId": "0be26214-7d41-4936-a209-90ea30fe16f1"
   },
   "outputs": [
    {
     "name": "stderr",
     "output_type": "stream",
     "text": [
      "Using TensorFlow backend.\n"
     ]
    }
   ],
   "source": [
    "import keras\n",
    "from keras.datasets import cifar10"
   ]
  },
  {
   "cell_type": "markdown",
   "metadata": {
    "colab_type": "text",
    "id": "tlh0c0dACZnA"
   },
   "source": [
    "### Get train and test data\n",
    "Use these variable names\n",
    "\n",
    "X_train, X_test, y_train, y_test"
   ]
  },
  {
   "cell_type": "code",
   "execution_count": 2,
   "metadata": {
    "colab": {
     "base_uri": "https://localhost:8080/",
     "height": 53
    },
    "colab_type": "code",
    "executionInfo": {
     "elapsed": 10700,
     "status": "ok",
     "timestamp": 1563789227322,
     "user": {
      "displayName": "Suryansh Sharma",
      "photoUrl": "",
      "userId": "03232072030227591914"
     },
     "user_tz": -330
    },
    "id": "Ap7iaMNG2Zbu",
    "outputId": "01252fba-a28e-4499-a905-48d3c515d6e9"
   },
   "outputs": [
    {
     "name": "stdout",
     "output_type": "stream",
     "text": [
      "Downloading data from https://www.cs.toronto.edu/~kriz/cifar-10-python.tar.gz\n",
      "170500096/170498071 [==============================] - 4s 0us/step\n"
     ]
    }
   ],
   "source": [
    "(x_train,y_train), (x_test,y_test) = cifar10.load_data()"
   ]
  },
  {
   "cell_type": "markdown",
   "metadata": {
    "colab_type": "text",
    "id": "3T-SswFTC4sL"
   },
   "source": [
    "### Print the shape of X_train and y_train"
   ]
  },
  {
   "cell_type": "code",
   "execution_count": 3,
   "metadata": {
    "colab": {
     "base_uri": "https://localhost:8080/",
     "height": 53
    },
    "colab_type": "code",
    "executionInfo": {
     "elapsed": 10702,
     "status": "ok",
     "timestamp": 1563789227326,
     "user": {
      "displayName": "Suryansh Sharma",
      "photoUrl": "",
      "userId": "03232072030227591914"
     },
     "user_tz": -330
    },
    "id": "E_AYES5F2eOt",
    "outputId": "2dd43a3a-6de3-466f-abd0-47b92d0cb748"
   },
   "outputs": [
    {
     "name": "stdout",
     "output_type": "stream",
     "text": [
      "(50000, 32, 32, 3)\n",
      "(50000, 1)\n"
     ]
    }
   ],
   "source": [
    "print(x_train.shape)\n",
    "print(y_train.shape)"
   ]
  },
  {
   "cell_type": "markdown",
   "metadata": {
    "colab_type": "text",
    "id": "-d2iEjeeDBM3"
   },
   "source": [
    "### Rehshape y_train and y_test\n",
    "reshape with y_train.shape[0] and y_test.shape[0]"
   ]
  },
  {
   "cell_type": "code",
   "execution_count": 0,
   "metadata": {
    "colab": {},
    "colab_type": "code",
    "id": "sIJRUpPO2gUy"
   },
   "outputs": [],
   "source": [
    "import numpy as np\n",
    "y_train = y_train.reshape(y_train.shape[0])\n",
    "y_test = y_test.reshape(y_test.shape[0])"
   ]
  },
  {
   "cell_type": "markdown",
   "metadata": {
    "colab_type": "text",
    "id": "w5_Q2VODDlhT"
   },
   "source": [
    "### Create 2 datasets with one dataset having classes from 0 to 4 and other having classes from 5 to 9 "
   ]
  },
  {
   "cell_type": "code",
   "execution_count": 0,
   "metadata": {
    "colab": {},
    "colab_type": "code",
    "id": "-oWCfC9s2i-r"
   },
   "outputs": [],
   "source": [
    "x_train_lt5 = x_train[y_train<5]\n",
    "y_train_lt5 = y_train[y_train<5]\n",
    "x_test_lt5 = x_test[y_test<5]\n",
    "y_test_lt5 = y_test[y_test<5]\n",
    "\n",
    "x_train_gt5 = x_train[y_train>=5]\n",
    "y_train_gt5 = y_train[y_train>=5]\n",
    "x_test_gt5 = x_test[y_test>=5]\n",
    "y_test_gt5 = y_test[y_test>=5]"
   ]
  },
  {
   "cell_type": "markdown",
   "metadata": {
    "colab_type": "text",
    "id": "xtCKmQh4yXhT"
   },
   "source": [
    "## Use One-hot encoding to divide y_train and y_test into required no of output classes\n",
    "Do it for both datasets"
   ]
  },
  {
   "cell_type": "code",
   "execution_count": 0,
   "metadata": {
    "colab": {},
    "colab_type": "code",
    "id": "uN5O2kJ3yYa6"
   },
   "outputs": [],
   "source": [
    "import pandas as pd\n",
    "y_train_lt5 = pd.get_dummies(y_train_lt5)\n",
    "y_test_lt5 = pd.get_dummies(y_test_lt5)\n",
    "\n",
    "y_train_gt5 = pd.get_dummies(y_train_gt5)\n",
    "y_test_gt5 = pd.get_dummies(y_test_gt5)"
   ]
  },
  {
   "cell_type": "markdown",
   "metadata": {
    "colab_type": "text",
    "id": "E-6agMpZD9E_"
   },
   "source": [
    "### Print data variables for dataset having classes from 0 to 4\n",
    "Data variables here are referring to X-train, X_test, y_train, y_test of that dataset"
   ]
  },
  {
   "cell_type": "code",
   "execution_count": 7,
   "metadata": {
    "colab": {
     "base_uri": "https://localhost:8080/",
     "height": 89
    },
    "colab_type": "code",
    "executionInfo": {
     "elapsed": 11756,
     "status": "ok",
     "timestamp": 1563789228385,
     "user": {
      "displayName": "Suryansh Sharma",
      "photoUrl": "",
      "userId": "03232072030227591914"
     },
     "user_tz": -330
    },
    "id": "t8Sm5YzM2orX",
    "outputId": "745104a5-5f9a-4fbb-862e-15f896e8b8ea"
   },
   "outputs": [
    {
     "name": "stdout",
     "output_type": "stream",
     "text": [
      "(25000, 32, 32, 3)\n",
      "(25000, 5)\n",
      "(5000, 32, 32, 3)\n",
      "(5000, 5)\n"
     ]
    }
   ],
   "source": [
    "print(x_train_lt5.shape)\n",
    "print(y_train_lt5.shape)\n",
    "print(x_test_lt5.shape)\n",
    "print(y_test_lt5.shape)"
   ]
  },
  {
   "cell_type": "markdown",
   "metadata": {
    "colab_type": "text",
    "id": "buY4EplOEaLN"
   },
   "source": [
    "### Print data variables for dataset having classes from 5 to 9\n",
    "Data variables here are referring to X-train, X_test, y_train, y_test of that dataset"
   ]
  },
  {
   "cell_type": "code",
   "execution_count": 8,
   "metadata": {
    "colab": {
     "base_uri": "https://localhost:8080/",
     "height": 89
    },
    "colab_type": "code",
    "executionInfo": {
     "elapsed": 11756,
     "status": "ok",
     "timestamp": 1563789228386,
     "user": {
      "displayName": "Suryansh Sharma",
      "photoUrl": "",
      "userId": "03232072030227591914"
     },
     "user_tz": -330
    },
    "id": "YfnfqV2B2qmW",
    "outputId": "38c03041-f070-4613-f59a-465646ebe34f"
   },
   "outputs": [
    {
     "name": "stdout",
     "output_type": "stream",
     "text": [
      "(25000, 32, 32, 3)\n",
      "(25000, 5)\n",
      "(5000, 32, 32, 3)\n",
      "(5000, 5)\n"
     ]
    }
   ],
   "source": [
    "print(x_train_gt5.shape)\n",
    "print(y_train_gt5.shape)\n",
    "print(x_test_gt5.shape)\n",
    "print(y_test_gt5.shape)"
   ]
  },
  {
   "cell_type": "markdown",
   "metadata": {
    "colab_type": "text",
    "id": "cuOiKWfeybAl"
   },
   "source": [
    "## Build a sequential neural network model which can classify the classes 0 to 4 of CIFAR10 dataset with at least 80% accuracy on test data"
   ]
  },
  {
   "cell_type": "markdown",
   "metadata": {
    "colab_type": "text",
    "id": "Q7JwiBbcE2dL"
   },
   "source": [
    "### Import required libraries"
   ]
  },
  {
   "cell_type": "code",
   "execution_count": 0,
   "metadata": {
    "colab": {},
    "colab_type": "code",
    "id": "5HzxNbiiyoBD"
   },
   "outputs": [],
   "source": [
    "from keras import Sequential\n",
    "from keras.layers import Flatten,BatchNormalization,MaxPooling2D,Dropout, Convolution2D, Dense"
   ]
  },
  {
   "cell_type": "markdown",
   "metadata": {
    "colab_type": "text",
    "id": "v2rue0r3E9YK"
   },
   "source": [
    "### Initialize a model and add the required layers"
   ]
  },
  {
   "cell_type": "code",
   "execution_count": 10,
   "metadata": {
    "colab": {
     "base_uri": "https://localhost:8080/",
     "height": 361
    },
    "colab_type": "code",
    "executionInfo": {
     "elapsed": 11759,
     "status": "ok",
     "timestamp": 1563789228392,
     "user": {
      "displayName": "Suryansh Sharma",
      "photoUrl": "",
      "userId": "03232072030227591914"
     },
     "user_tz": -330
    },
    "id": "3HucP-Qg2ufi",
    "outputId": "63b2cb15-e1c1-46f9-a886-621f66fd39bb"
   },
   "outputs": [
    {
     "name": "stderr",
     "output_type": "stream",
     "text": [
      "WARNING: Logging before flag parsing goes to stderr.\n",
      "W0722 09:53:47.335773 140468027606912 deprecation_wrapper.py:119] From /usr/local/lib/python3.6/dist-packages/keras/backend/tensorflow_backend.py:74: The name tf.get_default_graph is deprecated. Please use tf.compat.v1.get_default_graph instead.\n",
      "\n",
      "W0722 09:53:47.383634 140468027606912 deprecation_wrapper.py:119] From /usr/local/lib/python3.6/dist-packages/keras/backend/tensorflow_backend.py:517: The name tf.placeholder is deprecated. Please use tf.compat.v1.placeholder instead.\n",
      "\n",
      "W0722 09:53:47.406208 140468027606912 deprecation_wrapper.py:119] From /usr/local/lib/python3.6/dist-packages/keras/backend/tensorflow_backend.py:174: The name tf.get_default_session is deprecated. Please use tf.compat.v1.get_default_session instead.\n",
      "\n",
      "W0722 09:53:47.407226 140468027606912 deprecation_wrapper.py:119] From /usr/local/lib/python3.6/dist-packages/keras/backend/tensorflow_backend.py:181: The name tf.ConfigProto is deprecated. Please use tf.compat.v1.ConfigProto instead.\n",
      "\n",
      "W0722 09:53:47.411952 140468027606912 deprecation_wrapper.py:119] From /usr/local/lib/python3.6/dist-packages/keras/backend/tensorflow_backend.py:186: The name tf.Session is deprecated. Please use tf.compat.v1.Session instead.\n",
      "\n",
      "W0722 09:53:47.676089 140468027606912 deprecation_wrapper.py:119] From /usr/local/lib/python3.6/dist-packages/keras/backend/tensorflow_backend.py:1834: The name tf.nn.fused_batch_norm is deprecated. Please use tf.compat.v1.nn.fused_batch_norm instead.\n",
      "\n",
      "W0722 09:53:47.783279 140468027606912 deprecation_wrapper.py:119] From /usr/local/lib/python3.6/dist-packages/keras/backend/tensorflow_backend.py:3976: The name tf.nn.max_pool is deprecated. Please use tf.nn.max_pool2d instead.\n",
      "\n",
      "W0722 09:53:47.794512 140468027606912 deprecation.py:506] From /usr/local/lib/python3.6/dist-packages/keras/backend/tensorflow_backend.py:3445: calling dropout (from tensorflow.python.ops.nn_ops) with keep_prob is deprecated and will be removed in a future version.\n",
      "Instructions for updating:\n",
      "Please use `rate` instead of `keep_prob`. Rate should be set to `rate = 1 - keep_prob`.\n"
     ]
    }
   ],
   "source": [
    "model = Sequential()\n",
    "model.add(BatchNormalization(input_shape = (32,32,3)))\n",
    "model.add(Convolution2D(32,(3,3), activation = 'relu'))\n",
    "model.add(MaxPooling2D(2,2))\n",
    "model.add(Dropout(0.2))\n",
    "model.add(Convolution2D(64,(3,3), activation = 'relu'))\n",
    "model.add(MaxPooling2D(2,2))\n",
    "model.add(Dropout(0.2))\n",
    "\n",
    "model.add(Flatten())\n",
    "#model.add(BatchNormalization())\n",
    "model.add(Dense(128,activation = 'relu'))\n",
    "model.add(Dropout(0.3))\n",
    "model.add(Dense(5,activation = 'softmax'))"
   ]
  },
  {
   "cell_type": "markdown",
   "metadata": {
    "colab_type": "text",
    "id": "2SUCOn4SFE_H"
   },
   "source": [
    "### Summarize your model"
   ]
  },
  {
   "cell_type": "code",
   "execution_count": 11,
   "metadata": {
    "colab": {
     "base_uri": "https://localhost:8080/",
     "height": 539
    },
    "colab_type": "code",
    "executionInfo": {
     "elapsed": 11759,
     "status": "ok",
     "timestamp": 1563789228394,
     "user": {
      "displayName": "Suryansh Sharma",
      "photoUrl": "",
      "userId": "03232072030227591914"
     },
     "user_tz": -330
    },
    "id": "BGHKqBkZ2wZn",
    "outputId": "bb4e5ad2-b0c1-469f-f790-a4194983bf5a"
   },
   "outputs": [
    {
     "name": "stdout",
     "output_type": "stream",
     "text": [
      "_________________________________________________________________\n",
      "Layer (type)                 Output Shape              Param #   \n",
      "=================================================================\n",
      "batch_normalization_1 (Batch (None, 32, 32, 3)         12        \n",
      "_________________________________________________________________\n",
      "conv2d_1 (Conv2D)            (None, 30, 30, 32)        896       \n",
      "_________________________________________________________________\n",
      "max_pooling2d_1 (MaxPooling2 (None, 15, 15, 32)        0         \n",
      "_________________________________________________________________\n",
      "dropout_1 (Dropout)          (None, 15, 15, 32)        0         \n",
      "_________________________________________________________________\n",
      "conv2d_2 (Conv2D)            (None, 13, 13, 64)        18496     \n",
      "_________________________________________________________________\n",
      "max_pooling2d_2 (MaxPooling2 (None, 6, 6, 64)          0         \n",
      "_________________________________________________________________\n",
      "dropout_2 (Dropout)          (None, 6, 6, 64)          0         \n",
      "_________________________________________________________________\n",
      "flatten_1 (Flatten)          (None, 2304)              0         \n",
      "_________________________________________________________________\n",
      "dense_1 (Dense)              (None, 128)               295040    \n",
      "_________________________________________________________________\n",
      "dropout_3 (Dropout)          (None, 128)               0         \n",
      "_________________________________________________________________\n",
      "dense_2 (Dense)              (None, 5)                 645       \n",
      "=================================================================\n",
      "Total params: 315,089\n",
      "Trainable params: 315,083\n",
      "Non-trainable params: 6\n",
      "_________________________________________________________________\n"
     ]
    }
   ],
   "source": [
    "model.summary()"
   ]
  },
  {
   "cell_type": "markdown",
   "metadata": {
    "colab_type": "text",
    "id": "8ByO-o9JFJCq"
   },
   "source": [
    "### Compile and fit the model"
   ]
  },
  {
   "cell_type": "code",
   "execution_count": 12,
   "metadata": {
    "colab": {
     "base_uri": "https://localhost:8080/",
     "height": 1000
    },
    "colab_type": "code",
    "executionInfo": {
     "elapsed": 1396650,
     "status": "ok",
     "timestamp": 1563790613288,
     "user": {
      "displayName": "Suryansh Sharma",
      "photoUrl": "",
      "userId": "03232072030227591914"
     },
     "user_tz": -330
    },
    "id": "RBgb4RDk21q3",
    "outputId": "60b3e8cb-1805-4c97-e71f-a82724c5cc4c"
   },
   "outputs": [
    {
     "name": "stderr",
     "output_type": "stream",
     "text": [
      "W0722 09:53:47.938130 140468027606912 deprecation_wrapper.py:119] From /usr/local/lib/python3.6/dist-packages/keras/optimizers.py:790: The name tf.train.Optimizer is deprecated. Please use tf.compat.v1.train.Optimizer instead.\n",
      "\n",
      "W0722 09:53:48.183253 140468027606912 deprecation.py:323] From /usr/local/lib/python3.6/dist-packages/tensorflow/python/ops/math_grad.py:1250: add_dispatch_support.<locals>.wrapper (from tensorflow.python.ops.array_ops) is deprecated and will be removed in a future version.\n",
      "Instructions for updating:\n",
      "Use tf.where in 2.0, which has the same broadcast rule as np.where\n"
     ]
    },
    {
     "name": "stdout",
     "output_type": "stream",
     "text": [
      "Train on 25000 samples, validate on 5000 samples\n",
      "Epoch 1/30\n",
      "25000/25000 [==============================] - 47s 2ms/step - loss: 1.0241 - acc: 0.5887 - val_loss: 0.7831 - val_acc: 0.6944\n",
      "Epoch 2/30\n",
      "25000/25000 [==============================] - 46s 2ms/step - loss: 0.7823 - acc: 0.6967 - val_loss: 0.6995 - val_acc: 0.7358\n",
      "Epoch 3/30\n",
      "25000/25000 [==============================] - 46s 2ms/step - loss: 0.6907 - acc: 0.7371 - val_loss: 0.5986 - val_acc: 0.7790\n",
      "Epoch 4/30\n",
      "25000/25000 [==============================] - 46s 2ms/step - loss: 0.6217 - acc: 0.7641 - val_loss: 0.5717 - val_acc: 0.7930\n",
      "Epoch 5/30\n",
      "25000/25000 [==============================] - 46s 2ms/step - loss: 0.5675 - acc: 0.7864 - val_loss: 0.5497 - val_acc: 0.7956\n",
      "Epoch 6/30\n",
      "25000/25000 [==============================] - 46s 2ms/step - loss: 0.5247 - acc: 0.8023 - val_loss: 0.5344 - val_acc: 0.8032\n",
      "Epoch 7/30\n",
      "25000/25000 [==============================] - 46s 2ms/step - loss: 0.4874 - acc: 0.8161 - val_loss: 0.5204 - val_acc: 0.8088\n",
      "Epoch 8/30\n",
      "25000/25000 [==============================] - 46s 2ms/step - loss: 0.4640 - acc: 0.8276 - val_loss: 0.5227 - val_acc: 0.8082\n",
      "Epoch 9/30\n",
      "25000/25000 [==============================] - 46s 2ms/step - loss: 0.4384 - acc: 0.8354 - val_loss: 0.5301 - val_acc: 0.8142\n",
      "Epoch 10/30\n",
      "25000/25000 [==============================] - 46s 2ms/step - loss: 0.4054 - acc: 0.8460 - val_loss: 0.5064 - val_acc: 0.8208\n",
      "Epoch 11/30\n",
      "25000/25000 [==============================] - 46s 2ms/step - loss: 0.3902 - acc: 0.8540 - val_loss: 0.5285 - val_acc: 0.8116\n",
      "Epoch 12/30\n",
      "25000/25000 [==============================] - 46s 2ms/step - loss: 0.3756 - acc: 0.8608 - val_loss: 0.5082 - val_acc: 0.8186\n",
      "Epoch 13/30\n",
      "25000/25000 [==============================] - 46s 2ms/step - loss: 0.3561 - acc: 0.8663 - val_loss: 0.5214 - val_acc: 0.8194\n",
      "Epoch 14/30\n",
      "25000/25000 [==============================] - 46s 2ms/step - loss: 0.3304 - acc: 0.8776 - val_loss: 0.5136 - val_acc: 0.8212\n",
      "Epoch 15/30\n",
      "25000/25000 [==============================] - 46s 2ms/step - loss: 0.3243 - acc: 0.8782 - val_loss: 0.5390 - val_acc: 0.8254\n",
      "Epoch 16/30\n",
      "25000/25000 [==============================] - 46s 2ms/step - loss: 0.3097 - acc: 0.8855 - val_loss: 0.5206 - val_acc: 0.8254\n",
      "Epoch 17/30\n",
      "25000/25000 [==============================] - 46s 2ms/step - loss: 0.3002 - acc: 0.8880 - val_loss: 0.5345 - val_acc: 0.8178\n",
      "Epoch 18/30\n",
      "25000/25000 [==============================] - 46s 2ms/step - loss: 0.2909 - acc: 0.8904 - val_loss: 0.5495 - val_acc: 0.8216\n",
      "Epoch 19/30\n",
      "25000/25000 [==============================] - 46s 2ms/step - loss: 0.2720 - acc: 0.8989 - val_loss: 0.5466 - val_acc: 0.8248\n",
      "Epoch 20/30\n",
      "25000/25000 [==============================] - 46s 2ms/step - loss: 0.2718 - acc: 0.8993 - val_loss: 0.5535 - val_acc: 0.8214\n",
      "Epoch 21/30\n",
      "25000/25000 [==============================] - 46s 2ms/step - loss: 0.2623 - acc: 0.9004 - val_loss: 0.5466 - val_acc: 0.8268\n",
      "Epoch 22/30\n",
      "25000/25000 [==============================] - 46s 2ms/step - loss: 0.2514 - acc: 0.9068 - val_loss: 0.5431 - val_acc: 0.8258\n",
      "Epoch 23/30\n",
      "25000/25000 [==============================] - 46s 2ms/step - loss: 0.2568 - acc: 0.9058 - val_loss: 0.5595 - val_acc: 0.8228\n",
      "Epoch 24/30\n",
      "25000/25000 [==============================] - 46s 2ms/step - loss: 0.2478 - acc: 0.9072 - val_loss: 0.5579 - val_acc: 0.8294\n",
      "Epoch 25/30\n",
      "25000/25000 [==============================] - 46s 2ms/step - loss: 0.2372 - acc: 0.9119 - val_loss: 0.5662 - val_acc: 0.8250\n",
      "Epoch 26/30\n",
      "25000/25000 [==============================] - 46s 2ms/step - loss: 0.2320 - acc: 0.9146 - val_loss: 0.5860 - val_acc: 0.8230\n",
      "Epoch 27/30\n",
      "25000/25000 [==============================] - 46s 2ms/step - loss: 0.2278 - acc: 0.9152 - val_loss: 0.5691 - val_acc: 0.8282\n",
      "Epoch 28/30\n",
      "25000/25000 [==============================] - 46s 2ms/step - loss: 0.2203 - acc: 0.9173 - val_loss: 0.5744 - val_acc: 0.8294\n",
      "Epoch 29/30\n",
      "25000/25000 [==============================] - 46s 2ms/step - loss: 0.2222 - acc: 0.9193 - val_loss: 0.5727 - val_acc: 0.8290\n",
      "Epoch 30/30\n",
      "25000/25000 [==============================] - 46s 2ms/step - loss: 0.2233 - acc: 0.9170 - val_loss: 0.5879 - val_acc: 0.8184\n"
     ]
    },
    {
     "data": {
      "text/plain": [
       "<keras.callbacks.History at 0x7fc1097079e8>"
      ]
     },
     "execution_count": 12,
     "metadata": {
      "tags": []
     },
     "output_type": "execute_result"
    }
   ],
   "source": [
    "from keras.optimizers import adam\n",
    "optimizer = adam(lr = 0.001)\n",
    "model.compile(optimizer = optimizer, loss = 'categorical_crossentropy',metrics = ['accuracy'])\n",
    "model.fit(x_train_lt5,y_train_lt5, validation_data=(x_test_lt5,y_test_lt5), epochs = 30, batch_size= 32) "
   ]
  },
  {
   "cell_type": "markdown",
   "metadata": {
    "colab_type": "text",
    "id": "S4wvh-JCFNWB"
   },
   "source": [
    "### Evaluate your model"
   ]
  },
  {
   "cell_type": "code",
   "execution_count": 13,
   "metadata": {
    "colab": {
     "base_uri": "https://localhost:8080/",
     "height": 53
    },
    "colab_type": "code",
    "executionInfo": {
     "elapsed": 1399071,
     "status": "ok",
     "timestamp": 1563790615711,
     "user": {
      "displayName": "Suryansh Sharma",
      "photoUrl": "",
      "userId": "03232072030227591914"
     },
     "user_tz": -330
    },
    "id": "iIpZqrtF24fO",
    "outputId": "ee2b0654-d2fb-4e1d-cf4e-263dc6c63844"
   },
   "outputs": [
    {
     "name": "stdout",
     "output_type": "stream",
     "text": [
      "5000/5000 [==============================] - 2s 479us/step\n"
     ]
    },
    {
     "data": {
      "text/plain": [
       "[0.5879471374034881, 0.8184]"
      ]
     },
     "execution_count": 13,
     "metadata": {
      "tags": []
     },
     "output_type": "execute_result"
    }
   ],
   "source": [
    "model.evaluate(x_test_lt5,y_test_lt5)"
   ]
  },
  {
   "cell_type": "markdown",
   "metadata": {
    "colab_type": "text",
    "id": "woTfNst_ynRG"
   },
   "source": [
    "## In the model which was built above (for classification of classes 0-4 in CIFAR10), make only the dense layers to be trainable and conv layers to be non-trainable"
   ]
  },
  {
   "cell_type": "code",
   "execution_count": 14,
   "metadata": {
    "colab": {
     "base_uri": "https://localhost:8080/",
     "height": 215
    },
    "colab_type": "code",
    "executionInfo": {
     "elapsed": 1399071,
     "status": "ok",
     "timestamp": 1563790615715,
     "user": {
      "displayName": "Suryansh Sharma",
      "photoUrl": "",
      "userId": "03232072030227591914"
     },
     "user_tz": -330
    },
    "id": "FWpSpxEg2zHC",
    "outputId": "5dae6f40-4d55-456f-ea3e-717a587de3bd"
   },
   "outputs": [
    {
     "name": "stdout",
     "output_type": "stream",
     "text": [
      "batch_normalization_1\n",
      "conv2d_1\n",
      "max_pooling2d_1\n",
      "dropout_1\n",
      "conv2d_2\n",
      "max_pooling2d_2\n",
      "dropout_2\n",
      "flatten_1\n",
      "dense_1\n",
      "dropout_3\n",
      "dense_2\n"
     ]
    }
   ],
   "source": [
    "for layers in model.layers:\n",
    "    print(layers.name)\n",
    "    if('dense' not in layers.name):\n",
    "        layers.trainable = False"
   ]
  },
  {
   "cell_type": "markdown",
   "metadata": {
    "colab_type": "text",
    "id": "CbOAuPQaF00B"
   },
   "source": [
    "### Print in colors"
   ]
  },
  {
   "cell_type": "code",
   "execution_count": 15,
   "metadata": {
    "colab": {
     "base_uri": "https://localhost:8080/",
     "height": 413
    },
    "colab_type": "code",
    "executionInfo": {
     "elapsed": 1399075,
     "status": "ok",
     "timestamp": 1563790615719,
     "user": {
      "displayName": "Suryansh Sharma",
      "photoUrl": "",
      "userId": "03232072030227591914"
     },
     "user_tz": -330
    },
    "id": "o_VCDB3Byb1a",
    "outputId": "cd1e7180-e834-4b23-8ae7-3ebe31d3a305"
   },
   "outputs": [
    {
     "name": "stdout",
     "output_type": "stream",
     "text": [
      "\u001b[34mbatch_normalization_1\u001b[0m\n",
      "\u001b[31mFalse\u001b[0m\n",
      "\u001b[34mconv2d_1\u001b[0m\n",
      "\u001b[31mFalse\u001b[0m\n",
      "\u001b[34mmax_pooling2d_1\u001b[0m\n",
      "\u001b[31mFalse\u001b[0m\n",
      "\u001b[34mdropout_1\u001b[0m\n",
      "\u001b[31mFalse\u001b[0m\n",
      "\u001b[34mconv2d_2\u001b[0m\n",
      "\u001b[31mFalse\u001b[0m\n",
      "\u001b[34mmax_pooling2d_2\u001b[0m\n",
      "\u001b[31mFalse\u001b[0m\n",
      "\u001b[34mdropout_2\u001b[0m\n",
      "\u001b[31mFalse\u001b[0m\n",
      "\u001b[34mflatten_1\u001b[0m\n",
      "\u001b[31mFalse\u001b[0m\n",
      "\u001b[34mdense_1\u001b[0m\n",
      "\u001b[31mTrue\u001b[0m\n",
      "\u001b[34mdropout_3\u001b[0m\n",
      "\u001b[31mFalse\u001b[0m\n",
      "\u001b[34mdense_2\u001b[0m\n",
      "\u001b[31mTrue\u001b[0m\n"
     ]
    }
   ],
   "source": [
    "#Module to print colourful statements\n",
    "from termcolor import colored\n",
    "\n",
    "#Check which layers have been frozen \n",
    "for layer in model.layers:\n",
    "  print (colored(layer.name, 'blue'))\n",
    "  print (colored(layer.trainable, 'red'))"
   ]
  },
  {
   "cell_type": "markdown",
   "metadata": {
    "colab_type": "text",
    "id": "1-uUPqWpyeyX"
   },
   "source": [
    "## Utilize the the model trained on CIFAR 10 (classes 0 to 4) to classify the classes 5 to 9 of CIFAR 10  (Use Transfer Learning) <br>\n",
    "Achieve an accuracy of more than 85% on test data"
   ]
  },
  {
   "cell_type": "code",
   "execution_count": 16,
   "metadata": {
    "colab": {
     "base_uri": "https://localhost:8080/",
     "height": 413
    },
    "colab_type": "code",
    "executionInfo": {
     "elapsed": 1605565,
     "status": "ok",
     "timestamp": 1563790822211,
     "user": {
      "displayName": "Suryansh Sharma",
      "photoUrl": "",
      "userId": "03232072030227591914"
     },
     "user_tz": -330
    },
    "id": "szHjJgDvyfCt",
    "outputId": "c524b651-4b76-4d3f-c827-ab536d74287d"
   },
   "outputs": [
    {
     "name": "stdout",
     "output_type": "stream",
     "text": [
      "Train on 25000 samples, validate on 5000 samples\n",
      "Epoch 1/10\n",
      "25000/25000 [==============================] - 21s 831us/step - loss: 1.3695 - acc: 0.5637 - val_loss: 0.6390 - val_acc: 0.7692\n",
      "Epoch 2/10\n",
      "25000/25000 [==============================] - 20s 817us/step - loss: 0.6894 - acc: 0.7497 - val_loss: 0.5146 - val_acc: 0.8180\n",
      "Epoch 3/10\n",
      "25000/25000 [==============================] - 20s 810us/step - loss: 0.5723 - acc: 0.7896 - val_loss: 0.4687 - val_acc: 0.8342\n",
      "Epoch 4/10\n",
      "25000/25000 [==============================] - 21s 824us/step - loss: 0.5143 - acc: 0.8126 - val_loss: 0.4416 - val_acc: 0.8418\n",
      "Epoch 5/10\n",
      "25000/25000 [==============================] - 21s 834us/step - loss: 0.4760 - acc: 0.8276 - val_loss: 0.4205 - val_acc: 0.8472\n",
      "Epoch 6/10\n",
      "25000/25000 [==============================] - 20s 819us/step - loss: 0.4299 - acc: 0.8417 - val_loss: 0.4054 - val_acc: 0.8554\n",
      "Epoch 7/10\n",
      "25000/25000 [==============================] - 21s 820us/step - loss: 0.3999 - acc: 0.8559 - val_loss: 0.4019 - val_acc: 0.8560\n",
      "Epoch 8/10\n",
      "25000/25000 [==============================] - 21s 822us/step - loss: 0.3729 - acc: 0.8619 - val_loss: 0.3992 - val_acc: 0.8576\n",
      "Epoch 9/10\n",
      "25000/25000 [==============================] - 21s 838us/step - loss: 0.3574 - acc: 0.8686 - val_loss: 0.3911 - val_acc: 0.8662\n",
      "Epoch 10/10\n",
      "25000/25000 [==============================] - 21s 825us/step - loss: 0.3331 - acc: 0.8771 - val_loss: 0.3921 - val_acc: 0.8648\n"
     ]
    },
    {
     "data": {
      "text/plain": [
       "<keras.callbacks.History at 0x7fc10363a240>"
      ]
     },
     "execution_count": 16,
     "metadata": {
      "tags": []
     },
     "output_type": "execute_result"
    }
   ],
   "source": [
    "from keras.optimizers import adam\n",
    "optimizer = adam(lr = 0.001)\n",
    "model.compile(optimizer = optimizer, loss = 'categorical_crossentropy', metrics = ['accuracy'])\n",
    "model.fit(x_train_gt5, y_train_gt5, validation_data = (x_test_gt5, y_test_gt5), epochs = 10, batch_size = 32)"
   ]
  },
  {
   "cell_type": "code",
   "execution_count": 17,
   "metadata": {
    "colab": {
     "base_uri": "https://localhost:8080/",
     "height": 53
    },
    "colab_type": "code",
    "executionInfo": {
     "elapsed": 1607796,
     "status": "ok",
     "timestamp": 1563790824444,
     "user": {
      "displayName": "Suryansh Sharma",
      "photoUrl": "",
      "userId": "03232072030227591914"
     },
     "user_tz": -330
    },
    "id": "8_Hd90rP4L1n",
    "outputId": "5c3485a4-4780-4c5f-ce8d-613b327fbee4"
   },
   "outputs": [
    {
     "name": "stdout",
     "output_type": "stream",
     "text": [
      "5000/5000 [==============================] - 2s 483us/step\n"
     ]
    },
    {
     "data": {
      "text/plain": [
       "[0.39206114587783814, 0.8648]"
      ]
     },
     "execution_count": 17,
     "metadata": {
      "tags": []
     },
     "output_type": "execute_result"
    }
   ],
   "source": [
    "model.evaluate(x_test_gt5, y_test_gt5)"
   ]
  }
 ],
 "metadata": {
  "colab": {
   "name": "practice_exercise_solutions_week2_cv_aiml_online",
   "provenance": [],
   "toc_visible": true,
   "version": "0.3.2"
  },
  "kernelspec": {
   "display_name": "Python 3",
   "language": "python",
   "name": "python3"
  },
  "language_info": {
   "codemirror_mode": {
    "name": "ipython",
    "version": 3
   },
   "file_extension": ".py",
   "mimetype": "text/x-python",
   "name": "python",
   "nbconvert_exporter": "python",
   "pygments_lexer": "ipython3",
   "version": "3.7.3"
  }
 },
 "nbformat": 4,
 "nbformat_minor": 1
}
