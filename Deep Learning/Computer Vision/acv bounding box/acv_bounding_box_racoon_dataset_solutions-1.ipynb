{
 "cells": [
  {
   "cell_type": "markdown",
   "metadata": {
    "colab_type": "text",
    "id": "I-P5m4iA_xe7"
   },
   "source": [
    "# Bounding box detection - Racoon data\n",
    "\n",
    "\n",
    "## Data files\n",
    "- images_racoon.rar: contain images of racoons\n",
    "- train_labels.cv: contains coordinates for bounding box for every image"
   ]
  },
  {
   "cell_type": "markdown",
   "metadata": {
    "colab_type": "text",
    "id": "XIReJQKIhcOM"
   },
   "source": [
    "## Import the necessary libraries"
   ]
  },
  {
   "cell_type": "code",
   "execution_count": 1,
   "metadata": {
    "colab": {},
    "colab_type": "code",
    "id": "_bN3xvb4hcWT"
   },
   "outputs": [],
   "source": [
    "import numpy as np\n",
    "import pandas as pd\n",
    "np.random.seed(1)"
   ]
  },
  {
   "cell_type": "code",
   "execution_count": 2,
   "metadata": {
    "colab": {},
    "colab_type": "code",
    "id": "XYTRQS4MhePv"
   },
   "outputs": [
    {
     "name": "stderr",
     "output_type": "stream",
     "text": [
      "Using TensorFlow backend.\n"
     ]
    }
   ],
   "source": [
    "from keras import Model\n",
    "from keras.applications.mobilenet import MobileNet, preprocess_input\n",
    "from keras.callbacks import ModelCheckpoint, EarlyStopping, ReduceLROnPlateau, Callback\n",
    "from keras.layers import Conv2D, Reshape\n",
    "from keras.utils import Sequence\n",
    "from keras.backend import epsilon\n",
    "import tensorflow as tf"
   ]
  },
  {
   "cell_type": "code",
   "execution_count": 3,
   "metadata": {
    "colab": {
     "base_uri": "https://localhost:8080/",
     "height": 34
    },
    "colab_type": "code",
    "executionInfo": {
     "elapsed": 1960,
     "status": "ok",
     "timestamp": 1559981399797,
     "user": {
      "displayName": "Suryansh Sharma",
      "photoUrl": "",
      "userId": "03232072030227591914"
     },
     "user_tz": -330
    },
    "id": "FBFTfFaxhhyn",
    "outputId": "12ed2892-3a9d-4c19-b6fe-d0a988861bbe"
   },
   "outputs": [],
   "source": [
    "# from google.colab import drive\n",
    "# drive.mount('/content/drive')"
   ]
  },
  {
   "cell_type": "markdown",
   "metadata": {
    "colab_type": "text",
    "id": "A0Xnsw3A9emI"
   },
   "source": [
    "### Change directory"
   ]
  },
  {
   "cell_type": "code",
   "execution_count": 4,
   "metadata": {
    "colab": {},
    "colab_type": "code",
    "id": "-_pi2SaJ9IAk"
   },
   "outputs": [],
   "source": [
    "# import os\n",
    "# os.chdir('/content/drive/My Drive/Topic wise labs/ACV')"
   ]
  },
  {
   "cell_type": "markdown",
   "metadata": {
    "colab_type": "text",
    "id": "prVMkiHPcLY6"
   },
   "source": [
    "### Load the training data from train.csv file"
   ]
  },
  {
   "cell_type": "code",
   "execution_count": 5,
   "metadata": {
    "colab": {},
    "colab_type": "code",
    "id": "jIehSx25hl9F"
   },
   "outputs": [],
   "source": [
    "train = pd.read_csv('train_labels (1).csv')"
   ]
  },
  {
   "cell_type": "markdown",
   "metadata": {
    "colab_type": "text",
    "id": "oYFh2BAXcNvn"
   },
   "source": [
    "### Print the shape of the train dataset"
   ]
  },
  {
   "cell_type": "code",
   "execution_count": 6,
   "metadata": {
    "colab": {
     "base_uri": "https://localhost:8080/",
     "height": 34
    },
    "colab_type": "code",
    "executionInfo": {
     "elapsed": 1965,
     "status": "ok",
     "timestamp": 1559981399805,
     "user": {
      "displayName": "Suryansh Sharma",
      "photoUrl": "",
      "userId": "03232072030227591914"
     },
     "user_tz": -330
    },
    "id": "_ICCxaSHiNSl",
    "outputId": "5aab0ea1-4875-4cf2-b95f-c90729fa1164"
   },
   "outputs": [
    {
     "data": {
      "text/plain": [
       "(173, 8)"
      ]
     },
     "execution_count": 6,
     "metadata": {},
     "output_type": "execute_result"
    }
   ],
   "source": [
    "train.shape"
   ]
  },
  {
   "cell_type": "markdown",
   "metadata": {
    "colab_type": "text",
    "id": "9wksULd6cR8N"
   },
   "source": [
    "### Print the head of the dataset"
   ]
  },
  {
   "cell_type": "code",
   "execution_count": 7,
   "metadata": {
    "colab": {
     "base_uri": "https://localhost:8080/",
     "height": 195
    },
    "colab_type": "code",
    "executionInfo": {
     "elapsed": 1965,
     "status": "ok",
     "timestamp": 1559981399806,
     "user": {
      "displayName": "Suryansh Sharma",
      "photoUrl": "",
      "userId": "03232072030227591914"
     },
     "user_tz": -330
    },
    "id": "5Xnvo6dGcSLu",
    "outputId": "605bc9b9-8175-438b-ad26-c7068f368888"
   },
   "outputs": [
    {
     "data": {
      "text/html": [
       "<div>\n",
       "<style scoped>\n",
       "    .dataframe tbody tr th:only-of-type {\n",
       "        vertical-align: middle;\n",
       "    }\n",
       "\n",
       "    .dataframe tbody tr th {\n",
       "        vertical-align: top;\n",
       "    }\n",
       "\n",
       "    .dataframe thead th {\n",
       "        text-align: right;\n",
       "    }\n",
       "</style>\n",
       "<table border=\"1\" class=\"dataframe\">\n",
       "  <thead>\n",
       "    <tr style=\"text-align: right;\">\n",
       "      <th></th>\n",
       "      <th>filename</th>\n",
       "      <th>width</th>\n",
       "      <th>height</th>\n",
       "      <th>class</th>\n",
       "      <th>xmin</th>\n",
       "      <th>ymin</th>\n",
       "      <th>xmax</th>\n",
       "      <th>ymax</th>\n",
       "    </tr>\n",
       "  </thead>\n",
       "  <tbody>\n",
       "    <tr>\n",
       "      <th>0</th>\n",
       "      <td>raccoon-17.jpg</td>\n",
       "      <td>259</td>\n",
       "      <td>194</td>\n",
       "      <td>raccoon</td>\n",
       "      <td>95</td>\n",
       "      <td>60</td>\n",
       "      <td>167</td>\n",
       "      <td>118</td>\n",
       "    </tr>\n",
       "    <tr>\n",
       "      <th>1</th>\n",
       "      <td>raccoon-11.jpg</td>\n",
       "      <td>660</td>\n",
       "      <td>432</td>\n",
       "      <td>raccoon</td>\n",
       "      <td>3</td>\n",
       "      <td>1</td>\n",
       "      <td>461</td>\n",
       "      <td>431</td>\n",
       "    </tr>\n",
       "    <tr>\n",
       "      <th>2</th>\n",
       "      <td>raccoon-63.jpg</td>\n",
       "      <td>600</td>\n",
       "      <td>400</td>\n",
       "      <td>raccoon</td>\n",
       "      <td>74</td>\n",
       "      <td>107</td>\n",
       "      <td>280</td>\n",
       "      <td>290</td>\n",
       "    </tr>\n",
       "    <tr>\n",
       "      <th>3</th>\n",
       "      <td>raccoon-63.jpg</td>\n",
       "      <td>600</td>\n",
       "      <td>400</td>\n",
       "      <td>raccoon</td>\n",
       "      <td>227</td>\n",
       "      <td>93</td>\n",
       "      <td>403</td>\n",
       "      <td>298</td>\n",
       "    </tr>\n",
       "    <tr>\n",
       "      <th>4</th>\n",
       "      <td>raccoon-60.jpg</td>\n",
       "      <td>273</td>\n",
       "      <td>185</td>\n",
       "      <td>raccoon</td>\n",
       "      <td>58</td>\n",
       "      <td>33</td>\n",
       "      <td>197</td>\n",
       "      <td>127</td>\n",
       "    </tr>\n",
       "  </tbody>\n",
       "</table>\n",
       "</div>"
      ],
      "text/plain": [
       "         filename  width  height    class  xmin  ymin  xmax  ymax\n",
       "0  raccoon-17.jpg    259     194  raccoon    95    60   167   118\n",
       "1  raccoon-11.jpg    660     432  raccoon     3     1   461   431\n",
       "2  raccoon-63.jpg    600     400  raccoon    74   107   280   290\n",
       "3  raccoon-63.jpg    600     400  raccoon   227    93   403   298\n",
       "4  raccoon-60.jpg    273     185  raccoon    58    33   197   127"
      ]
     },
     "execution_count": 7,
     "metadata": {},
     "output_type": "execute_result"
    }
   ],
   "source": [
    "train.head()"
   ]
  },
  {
   "cell_type": "markdown",
   "metadata": {
    "colab_type": "text",
    "id": "Ei0w-HeocXqR"
   },
   "source": [
    "### Declare a variable IMAGE_SIZE = 128 as we will be using MobileNet which will be taking Input shape as 128 * 128 "
   ]
  },
  {
   "cell_type": "code",
   "execution_count": 8,
   "metadata": {
    "colab": {},
    "colab_type": "code",
    "id": "fADKzbBGcX0j"
   },
   "outputs": [],
   "source": [
    "IMAGE_SIZE = 128"
   ]
  },
  {
   "cell_type": "markdown",
   "metadata": {
    "colab_type": "text",
    "id": "5wL3ESVzcbZV"
   },
   "source": [
    "### With the help of csvr.reader write a for loop which can load the train.csv file and store the path, width, height, x0,y0,x1,y1 in induvidual variables. <br>\n",
    "1. Create a list variable known as 'path' which has all the path for all the training images\n",
    "2. Create an array 'coords' which has the resized coordinates of the bounding box for the training images\n",
    "\n",
    "<u>Note:</u> All the training images should be downsampled to 128 * 128 as it is the input shape of MobileNet (which we will be using for Object detection). Hence the corresponding coordinates of the bounding boxes should be changed to match the image dimension of 128 * 128 "
   ]
  },
  {
   "cell_type": "code",
   "execution_count": 9,
   "metadata": {
    "colab": {},
    "colab_type": "code",
    "id": "J7qYNTtFcbke"
   },
   "outputs": [],
   "source": [
    "import csv\n",
    "with open('train_labels (1).csv','r') as csvfile:\n",
    "    paths = []\n",
    "    coords = np.zeros((sum(1 for line in csvfile) - 1, 4))\n",
    "    spamreader = csv.reader(csvfile, delimiter=',')\n",
    "    csvfile.seek(0)\n",
    "    next(spamreader, None)\n",
    "    for i,row in enumerate(spamreader):\n",
    "        #print(row)\n",
    "        for j, r in enumerate(row): # Parse row with seven entities\n",
    "            #print(i)\n",
    "            if((j!= 0) & (j!=3)):\n",
    "                row[j] = int(r)\n",
    "            \n",
    "        #print(row)      \n",
    "        path, width, height, class_, xmin, ymin, xmax, ymax = row\n",
    "        paths.append(path)\n",
    "        #print(i)\n",
    "        coords[i,0] = xmin * IMAGE_SIZE / width\n",
    "        coords[i,1] = ymin * IMAGE_SIZE / height\n",
    "        coords[i,2] = xmax * IMAGE_SIZE / width # Normalize bounding box by image size\n",
    "        coords[i,3] = ymax * IMAGE_SIZE / height"
   ]
  },
  {
   "cell_type": "markdown",
   "metadata": {
    "colab_type": "text",
    "id": "bsxsGxEMcf4_"
   },
   "source": [
    "### Write a for loop which can load all the training images into a variable 'batch_images' using the paths from the 'paths' variable\n",
    "<u>Note:</u> Convert the image to RGB scale as the MobileNet accepts 3 channels as inputs   "
   ]
  },
  {
   "cell_type": "code",
   "execution_count": 10,
   "metadata": {
    "colab": {},
    "colab_type": "code",
    "id": "KLrIOYQkcgEQ"
   },
   "outputs": [],
   "source": [
    "from PIL import Image\n",
    "batch_images = np.zeros((len(paths), IMAGE_SIZE, IMAGE_SIZE, 3), dtype=np.float32)\n",
    "\n",
    "for i, f in enumerate(paths):\n",
    "    img = Image.open('images/'+ f) # Read image\n",
    "    img = img.resize((IMAGE_SIZE, IMAGE_SIZE)) # Resize image\n",
    "    img = img.convert('RGB')\n",
    "    batch_images[i] = preprocess_input(np.array(img, dtype=np.float32))\n",
    "      "
   ]
  },
  {
   "cell_type": "markdown",
   "metadata": {
    "colab_type": "text",
    "id": "0otNJrSXckBR"
   },
   "source": [
    "### Import MobileNet and load MobileNet into a variable named 'model' which takes input shape of 128 * 128 * 3. Freeze all the layers. Add convolution and reshape layers at the end to ensure the output is 4 coordinates"
   ]
  },
  {
   "cell_type": "code",
   "execution_count": 11,
   "metadata": {
    "colab": {},
    "colab_type": "code",
    "id": "nMI7vsCnckJT"
   },
   "outputs": [],
   "source": [
    "ALPHA = 1.0"
   ]
  },
  {
   "cell_type": "code",
   "execution_count": 12,
   "metadata": {
    "colab": {},
    "colab_type": "code",
    "id": "T7Xk-YvIcoEh"
   },
   "outputs": [
    {
     "name": "stdout",
     "output_type": "stream",
     "text": [
      "WARNING:tensorflow:From /Library/Frameworks/Python.framework/Versions/3.7/lib/python3.7/site-packages/tensorflow_core/python/ops/resource_variable_ops.py:1630: calling BaseResourceVariable.__init__ (from tensorflow.python.ops.resource_variable_ops) with constraint is deprecated and will be removed in a future version.\n",
      "Instructions for updating:\n",
      "If using Keras pass *_constraint arguments to layers.\n"
     ]
    }
   ],
   "source": [
    "model = MobileNet(input_shape=(IMAGE_SIZE, IMAGE_SIZE, 3), include_top=False, alpha=ALPHA) # Load pre-trained mobilenet\n",
    "# Do not include classification (top) layer\n",
    "\n",
    "# to freeze layers, except the new top layer, of course, which will be added below\n",
    "for layer in model.layers:\n",
    "    layer.trainable = False\n",
    "\n",
    "# Add new top layer which is a conv layer of the same size as the previous layer so that only 4 coords of BBox can be output\n",
    "x = model.layers[-1].output\n",
    "x = Conv2D(4, kernel_size=4, name=\"coords\")(x)\n",
    "# In the line above kernel size should be 3 for img size 96, 4 for img size 128, 5 for img size 160 etc.\n",
    "x = Reshape((4,))(x) # These are the 4 predicted coordinates of one BBox\n",
    "\n",
    "model = Model(inputs=model.input, outputs=x)"
   ]
  },
  {
   "cell_type": "markdown",
   "metadata": {
    "colab_type": "text",
    "id": "v8cV9keacqEC"
   },
   "source": [
    "### Define a custom loss function IoU which calculates Intersection Over Union"
   ]
  },
  {
   "cell_type": "code",
   "execution_count": 13,
   "metadata": {
    "colab": {},
    "colab_type": "code",
    "id": "WQZLEkA5cqW4"
   },
   "outputs": [],
   "source": [
    "def loss(gt,pred):\n",
    "    intersections = 0\n",
    "    unions = 0\n",
    "    diff_width = np.minimum(gt[:,0] + gt[:,2], pred[:,0] + pred[:,2]) - np.maximum(gt[:,0], pred[:,0])\n",
    "    diff_height = np.minimum(gt[:,1] + gt[:,3], pred[:,1] + pred[:,3]) - np.maximum(gt[:,1], pred[:,1])\n",
    "    intersection = diff_width * diff_height\n",
    "    \n",
    "    # Compute union\n",
    "    area_gt = gt[:,2] * gt[:,3]\n",
    "    area_pred = pred[:,2] * pred[:,3]\n",
    "    union = area_gt + area_pred - intersection\n",
    "\n",
    "#     Compute intersection and union over multiple boxes\n",
    "    for j, _ in enumerate(union):\n",
    "        if union[j] > 0 and intersection[j] > 0 and union[j] >= intersection[j]:\n",
    "            intersections += intersection[j]\n",
    "            unions += union[j]\n",
    "\n",
    "    # Compute IOU. Use epsilon to prevent division by zero\n",
    "    iou = np.round(intersections / (unions + epsilon()), 4)\n",
    "    iou = iou.astype(np.float32)\n",
    "    return iou\n",
    "\n",
    "def IoU(y_true, y_pred):\n",
    "    iou = tf.py_func(loss, [y_true, y_pred], tf.float32)\n",
    "    return iou"
   ]
  },
  {
   "cell_type": "code",
   "execution_count": 14,
   "metadata": {
    "colab": {},
    "colab_type": "code",
    "id": "BLHFUH0rcuOj"
   },
   "outputs": [],
   "source": [
    "PATIENCE = 10"
   ]
  },
  {
   "cell_type": "markdown",
   "metadata": {
    "colab_type": "text",
    "id": "3fJitR5acwOy"
   },
   "source": [
    "### Write model.compile function & model.fit function with: <br>\n",
    "1. Optimizer = Adam, Loss = 'mse' and metrics = IoU\n",
    "2. Epochs = 30, batch_size = 32, verbose = 1"
   ]
  },
  {
   "cell_type": "code",
   "execution_count": 15,
   "metadata": {
    "colab": {
     "base_uri": "https://localhost:8080/",
     "height": 1108
    },
    "colab_type": "code",
    "executionInfo": {
     "elapsed": 158731,
     "status": "ok",
     "timestamp": 1559981556584,
     "user": {
      "displayName": "Suryansh Sharma",
      "photoUrl": "",
      "userId": "03232072030227591914"
     },
     "user_tz": -330
    },
    "id": "eFca9i62czCr",
    "outputId": "90342c1a-209c-4db2-dc9e-7a8e886a8347"
   },
   "outputs": [
    {
     "name": "stdout",
     "output_type": "stream",
     "text": [
      "173\n",
      "WARNING:tensorflow:From <ipython-input-13-a811784d62ce>:25: py_func (from tensorflow.python.ops.script_ops) is deprecated and will be removed in a future version.\n",
      "Instructions for updating:\n",
      "tf.py_func is deprecated in TF V2. Instead, there are two\n",
      "    options available in V2.\n",
      "    - tf.py_function takes a python function which manipulates tf eager\n",
      "    tensors instead of numpy arrays. It's easy to convert a tf eager tensor to\n",
      "    an ndarray (just call tensor.numpy()) but having access to eager tensors\n",
      "    means `tf.py_function`s can use accelerators such as GPUs as well as\n",
      "    being differentiable using a gradient tape.\n",
      "    - tf.numpy_function maintains the semantics of the deprecated tf.py_func\n",
      "    (it is not differentiable, and manipulates numpy arrays). It drops the\n",
      "    stateful argument making all functions stateful.\n",
      "    \n",
      "WARNING:tensorflow:From /Library/Frameworks/Python.framework/Versions/3.7/lib/python3.7/site-packages/keras/backend/tensorflow_backend.py:422: The name tf.global_variables is deprecated. Please use tf.compat.v1.global_variables instead.\n",
      "\n",
      "Epoch 1/30\n",
      "173/173 [==============================] - 4s 21ms/step - loss: 4191.5666 - IoU: 0.0714\n",
      "Epoch 2/30\n",
      "173/173 [==============================] - 3s 16ms/step - loss: 864.6739 - IoU: 0.4045\n",
      "Epoch 3/30\n",
      "173/173 [==============================] - 3s 17ms/step - loss: 425.8618 - IoU: 0.5775\n",
      "Epoch 4/30\n",
      "173/173 [==============================] - 3s 18ms/step - loss: 622.6334 - IoU: 0.5326\n",
      "Epoch 5/30\n",
      "173/173 [==============================] - 3s 17ms/step - loss: 398.4800 - IoU: 0.5979\n",
      "Epoch 6/30\n",
      "173/173 [==============================] - 3s 18ms/step - loss: 213.9528 - IoU: 0.6531\n",
      "Epoch 7/30\n",
      "173/173 [==============================] - 3s 16ms/step - loss: 219.1109 - IoU: 0.6395\n",
      "Epoch 8/30\n",
      "173/173 [==============================] - 3s 20ms/step - loss: 191.3750 - IoU: 0.6666\n",
      "Epoch 9/30\n",
      "173/173 [==============================] - 3s 16ms/step - loss: 149.0494 - IoU: 0.7162\n",
      "Epoch 10/30\n",
      "173/173 [==============================] - 3s 19ms/step - loss: 136.8275 - IoU: 0.7297\n",
      "Epoch 11/30\n",
      "173/173 [==============================] - 3s 20ms/step - loss: 125.4672 - IoU: 0.7563\n",
      "Epoch 12/30\n",
      "173/173 [==============================] - 3s 17ms/step - loss: 112.5775 - IoU: 0.7540\n",
      "Epoch 13/30\n",
      "173/173 [==============================] - 3s 17ms/step - loss: 106.7703 - IoU: 0.7542\n",
      "Epoch 14/30\n",
      "173/173 [==============================] - 3s 17ms/step - loss: 98.4070 - IoU: 0.7551\n",
      "Epoch 15/30\n",
      "173/173 [==============================] - 3s 18ms/step - loss: 93.5791 - IoU: 0.7624\n",
      "Epoch 16/30\n",
      "173/173 [==============================] - 3s 18ms/step - loss: 85.1348 - IoU: 0.7688\n",
      "Epoch 17/30\n",
      "173/173 [==============================] - 3s 16ms/step - loss: 85.8936 - IoU: 0.7782\n",
      "Epoch 18/30\n",
      "173/173 [==============================] - 3s 17ms/step - loss: 84.2156 - IoU: 0.7827\n",
      "Epoch 19/30\n",
      "173/173 [==============================] - 3s 17ms/step - loss: 81.5734 - IoU: 0.7791\n",
      "Epoch 20/30\n",
      "173/173 [==============================] - 3s 16ms/step - loss: 76.9616 - IoU: 0.7857\n",
      "Epoch 21/30\n",
      "173/173 [==============================] - 3s 16ms/step - loss: 71.9604 - IoU: 0.8045\n",
      "Epoch 22/30\n",
      "173/173 [==============================] - 3s 16ms/step - loss: 71.5431 - IoU: 0.7979\n",
      "Epoch 23/30\n",
      "173/173 [==============================] - 4s 22ms/step - loss: 64.2762 - IoU: 0.8117\n",
      "Epoch 24/30\n",
      "173/173 [==============================] - 3s 20ms/step - loss: 69.5765 - IoU: 0.7952\n",
      "Epoch 25/30\n",
      "173/173 [==============================] - 3s 17ms/step - loss: 66.8843 - IoU: 0.8114\n",
      "Epoch 26/30\n",
      "173/173 [==============================] - 3s 17ms/step - loss: 65.0974 - IoU: 0.8085\n",
      "Epoch 27/30\n",
      "173/173 [==============================] - 3s 16ms/step - loss: 66.9839 - IoU: 0.8064\n",
      "Epoch 28/30\n",
      "173/173 [==============================] - 3s 17ms/step - loss: 63.5072 - IoU: 0.8217\n",
      "Epoch 29/30\n",
      "173/173 [==============================] - 3s 16ms/step - loss: 66.9670 - IoU: 0.8130\n",
      "Epoch 30/30\n",
      "173/173 [==============================] - 3s 17ms/step - loss: 63.6773 - IoU: 0.8226\n"
     ]
    },
    {
     "data": {
      "text/plain": [
       "<keras.callbacks.callbacks.History at 0x12f417518>"
      ]
     },
     "execution_count": 15,
     "metadata": {},
     "output_type": "execute_result"
    }
   ],
   "source": [
    "gt = coords\n",
    "len(batch_images)\n",
    "print(len(coords))\n",
    "model.compile(optimizer='Adam', loss='mse', metrics=[IoU]) # Regression loss is MSE\n",
    "\n",
    "checkpoint = ModelCheckpoint(\"model-{val_iou:.2f}.h5\", verbose=1, save_best_only=True,\n",
    "                              save_weights_only=True, mode=\"max\", period=1) # Checkpoint best validation model\n",
    "stop = EarlyStopping(monitor=\"val_iou\", patience=PATIENCE, mode=\"max\") # Stop early, if the validation error deteriorates\n",
    "reduce_lr = ReduceLROnPlateau(monitor=\"val_iou\", factor=0.2, patience=10, min_lr=1e-7, verbose=1, mode=\"max\")\n",
    "# Reduce learning rate if Validation IOU does not improve\n",
    "\n",
    "model.fit(batch_images,gt, epochs=30,batch_size = 32, verbose=1)"
   ]
  },
  {
   "cell_type": "markdown",
   "metadata": {
    "colab_type": "text",
    "id": "kDo8wrdzc1aY"
   },
   "source": [
    "### Pick a test image from the given data"
   ]
  },
  {
   "cell_type": "code",
   "execution_count": 16,
   "metadata": {
    "colab": {},
    "colab_type": "code",
    "id": "8nQ5srTqcwaN"
   },
   "outputs": [],
   "source": [
    "# Pick a test image, run model, show image, and show predicted bounding box overlaid on the image\n",
    "import cv2\n",
    "filename = 'images/raccoon-10.jpg'\n",
    "unscaled = cv2.imread(filename) # Original image for display"
   ]
  },
  {
   "cell_type": "markdown",
   "metadata": {
    "colab_type": "text",
    "id": "uhKS1g2Uc5cA"
   },
   "source": [
    "### Resize the image to 128 * 128 and preprocess the image for the MobileNet model"
   ]
  },
  {
   "cell_type": "code",
   "execution_count": 17,
   "metadata": {
    "colab": {},
    "colab_type": "code",
    "id": "tQ4-wRaac3A5"
   },
   "outputs": [],
   "source": [
    "image_height, image_width, _ = unscaled.shape\n",
    "image = cv2.resize(unscaled, (IMAGE_SIZE, IMAGE_SIZE)) # Rescaled image to run the network\n",
    "feat_scaled = preprocess_input(np.array(image, dtype=np.float32))"
   ]
  },
  {
   "cell_type": "markdown",
   "metadata": {
    "colab_type": "text",
    "id": "rJcUupVEc8re"
   },
   "source": [
    "### Predict the coordinates of the bounding box for the given test image"
   ]
  },
  {
   "cell_type": "code",
   "execution_count": 23,
   "metadata": {
    "colab": {},
    "colab_type": "code",
    "id": "99OP2euoc84b"
   },
   "outputs": [
    {
     "data": {
      "text/plain": [
       "(4,)"
      ]
     },
     "execution_count": 23,
     "metadata": {},
     "output_type": "execute_result"
    }
   ],
   "source": [
    "region = model.predict(x=np.array([feat_scaled]))[0] # Predict the BBox\n",
    "region.shape"
   ]
  },
  {
   "cell_type": "code",
   "execution_count": 22,
   "metadata": {},
   "outputs": [
    {
     "data": {
      "text/plain": [
       "array([ 30.537064 ,   2.4052007, 135.97272  , 132.94075  ], dtype=float32)"
      ]
     },
     "execution_count": 22,
     "metadata": {},
     "output_type": "execute_result"
    }
   ],
   "source": [
    "region"
   ]
  },
  {
   "cell_type": "code",
   "execution_count": 19,
   "metadata": {
    "colab": {},
    "colab_type": "code",
    "id": "PHgsSw3-c_6P"
   },
   "outputs": [],
   "source": [
    "x0 = int(region[0] * image_width / IMAGE_SIZE) # Scale the BBox\n",
    "y0 = int(region[1] * image_height / IMAGE_SIZE)\n",
    "\n",
    "x1 = int((region[2]) * image_width / IMAGE_SIZE)\n",
    "y1 = int((region[3]) * image_height / IMAGE_SIZE)"
   ]
  },
  {
   "cell_type": "markdown",
   "metadata": {
    "colab_type": "text",
    "id": "f-QBLCzPdDAo"
   },
   "source": [
    "### Plot the test image using .imshow and draw a boundary box around the image with the coordinates obtained from the model"
   ]
  },
  {
   "cell_type": "code",
   "execution_count": 20,
   "metadata": {
    "colab": {},
    "colab_type": "code",
    "id": "NA5y2WSNdCLL"
   },
   "outputs": [],
   "source": [
    "import matplotlib.pyplot as plt\n",
    "import matplotlib.patches as patches\n",
    "from PIL import Image\n",
    "import numpy as np"
   ]
  },
  {
   "cell_type": "code",
   "execution_count": 21,
   "metadata": {
    "colab": {
     "base_uri": "https://localhost:8080/",
     "height": 269
    },
    "colab_type": "code",
    "executionInfo": {
     "elapsed": 160380,
     "status": "ok",
     "timestamp": 1559981558241,
     "user": {
      "displayName": "Suryansh Sharma",
      "photoUrl": "",
      "userId": "03232072030227591914"
     },
     "user_tz": -330
    },
    "id": "B9fGBQrvdF8m",
    "outputId": "a8bfc249-e42c-4ec8-adda-45ea20c53a31"
   },
   "outputs": [
    {
     "data": {
      "image/png": "[encoded data removed]",
      "text/plain": [
       "<Figure size 432x288 with 1 Axes>"
      ]
     },
     "metadata": {
      "needs_background": "light"
     },
     "output_type": "display_data"
    }
   ],
   "source": [
    "# Create figure and axes\n",
    "fig,ax = plt.subplots(1)\n",
    "\n",
    "# Display the image\n",
    "ax.imshow(unscaled)\n",
    "\n",
    "# Create a Rectangle patch\n",
    "rect = patches.Rectangle((x0, y0), (x1 - x0) , (y1 - y0) , linewidth=2, edgecolor='r', facecolor='none')\n",
    "\n",
    "# Add the patch to the Axes\n",
    "ax.add_patch(rect)\n",
    "\n",
    "plt.show()"
   ]
  },
  {
   "cell_type": "code",
   "execution_count": null,
   "metadata": {
    "colab": {},
    "colab_type": "code",
    "id": "bjMQ3i_G-1iH"
   },
   "outputs": [],
   "source": []
  }
 ],
 "metadata": {
  "colab": {
   "name": "acv_bounding_box_racoon_dataset_solutions",
   "provenance": [],
   "version": "0.3.2"
  },
  "kernelspec": {
   "display_name": "Python 3",
   "language": "python",
   "name": "python3"
  },
  "language_info": {
   "codemirror_mode": {
    "name": "ipython",
    "version": 3
   },
   "file_extension": ".py",
   "mimetype": "text/x-python",
   "name": "python",
   "nbconvert_exporter": "python",
   "pygments_lexer": "ipython3",
   "version": "3.7.3"
  }
 },
 "nbformat": 4,
 "nbformat_minor": 1
}
