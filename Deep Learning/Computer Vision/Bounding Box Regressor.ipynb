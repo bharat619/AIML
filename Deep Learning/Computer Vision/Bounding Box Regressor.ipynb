{
 "cells": [
  {
   "cell_type": "code",
   "execution_count": 1,
   "metadata": {},
   "outputs": [],
   "source": [
    "import csv\n",
    "import cv2\n",
    "import glob\n",
    "import os\n",
    "import xml.etree.ElementTree as ET\n",
    "\n",
    "import numpy as np\n",
    "TRAIN_OUTPUT_FILE = 'train (1).csv'\n",
    "VALIDATION_OUTPUT_FILE = 'validation.csv'\n",
    "\n",
    "SPLIT_RATIO = 0.8\n",
    "AUGMENTATION = False\n",
    "AUGMENTATION_DEBUG = False\n",
    "AUGMENTATION_PER_IMAGE = 25\n",
    "AUGMENTAION_FOLDER = 'augmentations'"
   ]
  },
  {
   "cell_type": "code",
   "execution_count": 2,
   "metadata": {},
   "outputs": [],
   "source": [
    "try:\n",
    "    import imgaug as ia\n",
    "    from imgaug import augmenters as iaa\n",
    "except ImportError:\n",
    "    print(\"Augmentation disabled\")\n",
    "    AUGMENTATION = False"
   ]
  },
  {
   "cell_type": "code",
   "execution_count": null,
   "metadata": {},
   "outputs": [],
   "source": [
    "def generate(row):\n",
    "    path, height, width, xmin, ymin, xmax, ymax, class_name, class_id = row\n",
    "    image = "
   ]
  }
 ],
 "metadata": {
  "kernelspec": {
   "display_name": "Python 3",
   "language": "python",
   "name": "python3"
  },
  "language_info": {
   "codemirror_mode": {
    "name": "ipython",
    "version": 3
   },
   "file_extension": ".py",
   "mimetype": "text/x-python",
   "name": "python",
   "nbconvert_exporter": "python",
   "pygments_lexer": "ipython3",
   "version": "3.7.3"
  }
 },
 "nbformat": 4,
 "nbformat_minor": 2
}
