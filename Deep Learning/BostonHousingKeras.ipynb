{
 "cells": [
  {
   "cell_type": "code",
   "execution_count": 1,
   "metadata": {},
   "outputs": [],
   "source": [
    "import tensorflow as tf\n",
    "tf.reset_default_graph()"
   ]
  },
  {
   "cell_type": "code",
   "execution_count": 2,
   "metadata": {},
   "outputs": [
    {
     "data": {
      "text/plain": [
       "'2.2.4-tf'"
      ]
     },
     "execution_count": 2,
     "metadata": {},
     "output_type": "execute_result"
    }
   ],
   "source": [
    "tf.keras.__version__"
   ]
  },
  {
   "cell_type": "code",
   "execution_count": 3,
   "metadata": {},
   "outputs": [
    {
     "name": "stderr",
     "output_type": "stream",
     "text": [
      "Using TensorFlow backend.\n"
     ]
    }
   ],
   "source": [
    "import keras as ks"
   ]
  },
  {
   "cell_type": "code",
   "execution_count": 4,
   "metadata": {},
   "outputs": [
    {
     "data": {
      "text/plain": [
       "'2.3.1'"
      ]
     },
     "execution_count": 4,
     "metadata": {},
     "output_type": "execute_result"
    }
   ],
   "source": [
    "ks.__version__"
   ]
  },
  {
   "cell_type": "code",
   "execution_count": 5,
   "metadata": {},
   "outputs": [],
   "source": [
    "(features, actual_prices), _ = tf.keras.datasets.boston_housing.load_data(test_split=0)"
   ]
  },
  {
   "cell_type": "code",
   "execution_count": 9,
   "metadata": {},
   "outputs": [
    {
     "name": "stdout",
     "output_type": "stream",
     "text": [
      "Number of examples  506\n",
      "Number of features for each examples  13\n",
      "Actual prices shape  (506,)\n"
     ]
    }
   ],
   "source": [
    "print('Number of examples ', features.shape[0])\n",
    "print('Number of features for each examples ', features.shape[1])\n",
    "print('Actual prices shape ', actual_prices.shape)"
   ]
  },
  {
   "cell_type": "code",
   "execution_count": 10,
   "metadata": {},
   "outputs": [
    {
     "name": "stdout",
     "output_type": "stream",
     "text": [
      "WARNING:tensorflow:From /Library/Frameworks/Python.framework/Versions/3.7/lib/python3.7/site-packages/tensorflow_core/python/ops/resource_variable_ops.py:1630: calling BaseResourceVariable.__init__ (from tensorflow.python.ops.resource_variable_ops) with constraint is deprecated and will be removed in a future version.\n",
      "Instructions for updating:\n",
      "If using Keras pass *_constraint arguments to layers.\n"
     ]
    }
   ],
   "source": [
    "model = tf.keras.models.Sequential()\n",
    "\n",
    "# normalize data\n",
    "model.add(tf.keras.layers.BatchNormalization(input_shape=(13,)))\n",
    "\n",
    "# Dense layer, y = ax + b\n",
    "model.add(tf.keras.layers.Dense(1))\n",
    "\n",
    "model.compile(optimizer='sgd', loss='mse')"
   ]
  },
  {
   "cell_type": "code",
   "execution_count": 11,
   "metadata": {},
   "outputs": [
    {
     "name": "stdout",
     "output_type": "stream",
     "text": [
      "Train on 506 samples\n",
      "Epoch 1/100\n",
      "506/506 [==============================] - 0s 669us/sample - loss: 197.1453\n",
      "Epoch 2/100\n",
      "506/506 [==============================] - 0s 98us/sample - loss: 38.8756\n",
      "Epoch 3/100\n",
      "506/506 [==============================] - 0s 86us/sample - loss: 36.4753\n",
      "Epoch 4/100\n",
      "506/506 [==============================] - 0s 90us/sample - loss: 35.4653\n",
      "Epoch 5/100\n",
      "506/506 [==============================] - 0s 80us/sample - loss: 36.8709\n",
      "Epoch 6/100\n",
      "506/506 [==============================] - 0s 126us/sample - loss: 34.8658\n",
      "Epoch 7/100\n",
      "506/506 [==============================] - 0s 92us/sample - loss: 36.2506\n",
      "Epoch 8/100\n",
      "506/506 [==============================] - 0s 93us/sample - loss: 31.7684\n",
      "Epoch 9/100\n",
      "506/506 [==============================] - 0s 98us/sample - loss: 31.7212\n",
      "Epoch 10/100\n",
      "506/506 [==============================] - 0s 125us/sample - loss: 30.6527\n",
      "Epoch 11/100\n",
      "506/506 [==============================] - 0s 106us/sample - loss: 29.2845\n",
      "Epoch 12/100\n",
      "506/506 [==============================] - 0s 165us/sample - loss: 32.9298\n",
      "Epoch 13/100\n",
      "506/506 [==============================] - 0s 191us/sample - loss: 27.9011\n",
      "Epoch 14/100\n",
      "506/506 [==============================] - 0s 104us/sample - loss: 26.9159\n",
      "Epoch 15/100\n",
      "506/506 [==============================] - 0s 91us/sample - loss: 32.0206\n",
      "Epoch 16/100\n",
      "506/506 [==============================] - 0s 59us/sample - loss: 30.7491\n",
      "Epoch 17/100\n",
      "506/506 [==============================] - 0s 64us/sample - loss: 35.0698\n",
      "Epoch 18/100\n",
      "506/506 [==============================] - 0s 89us/sample - loss: 28.6768\n",
      "Epoch 19/100\n",
      "506/506 [==============================] - 0s 85us/sample - loss: 28.9884\n",
      "Epoch 20/100\n",
      "506/506 [==============================] - 0s 61us/sample - loss: 29.2212\n",
      "Epoch 21/100\n",
      "506/506 [==============================] - 0s 57us/sample - loss: 28.4496\n",
      "Epoch 22/100\n",
      "506/506 [==============================] - 0s 62us/sample - loss: 29.2728\n",
      "Epoch 23/100\n",
      "506/506 [==============================] - 0s 54us/sample - loss: 28.5403\n",
      "Epoch 24/100\n",
      "506/506 [==============================] - 0s 50us/sample - loss: 28.7960\n",
      "Epoch 25/100\n",
      "506/506 [==============================] - 0s 67us/sample - loss: 27.2600\n",
      "Epoch 26/100\n",
      "506/506 [==============================] - 0s 62us/sample - loss: 27.4023\n",
      "Epoch 27/100\n",
      "506/506 [==============================] - 0s 55us/sample - loss: 27.4104\n",
      "Epoch 28/100\n",
      "506/506 [==============================] - 0s 63us/sample - loss: 27.3760\n",
      "Epoch 29/100\n",
      "506/506 [==============================] - 0s 58us/sample - loss: 26.9922\n",
      "Epoch 30/100\n",
      "506/506 [==============================] - 0s 60us/sample - loss: 31.8701\n",
      "Epoch 31/100\n",
      "506/506 [==============================] - 0s 102us/sample - loss: 27.8480\n",
      "Epoch 32/100\n",
      "506/506 [==============================] - 0s 102us/sample - loss: 32.4613\n",
      "Epoch 33/100\n",
      "506/506 [==============================] - 0s 278us/sample - loss: 29.7386\n",
      "Epoch 34/100\n",
      "506/506 [==============================] - 0s 112us/sample - loss: 30.6911\n",
      "Epoch 35/100\n",
      "506/506 [==============================] - 0s 208us/sample - loss: 29.3270\n",
      "Epoch 36/100\n",
      "506/506 [==============================] - 0s 89us/sample - loss: 29.6640\n",
      "Epoch 37/100\n",
      "506/506 [==============================] - 0s 81us/sample - loss: 29.4753\n",
      "Epoch 38/100\n",
      "506/506 [==============================] - 0s 76us/sample - loss: 30.9244\n",
      "Epoch 39/100\n",
      "506/506 [==============================] - 0s 76us/sample - loss: 25.1873\n",
      "Epoch 40/100\n",
      "506/506 [==============================] - 0s 80us/sample - loss: 30.4546\n",
      "Epoch 41/100\n",
      "506/506 [==============================] - 0s 162us/sample - loss: 26.6918\n",
      "Epoch 42/100\n",
      "506/506 [==============================] - 0s 125us/sample - loss: 31.6143\n",
      "Epoch 43/100\n",
      "506/506 [==============================] - 0s 114us/sample - loss: 24.2990\n",
      "Epoch 44/100\n",
      "506/506 [==============================] - 0s 99us/sample - loss: 25.1904\n",
      "Epoch 45/100\n",
      "506/506 [==============================] - 0s 233us/sample - loss: 28.4451\n",
      "Epoch 46/100\n",
      "506/506 [==============================] - 0s 158us/sample - loss: 27.9226\n",
      "Epoch 47/100\n",
      "506/506 [==============================] - 0s 181us/sample - loss: 30.8573\n",
      "Epoch 48/100\n",
      "506/506 [==============================] - 0s 203us/sample - loss: 28.8956\n",
      "Epoch 49/100\n",
      "506/506 [==============================] - 0s 167us/sample - loss: 32.2436\n",
      "Epoch 50/100\n",
      "506/506 [==============================] - 0s 134us/sample - loss: 27.1464\n",
      "Epoch 51/100\n",
      "506/506 [==============================] - 0s 125us/sample - loss: 29.8039\n",
      "Epoch 52/100\n",
      "506/506 [==============================] - 0s 87us/sample - loss: 27.2172\n",
      "Epoch 53/100\n",
      "506/506 [==============================] - 0s 75us/sample - loss: 33.0677\n",
      "Epoch 54/100\n",
      "506/506 [==============================] - 0s 105us/sample - loss: 29.6751\n",
      "Epoch 55/100\n",
      "506/506 [==============================] - 0s 115us/sample - loss: 27.5615\n",
      "Epoch 56/100\n",
      "506/506 [==============================] - 0s 135us/sample - loss: 29.5418\n",
      "Epoch 57/100\n",
      "506/506 [==============================] - 0s 150us/sample - loss: 30.5491\n",
      "Epoch 58/100\n",
      "506/506 [==============================] - 0s 98us/sample - loss: 25.7293\n",
      "Epoch 59/100\n",
      "506/506 [==============================] - 0s 136us/sample - loss: 28.9651\n",
      "Epoch 60/100\n",
      "506/506 [==============================] - 0s 84us/sample - loss: 27.9521\n",
      "Epoch 61/100\n",
      "506/506 [==============================] - 0s 103us/sample - loss: 27.9318\n",
      "Epoch 62/100\n",
      "506/506 [==============================] - 0s 216us/sample - loss: 28.5815\n",
      "Epoch 63/100\n",
      "506/506 [==============================] - 0s 172us/sample - loss: 30.2438\n",
      "Epoch 64/100\n",
      "506/506 [==============================] - 0s 108us/sample - loss: 26.4302\n",
      "Epoch 65/100\n",
      "506/506 [==============================] - 0s 79us/sample - loss: 30.0041\n",
      "Epoch 66/100\n",
      "506/506 [==============================] - 0s 73us/sample - loss: 26.5795\n",
      "Epoch 67/100\n",
      "506/506 [==============================] - 0s 104us/sample - loss: 30.6917\n",
      "Epoch 68/100\n",
      "506/506 [==============================] - 0s 108us/sample - loss: 29.5362\n",
      "Epoch 69/100\n",
      "506/506 [==============================] - 0s 111us/sample - loss: 24.5301\n",
      "Epoch 70/100\n",
      "506/506 [==============================] - 0s 104us/sample - loss: 25.7277\n",
      "Epoch 71/100\n",
      "506/506 [==============================] - 0s 99us/sample - loss: 33.1615\n",
      "Epoch 72/100\n",
      "506/506 [==============================] - 0s 144us/sample - loss: 29.7581\n",
      "Epoch 73/100\n",
      "506/506 [==============================] - 0s 99us/sample - loss: 30.9394\n",
      "Epoch 74/100\n",
      "506/506 [==============================] - 0s 73us/sample - loss: 30.2149\n",
      "Epoch 75/100\n",
      "506/506 [==============================] - 0s 60us/sample - loss: 25.1711\n",
      "Epoch 76/100\n",
      "506/506 [==============================] - 0s 77us/sample - loss: 28.3653\n",
      "Epoch 77/100\n",
      "506/506 [==============================] - 0s 124us/sample - loss: 26.0915\n",
      "Epoch 78/100\n",
      "506/506 [==============================] - 0s 77us/sample - loss: 25.4286\n",
      "Epoch 79/100\n",
      "506/506 [==============================] - 0s 76us/sample - loss: 33.5002\n",
      "Epoch 80/100\n",
      "506/506 [==============================] - 0s 91us/sample - loss: 32.2504\n",
      "Epoch 81/100\n",
      "506/506 [==============================] - 0s 82us/sample - loss: 29.2880\n",
      "Epoch 82/100\n",
      "506/506 [==============================] - 0s 126us/sample - loss: 28.5587\n",
      "Epoch 83/100\n",
      "506/506 [==============================] - 0s 78us/sample - loss: 28.2820\n",
      "Epoch 84/100\n",
      "506/506 [==============================] - 0s 103us/sample - loss: 26.4547\n",
      "Epoch 85/100\n",
      "506/506 [==============================] - 0s 82us/sample - loss: 28.6093\n",
      "Epoch 86/100\n",
      "506/506 [==============================] - 0s 83us/sample - loss: 25.7954\n",
      "Epoch 87/100\n",
      "506/506 [==============================] - 0s 103us/sample - loss: 26.0927\n",
      "Epoch 88/100\n",
      "506/506 [==============================] - 0s 85us/sample - loss: 28.1344\n",
      "Epoch 89/100\n",
      "506/506 [==============================] - 0s 89us/sample - loss: 29.0281\n",
      "Epoch 90/100\n",
      "506/506 [==============================] - 0s 75us/sample - loss: 30.5493\n",
      "Epoch 91/100\n",
      "506/506 [==============================] - 0s 86us/sample - loss: 29.5877\n",
      "Epoch 92/100\n",
      "506/506 [==============================] - 0s 135us/sample - loss: 25.9055\n",
      "Epoch 93/100\n",
      "506/506 [==============================] - 0s 94us/sample - loss: 29.4753\n",
      "Epoch 94/100\n"
     ]
    },
    {
     "name": "stdout",
     "output_type": "stream",
     "text": [
      "506/506 [==============================] - 0s 100us/sample - loss: 23.9699\n",
      "Epoch 95/100\n",
      "506/506 [==============================] - 0s 84us/sample - loss: 28.6801\n",
      "Epoch 96/100\n",
      "506/506 [==============================] - 0s 66us/sample - loss: 28.3431\n",
      "Epoch 97/100\n",
      "506/506 [==============================] - 0s 66us/sample - loss: 27.7945\n",
      "Epoch 98/100\n",
      "506/506 [==============================] - 0s 80us/sample - loss: 29.0611\n",
      "Epoch 99/100\n",
      "506/506 [==============================] - 0s 73us/sample - loss: 30.0929\n",
      "Epoch 100/100\n",
      "506/506 [==============================] - 0s 108us/sample - loss: 25.2286\n"
     ]
    },
    {
     "data": {
      "text/plain": [
       "<tensorflow.python.keras.callbacks.History at 0x1301ddac8>"
      ]
     },
     "execution_count": 11,
     "metadata": {},
     "output_type": "execute_result"
    }
   ],
   "source": [
    "model.fit(features, actual_prices, epochs=100)"
   ]
  },
  {
   "cell_type": "code",
   "execution_count": null,
   "metadata": {},
   "outputs": [],
   "source": []
  },
  {
   "cell_type": "code",
   "execution_count": null,
   "metadata": {},
   "outputs": [],
   "source": []
  }
 ],
 "metadata": {
  "kernelspec": {
   "display_name": "Python 3",
   "language": "python",
   "name": "python3"
  },
  "language_info": {
   "codemirror_mode": {
    "name": "ipython",
    "version": 3
   },
   "file_extension": ".py",
   "mimetype": "text/x-python",
   "name": "python",
   "nbconvert_exporter": "python",
   "pygments_lexer": "ipython3",
   "version": "3.7.3"
  }
 },
 "nbformat": 4,
 "nbformat_minor": 2
}
