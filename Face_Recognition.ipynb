{
  "nbformat": 4,
  "nbformat_minor": 0,
  "metadata": {
    "colab": {
      "name": "Face Recognition.ipynb",
      "provenance": []
    },
    "kernelspec": {
      "name": "python3",
      "display_name": "Python 3"
    },
    "accelerator": "GPU"
  },
  "cells": [
    {
      "cell_type": "code",
      "metadata": {
        "id": "CexXKuOOGZ80",
        "colab_type": "code",
        "outputId": "7d2f0661-8170-46cd-8f61-95323776fab9",
        "colab": {
          "base_uri": "https://localhost:8080/",
          "height": 34
        }
      },
      "source": [
        "%tensorflow_version 2.x"
      ],
      "execution_count": 0,
      "outputs": [
        {
          "output_type": "stream",
          "text": [
            "TensorFlow 2.x selected.\n"
          ],
          "name": "stdout"
        }
      ]
    },
    {
      "cell_type": "code",
      "metadata": {
        "id": "p4F1kn4wGepI",
        "colab_type": "code",
        "outputId": "4d3c55b9-cc8a-47df-fc47-5184f4db84cf",
        "colab": {
          "base_uri": "https://localhost:8080/",
          "height": 34
        }
      },
      "source": [
        "import tensorflow\n",
        "tensorflow.__version__"
      ],
      "execution_count": 0,
      "outputs": [
        {
          "output_type": "execute_result",
          "data": {
            "text/plain": [
              "'2.1.0'"
            ]
          },
          "metadata": {
            "tags": []
          },
          "execution_count": 2
        }
      ]
    },
    {
      "cell_type": "code",
      "metadata": {
        "id": "HZ3pgXJpGjwB",
        "colab_type": "code",
        "outputId": "91288a84-664c-4d1b-9aca-c671811654b3",
        "colab": {
          "base_uri": "https://localhost:8080/",
          "height": 125
        }
      },
      "source": [
        "from google.colab import drive\n",
        "drive.mount('/content/drive')"
      ],
      "execution_count": 0,
      "outputs": [
        {
          "output_type": "stream",
          "text": [
            "Go to this URL in a browser: https://accounts.google.com/o/oauth2/auth?client_id=947318989803-6bn6qk8qdgf4n4g3pfee6491hc0brc4i.apps.googleusercontent.com&redirect_uri=urn%3aietf%3awg%3aoauth%3a2.0%3aoob&response_type=code&scope=email%20https%3a%2f%2fwww.googleapis.com%2fauth%2fdocs.test%20https%3a%2f%2fwww.googleapis.com%2fauth%2fdrive%20https%3a%2f%2fwww.googleapis.com%2fauth%2fdrive.photos.readonly%20https%3a%2f%2fwww.googleapis.com%2fauth%2fpeopleapi.readonly\n",
            "\n",
            "Enter your authorization code:\n",
            "··········\n",
            "Mounted at /content/drive\n"
          ],
          "name": "stdout"
        }
      ]
    },
    {
      "cell_type": "code",
      "metadata": {
        "id": "a_0d1JO9Gu1E",
        "colab_type": "code",
        "colab": {}
      },
      "source": [
        "import os\n",
        "from zipfile import ZipFile\n",
        "import numpy as np\n",
        "import matplotlib.pyplot as plt\n",
        "import cv2\n",
        "from sklearn.preprocessing import LabelEncoder, StandardScaler\n",
        "from sklearn.decomposition import PCA\n",
        "from sklearn.svm import SVC\n",
        "\n",
        "from tensorflow.keras.models import Sequential, Model\n",
        "from tensorflow.keras.layers import Dense, Convolution2D, MaxPooling2D, Dropout, Flatten, Activation, ZeroPadding2D"
      ],
      "execution_count": 0,
      "outputs": []
    },
    {
      "cell_type": "markdown",
      "metadata": {
        "id": "Lkqv28OlG7gk",
        "colab_type": "text"
      },
      "source": [
        "#### Change current working directory to project folder"
      ]
    },
    {
      "cell_type": "code",
      "metadata": {
        "id": "quDIgUDFG2ql",
        "colab_type": "code",
        "colab": {}
      },
      "source": [
        "os.chdir('/content/drive/My Drive/Deep Learning/Face Recognition/')"
      ],
      "execution_count": 0,
      "outputs": []
    },
    {
      "cell_type": "markdown",
      "metadata": {
        "id": "DTDm6nOwHiTz",
        "colab_type": "text"
      },
      "source": [
        "### Extract the zip file\n",
        "- Extract Aligned Face Dataset from Pinterest.zip"
      ]
    },
    {
      "cell_type": "code",
      "metadata": {
        "id": "mkF5yFVJHHXp",
        "colab_type": "code",
        "colab": {}
      },
      "source": [
        "with ZipFile('Aligned Face Dataset from Pinterest.zip', 'r') as zip:\n",
        "  zip.extractall()"
      ],
      "execution_count": 0,
      "outputs": []
    },
    {
      "cell_type": "markdown",
      "metadata": {
        "id": "7Q_84tIFJDs4",
        "colab_type": "text"
      },
      "source": [
        "### Function to load images\n",
        "- Function to load the images from the extracted folder and map each image with person id \n"
      ]
    },
    {
      "cell_type": "code",
      "metadata": {
        "id": "04vHos90IMmS",
        "colab_type": "code",
        "colab": {}
      },
      "source": [
        "class IdentityMetaData():\n",
        "  def __init__(self, base, name, filename):\n",
        "    self.base = base\n",
        "    self.name = name\n",
        "    self.filename = filename\n",
        "\n",
        "  def __repr__(self):\n",
        "    return self.image_path()\n",
        "\n",
        "  def image_path(self):\n",
        "    return os.path.join(self.base, self.filename, self.name)"
      ],
      "execution_count": 0,
      "outputs": []
    },
    {
      "cell_type": "code",
      "metadata": {
        "id": "d1l810mHKkq4",
        "colab_type": "code",
        "colab": {}
      },
      "source": [
        "def load_metadata(path):\n",
        "  metadata = []\n",
        "  for folder in os.listdir(path):\n",
        "    for image in os.listdir(os.path.join(path,folder)):\n",
        "      extension = os.path.splitext(image)[1]\n",
        "      if(extension == '.jpg' or extension == '.jpeg'):\n",
        "        metadata.append(IdentityMetaData(base=path, name=image, filename=folder))\n",
        "  return np.array(metadata)"
      ],
      "execution_count": 0,
      "outputs": []
    },
    {
      "cell_type": "code",
      "metadata": {
        "id": "oiB54h8OKyfY",
        "colab_type": "code",
        "colab": {}
      },
      "source": [
        "metadata = load_metadata('PINS')"
      ],
      "execution_count": 0,
      "outputs": []
    },
    {
      "cell_type": "markdown",
      "metadata": {
        "id": "DS30ofyKUvRZ",
        "colab_type": "text"
      },
      "source": [
        "### Define function to load image\n",
        "- Define a function to load image from the metadata"
      ]
    },
    {
      "cell_type": "code",
      "metadata": {
        "id": "wyIYgU95OT16",
        "colab_type": "code",
        "colab": {}
      },
      "source": [
        "def load_image(path):\n",
        "  image = cv2.imread(path, cv2.IMREAD_COLOR)\n",
        "  # OpenCV loads images with color channels\n",
        "  # in BGR order. So we need to reverse them\n",
        "  return image[...,::-1]"
      ],
      "execution_count": 0,
      "outputs": []
    },
    {
      "cell_type": "markdown",
      "metadata": {
        "id": "-pjPWMwcZqhF",
        "colab_type": "text"
      },
      "source": [
        "#### Load a sample image\n",
        "- Load one image using the function \"load_image\""
      ]
    },
    {
      "cell_type": "code",
      "metadata": {
        "id": "pZhIrdABPwGK",
        "colab_type": "code",
        "outputId": "2b9d89c6-8cf3-4814-d0e5-6a52f792faa7",
        "colab": {
          "base_uri": "https://localhost:8080/",
          "height": 286
        }
      },
      "source": [
        "i = np.random.randint(1,500)\n",
        "img_meta= metadata[i]\n",
        "path = str(img_meta)\n",
        "image = load_image(path)\n",
        "plt.imshow(image)\n",
        "print(f'Shape of image is {image.shape}')"
      ],
      "execution_count": 0,
      "outputs": [
        {
          "output_type": "stream",
          "text": [
            "Shape of image is (299, 299, 3)\n"
          ],
          "name": "stdout"
        },
        {
          "output_type": "display_data",
          "data": {
            "image/png": "[encoded data removed]",
            "text/plain": [
              "<Figure size 432x288 with 1 Axes>"
            ]
          },
          "metadata": {
            "tags": []
          }
        }
      ]
    },
    {
      "cell_type": "code",
      "metadata": {
        "id": "1ZN5lLBs0OTR",
        "colab_type": "code",
        "outputId": "6af09e66-9911-4d91-fc6d-e57838df7625",
        "colab": {
          "base_uri": "https://localhost:8080/",
          "height": 887
        }
      },
      "source": [
        "image"
      ],
      "execution_count": 0,
      "outputs": [
        {
          "output_type": "execute_result",
          "data": {
            "text/plain": [
              "array([[[ 0,  0,  0],\n",
              "        [ 0,  0,  0],\n",
              "        [ 0,  0,  0],\n",
              "        ...,\n",
              "        [ 0,  0,  0],\n",
              "        [ 0,  0,  0],\n",
              "        [ 0,  0,  0]],\n",
              "\n",
              "       [[ 0,  0,  0],\n",
              "        [ 0,  0,  0],\n",
              "        [ 0,  0,  0],\n",
              "        ...,\n",
              "        [ 0,  0,  0],\n",
              "        [ 0,  0,  0],\n",
              "        [ 0,  0,  0]],\n",
              "\n",
              "       [[ 1,  0,  0],\n",
              "        [ 1,  0,  0],\n",
              "        [ 1,  0,  0],\n",
              "        ...,\n",
              "        [ 0,  0,  0],\n",
              "        [ 0,  0,  0],\n",
              "        [ 0,  0,  0]],\n",
              "\n",
              "       ...,\n",
              "\n",
              "       [[52, 32,  7],\n",
              "        [52, 32,  7],\n",
              "        [51, 34,  8],\n",
              "        ...,\n",
              "        [ 0,  0,  0],\n",
              "        [ 0,  0,  0],\n",
              "        [ 1,  0,  2]],\n",
              "\n",
              "       [[52, 32,  7],\n",
              "        [51, 31,  6],\n",
              "        [50, 33,  7],\n",
              "        ...,\n",
              "        [ 0,  0,  0],\n",
              "        [ 0,  0,  0],\n",
              "        [ 1,  0,  2]],\n",
              "\n",
              "       [[51, 31,  6],\n",
              "        [51, 31,  6],\n",
              "        [49, 32,  6],\n",
              "        ...,\n",
              "        [ 0,  0,  0],\n",
              "        [ 0,  0,  0],\n",
              "        [ 1,  0,  2]]], dtype=uint8)"
            ]
          },
          "metadata": {
            "tags": []
          },
          "execution_count": 12
        }
      ]
    },
    {
      "cell_type": "markdown",
      "metadata": {
        "id": "9E91nRSNbAJU",
        "colab_type": "text"
      },
      "source": [
        "### VGG Face model"
      ]
    },
    {
      "cell_type": "code",
      "metadata": {
        "id": "Vv2nxAyAV90v",
        "colab_type": "code",
        "colab": {}
      },
      "source": [
        "def vgg_face():\t\n",
        "  model = Sequential()\n",
        "  model.add(ZeroPadding2D((1,1),input_shape=(224,224, 3)))\n",
        "  model.add(Convolution2D(64, (3, 3), activation='relu'))\n",
        "  model.add(ZeroPadding2D((1,1)))\n",
        "  model.add(Convolution2D(64, (3, 3), activation='relu'))\n",
        "  model.add(MaxPooling2D((2,2), strides=(2,2)))\n",
        "  \n",
        "  model.add(ZeroPadding2D((1,1)))\n",
        "  model.add(Convolution2D(128, (3, 3), activation='relu'))\n",
        "  model.add(ZeroPadding2D((1,1)))\n",
        "  model.add(Convolution2D(128, (3, 3), activation='relu'))\n",
        "  model.add(MaxPooling2D((2,2), strides=(2,2)))\n",
        "  \n",
        "  model.add(ZeroPadding2D((1,1)))\n",
        "  model.add(Convolution2D(256, (3, 3), activation='relu'))\n",
        "  model.add(ZeroPadding2D((1,1)))\n",
        "  model.add(Convolution2D(256, (3, 3), activation='relu'))\n",
        "  model.add(ZeroPadding2D((1,1)))\n",
        "  model.add(Convolution2D(256, (3, 3), activation='relu'))\n",
        "  model.add(MaxPooling2D((2,2), strides=(2,2)))\n",
        "  \n",
        "  model.add(ZeroPadding2D((1,1)))\n",
        "  model.add(Convolution2D(512, (3, 3), activation='relu'))\n",
        "  model.add(ZeroPadding2D((1,1)))\n",
        "  model.add(Convolution2D(512, (3, 3), activation='relu'))\n",
        "  model.add(ZeroPadding2D((1,1)))\n",
        "  model.add(Convolution2D(512, (3, 3), activation='relu'))\n",
        "  model.add(MaxPooling2D((2,2), strides=(2,2)))\n",
        "  \n",
        "  model.add(ZeroPadding2D((1,1)))\n",
        "  model.add(Convolution2D(512, (3, 3), activation='relu'))\n",
        "  model.add(ZeroPadding2D((1,1)))\n",
        "  model.add(Convolution2D(512, (3, 3), activation='relu'))\n",
        "  model.add(ZeroPadding2D((1,1)))\n",
        "  model.add(Convolution2D(512, (3, 3), activation='relu'))\n",
        "  model.add(MaxPooling2D((2,2), strides=(2,2)))\n",
        "  \n",
        "  model.add(Convolution2D(4096, (7, 7), activation='relu'))\n",
        "  model.add(Dropout(0.5))\n",
        "  model.add(Convolution2D(4096, (1, 1), activation='relu'))\n",
        "  model.add(Dropout(0.5))\n",
        "  model.add(Convolution2D(2622, (1, 1)))\n",
        "  model.add(Flatten())\n",
        "  model.add(Activation('softmax'))\n",
        "  return model"
      ],
      "execution_count": 0,
      "outputs": []
    },
    {
      "cell_type": "markdown",
      "metadata": {
        "id": "GHELgdtghI1a",
        "colab_type": "text"
      },
      "source": [
        "#### Load the model\n",
        "- Load the model defined above\n",
        "- Then load the weights \"vgg_face_weights.h5\""
      ]
    },
    {
      "cell_type": "code",
      "metadata": {
        "id": "uZDEsLaddxWq",
        "colab_type": "code",
        "colab": {}
      },
      "source": [
        "model = vgg_face()"
      ],
      "execution_count": 0,
      "outputs": []
    },
    {
      "cell_type": "code",
      "metadata": {
        "id": "Yo1te7npV_tv",
        "colab_type": "code",
        "colab": {}
      },
      "source": [
        "model.load_weights('vgg_face_weights.h5')"
      ],
      "execution_count": 0,
      "outputs": []
    },
    {
      "cell_type": "markdown",
      "metadata": {
        "id": "eSgfj8LunBcq",
        "colab_type": "text"
      },
      "source": [
        "### Get vgg_face_descriptor"
      ]
    },
    {
      "cell_type": "code",
      "metadata": {
        "id": "2SPMGdvhYr_j",
        "colab_type": "code",
        "colab": {}
      },
      "source": [
        "from tensorflow.keras.models import Model\n",
        "vgg_face_descriptor = Model(inputs = model.layers[0].input, outputs=model.layers[-2].output)"
      ],
      "execution_count": 0,
      "outputs": []
    },
    {
      "cell_type": "markdown",
      "metadata": {
        "id": "kNoIdGAf4RCf",
        "colab_type": "text"
      },
      "source": [
        "### Generate embeddings for all images (5 marks)\n",
        "- Iterate through metadata and create embeddings for each image using `vgg_face_descriptor.predict()` and store in a list with name `embeddings`\n",
        "\n",
        "- If there is any error in reading any image in the dataset, fill the emebdding vector of that image with 2622-zeroes as the final embedding from the model is of length 2622."
      ]
    },
    {
      "cell_type": "code",
      "metadata": {
        "id": "qIufdMFMQwOk",
        "colab_type": "code",
        "outputId": "113f89cc-648d-40e2-fb34-4efe4b7c976a",
        "colab": {
          "base_uri": "https://localhost:8080/",
          "height": 34
        }
      },
      "source": [
        "len(metadata)"
      ],
      "execution_count": 0,
      "outputs": [
        {
          "output_type": "execute_result",
          "data": {
            "text/plain": [
              "10770"
            ]
          },
          "metadata": {
            "tags": []
          },
          "execution_count": 17
        }
      ]
    },
    {
      "cell_type": "code",
      "metadata": {
        "id": "pd3Zp8sttBRD",
        "colab_type": "code",
        "colab": {}
      },
      "source": [
        "# Creating this function as a hack to avoid the memory error. Running the loop for 10700 records to generate the embededvector\n",
        "# was causing a memory error, and the entire notebook had to be rerun again.\n",
        "\n",
        "def create_embeddings(from_i=0, to_i=0, metadata=metadata):\n",
        "  embeddings = []\n",
        "  for meta in metadata[from_i:to_i]:\n",
        "    try:\n",
        "      image = load_image(str(meta))\n",
        "      image = (image/255.).astype(np.float32)\n",
        "      image = cv2.resize(image, (224,224))\n",
        "      embeded_vector = vgg_face_descriptor.predict(np.expand_dims(image, axis=0))[0]\n",
        "    except:\n",
        "      embeded_vector = np.zeros(2622)\n",
        "    finally:\n",
        "      embeddings.append(embeded_vector)\n",
        "  return embeddings"
      ],
      "execution_count": 0,
      "outputs": []
    },
    {
      "cell_type": "code",
      "metadata": {
        "id": "B96F27b0ZiL3",
        "colab_type": "code",
        "colab": {}
      },
      "source": [
        "embeddings_1 = create_embeddings(from_i=0, to_i=4000)"
      ],
      "execution_count": 0,
      "outputs": []
    },
    {
      "cell_type": "code",
      "metadata": {
        "id": "iYFggOrzd6Q1",
        "colab_type": "code",
        "colab": {}
      },
      "source": [
        "embeddings_2 = create_embeddings(from_i=4000, to_i=5000)"
      ],
      "execution_count": 0,
      "outputs": []
    },
    {
      "cell_type": "code",
      "metadata": {
        "id": "TDpCSsmOekYS",
        "colab_type": "code",
        "colab": {}
      },
      "source": [
        "embeddings_3 = create_embeddings(from_i=5000, to_i=7000)"
      ],
      "execution_count": 0,
      "outputs": []
    },
    {
      "cell_type": "code",
      "metadata": {
        "id": "t9EjUlIVeqhM",
        "colab_type": "code",
        "colab": {}
      },
      "source": [
        "embeddings_4 = create_embeddings(from_i=7000, to_i=10770)"
      ],
      "execution_count": 0,
      "outputs": []
    },
    {
      "cell_type": "code",
      "metadata": {
        "id": "vnHjrTDUtdpP",
        "colab_type": "code",
        "colab": {}
      },
      "source": [
        "embeddings = []\n",
        "embeddings.extend(embeddings_1)\n",
        "embeddings.extend(embeddings_2)\n",
        "embeddings.extend(embeddings_3)\n",
        "embeddings.extend(embeddings_4)"
      ],
      "execution_count": 0,
      "outputs": []
    },
    {
      "cell_type": "code",
      "metadata": {
        "id": "Y_6SabXOtzd_",
        "colab_type": "code",
        "outputId": "3e027733-8060-4de2-92e8-a59e410548c0",
        "colab": {
          "base_uri": "https://localhost:8080/",
          "height": 34
        }
      },
      "source": [
        "len(embeddings)"
      ],
      "execution_count": 0,
      "outputs": [
        {
          "output_type": "execute_result",
          "data": {
            "text/plain": [
              "10770"
            ]
          },
          "metadata": {
            "tags": []
          },
          "execution_count": 24
        }
      ]
    },
    {
      "cell_type": "markdown",
      "metadata": {
        "id": "_H0dcg6rCuJE",
        "colab_type": "text"
      },
      "source": [
        "### Create train and test sets"
      ]
    },
    {
      "cell_type": "code",
      "metadata": {
        "id": "HZNiaXbc6B5r",
        "colab_type": "code",
        "colab": {}
      },
      "source": [
        "train_idx = np.arange(metadata.shape[0]) % 9 != 0\n",
        "test_idx = np.arange(metadata.shape[0]) % 9 == 0"
      ],
      "execution_count": 0,
      "outputs": []
    },
    {
      "cell_type": "code",
      "metadata": {
        "id": "aSbwMX6Sxu7g",
        "colab_type": "code",
        "colab": {}
      },
      "source": [
        "X_train, X_test = np.array(embeddings)[train_idx], np.array(embeddings)[test_idx]"
      ],
      "execution_count": 0,
      "outputs": []
    },
    {
      "cell_type": "code",
      "metadata": {
        "id": "UkOdZwChyYk3",
        "colab_type": "code",
        "colab": {}
      },
      "source": [
        "y_train, y_test = [obj.filename for obj in metadata[train_idx]] , [obj.filename for obj in metadata[test_idx]]"
      ],
      "execution_count": 0,
      "outputs": []
    },
    {
      "cell_type": "markdown",
      "metadata": {
        "id": "UtbE1Wjw0hbX",
        "colab_type": "text"
      },
      "source": [
        "### Encode the Labels\n",
        "- Encode the targets\n",
        "- Use LabelEncoder"
      ]
    },
    {
      "cell_type": "code",
      "metadata": {
        "id": "-jHyvfWazkHm",
        "colab_type": "code",
        "colab": {}
      },
      "source": [
        "le = LabelEncoder()\n",
        "y_train = le.fit_transform(y_train)\n",
        "y_test = le.transform(y_test)"
      ],
      "execution_count": 0,
      "outputs": []
    },
    {
      "cell_type": "markdown",
      "metadata": {
        "id": "S6_XPJwx1D1M",
        "colab_type": "text"
      },
      "source": [
        "### Standardize the feature values\n",
        "- Scale the features using StandardScaler"
      ]
    },
    {
      "cell_type": "code",
      "metadata": {
        "id": "OXy3its60bbB",
        "colab_type": "code",
        "colab": {}
      },
      "source": [
        "scaler = StandardScaler()\n",
        "X_train_scaled = scaler.fit_transform(X_train)\n",
        "X_test_scaled = scaler.transform(X_test)"
      ],
      "execution_count": 0,
      "outputs": []
    },
    {
      "cell_type": "markdown",
      "metadata": {
        "id": "_bIFPUUj6KcH",
        "colab_type": "text"
      },
      "source": [
        "### Reduce dimensions using PCA\n",
        "- Reduce feature dimensions using Principal Component Analysis"
      ]
    },
    {
      "cell_type": "code",
      "metadata": {
        "id": "mn0p-Twx05l3",
        "colab_type": "code",
        "outputId": "9d7972c1-2b29-489a-f69c-86cf7d521acf",
        "colab": {
          "base_uri": "https://localhost:8080/",
          "height": 278
        }
      },
      "source": [
        "pca = PCA(n_components=130)\n",
        "pca.fit(X_train_scaled)\n",
        "\n",
        "plt.bar(list(range(1,131)),pca.explained_variance_ratio_,alpha=0.5, align='center')\n",
        "plt.ylabel('Variation explained')\n",
        "plt.xlabel('eigen Value')\n",
        "plt.show()"
      ],
      "execution_count": 0,
      "outputs": [
        {
          "output_type": "display_data",
          "data": {
            "image/png": "[encoded data removed]",
            "text/plain": [
              "<Figure size 432x288 with 1 Axes>"
            ]
          },
          "metadata": {
            "tags": []
          }
        }
      ]
    },
    {
      "cell_type": "code",
      "metadata": {
        "id": "_nk9H4SFiO0c",
        "colab_type": "code",
        "colab": {}
      },
      "source": [
        "X_pca_train = pca.transform(X_train_scaled)\n",
        "X_pca_test = pca.transform(X_test_scaled)"
      ],
      "execution_count": 0,
      "outputs": []
    },
    {
      "cell_type": "markdown",
      "metadata": {
        "id": "NfmVFLtpAyu8",
        "colab_type": "text"
      },
      "source": [
        "### Build a Classifier \n",
        "- SVM Classifier to predict the person in the given image\n",
        "- Fit the classifier and print the score"
      ]
    },
    {
      "cell_type": "code",
      "metadata": {
        "id": "VTgwZINc2Xhc",
        "colab_type": "code",
        "colab": {}
      },
      "source": [
        "classifier = SVC(kernel='rbf')"
      ],
      "execution_count": 0,
      "outputs": []
    },
    {
      "cell_type": "code",
      "metadata": {
        "id": "Fz0NthX82hRS",
        "colab_type": "code",
        "outputId": "7e30b563-9ae5-4399-df85-4aae5ce6a4a4",
        "colab": {
          "base_uri": "https://localhost:8080/",
          "height": 87
        }
      },
      "source": [
        "classifier.fit(X_pca_train, y_train)"
      ],
      "execution_count": 0,
      "outputs": [
        {
          "output_type": "execute_result",
          "data": {
            "text/plain": [
              "SVC(C=1.0, break_ties=False, cache_size=200, class_weight=None, coef0=0.0,\n",
              "    decision_function_shape='ovr', degree=3, gamma='scale', kernel='rbf',\n",
              "    max_iter=-1, probability=False, random_state=None, shrinking=True,\n",
              "    tol=0.001, verbose=False)"
            ]
          },
          "metadata": {
            "tags": []
          },
          "execution_count": 40
        }
      ]
    },
    {
      "cell_type": "code",
      "metadata": {
        "id": "4pDjv8uHA8Ph",
        "colab_type": "code",
        "colab": {}
      },
      "source": [
        "y_pred = classifier.predict(X_pca_test)"
      ],
      "execution_count": 0,
      "outputs": []
    },
    {
      "cell_type": "code",
      "metadata": {
        "id": "3GM-ONnzBN1C",
        "colab_type": "code",
        "outputId": "ef590bad-fffd-4d31-8189-f01ecfdf989d",
        "colab": {
          "base_uri": "https://localhost:8080/",
          "height": 298
        }
      },
      "source": [
        "import warnings\n",
        "warnings.filterwarnings('ignore')\n",
        "\n",
        "example_idx = np.random.randint(0,1197)\n",
        "\n",
        "example_image = load_image(metadata[test_idx][example_idx].image_path())\n",
        "example_image = (example_image/255.).astype(np.float32)\n",
        "example_image = cv2.resize(example_image, (224,224))\n",
        "print(example_image.shape)\n",
        "embedding = vgg_face_descriptor.predict(np.expand_dims(example_image,axis=0))[0]\n",
        "embedding_scaled = scaler.transform(embedding.reshape(1,-1))\n",
        "example_prediction = classifier.predict(pca.transform(embedding_scaled))\n",
        "example_identity = le.inverse_transform(example_prediction)[0].split('_')[-1]\n",
        "\n",
        "plt.imshow(example_image)\n",
        "plt.title(f\"Identified as {example_identity}'s Face\");"
      ],
      "execution_count": 0,
      "outputs": [
        {
          "output_type": "stream",
          "text": [
            "(224, 224, 3)\n"
          ],
          "name": "stdout"
        },
        {
          "output_type": "display_data",
          "data": {
            "image/png": "[encoded data removed]",
            "text/plain": [
              "<Figure size 432x288 with 1 Axes>"
            ]
          },
          "metadata": {
            "tags": []
          }
        }
      ]
    },
    {
      "cell_type": "code",
      "metadata": {
        "id": "du4dv7AtBx9X",
        "colab_type": "code",
        "colab": {}
      },
      "source": [
        ""
      ],
      "execution_count": 0,
      "outputs": []
    },
    {
      "cell_type": "code",
      "metadata": {
        "id": "VgE3mO7pDnuo",
        "colab_type": "code",
        "colab": {}
      },
      "source": [
        ""
      ],
      "execution_count": 0,
      "outputs": []
    },
    {
      "cell_type": "code",
      "metadata": {
        "id": "-XzLo0_aFzgj",
        "colab_type": "code",
        "colab": {}
      },
      "source": [
        ""
      ],
      "execution_count": 0,
      "outputs": []
    }
  ]
}