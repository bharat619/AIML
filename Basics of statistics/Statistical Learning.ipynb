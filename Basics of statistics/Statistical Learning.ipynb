{
 "cells": [
  {
   "cell_type": "markdown",
   "metadata": {},
   "source": [
    "## Fundamentals of Statistic\n",
    "Methods adapted to elucitation(explain/understand) of quantitative data to marked extent by multiplicity of causes => Data is quantitative\n",
    "\n",
    "Business Analytics(BA): Broad use of data and quantitative analysis of decision making within organization => Data can be qualitative and quantitative\n",
    "\n",
    "Statistics: Methods specially chosen to explain data (qualitative and quantitative) and derive insights for managerial decision making\n"
   ]
  },
  {
   "cell_type": "markdown",
   "metadata": {},
   "source": [
    "## Importance of Statistics\n",
    "3 significant events in use of analytics\n",
    "1. Large amount of data from various devices and sources. Discovery of patterns and trends, organization can make betterment with these patterns\n",
    "2. Advancement in enormous computing power. Sophesticated and faster algorithms to solve problem. Data visualisation.\n",
    "3. Capability to store large amount of data. Parallel computing with cloud store huge data."
   ]
  },
  {
   "cell_type": "markdown",
   "metadata": {},
   "source": [
    "## Big Data\n",
    "If data set can challenge a computing power both in terms of hardware or software, then its Big Data.\n",
    "Today's big data can be tomorrow's small data.\n",
    "\n",
    "Big data revolves around 5 v's (Volume, Velocity, Veracity, Variety, Value)"
   ]
  },
  {
   "cell_type": "markdown",
   "metadata": {},
   "source": [
    "## Pillars of Business Analytics\n",
    "1. Descriptive Analytics: Deals with numbers. Summary measures: central tendency, average, mean std deviation, histogram, box plots etc. \n",
    "2. Diagnostic Analytics: Why the numbers look like this. Hypothesis, conjecture, assumptions \n",
    "3. Predictive Analytics: Predict or forecast something. Regression analysis, logistic regression\n",
    "4. Prescriptive Analytics: What should I do? (Decision making). \n",
    "\n",
    "Statistical methods will be placed in between these 4 pillars.\n"
   ]
  },
  {
   "cell_type": "markdown",
   "metadata": {},
   "source": [
    "## Data Vs Information\n",
    "example: Trial balance in a company is data. Constructing a balance sheet using trial balance is partial information. Analyse the balance sheet and find out some important information ( some patterns and observations of the company ), this is information\n",
    "\n",
    "Data is the raw material. Information is the finished product.\n",
    "\n",
    "Raw Data:\n",
    "Represents numbers and facts in the original format in which data have been collected. You need to convert raw data into information for managerial decision making.\n",
    "\n",
    "Raw data must be processed to give information."
   ]
  },
  {
   "cell_type": "markdown",
   "metadata": {},
   "source": [
    "## Frequency Distribution\n",
    "\n",
    "7 Tools of Quality: Checksheet, Frequency Distribution, Stratification, Scatter Diagram, Pareto Diagram, Ishikawa Diagram, Control Charts\n",
    "\n",
    "FD is a table which contains data arranged into classes, with the number of objects or observations that fall into each class. The number of observations that fall into each class is called frequency. Arrange the data in the form of classes and corresponding frequency.\n",
    "\n",
    "Histogram is the snapshot of the frequency distribution.\n",
    "\n",
    "Classes are arranged in X-axis\n",
    "Frequencies are aranged in Y-axis as bar chart\n",
    "Without gaps in the bar, gives the Histogram\n",
    "\n",
    "Histogram is a tool that describes shape of distribution and its associated property.\n",
    "\n",
    "Histogram depicts the pattern of distribution(bell curve, right skewed etc.) emerging from characteristics being measured.\n",
    "\n",
    "Bell curve is used to establish standards in performance measures.\n",
    "\n",
    "## Uses of Histogram\n",
    "1. Assessing material strength\n",
    "   - estimate process capabality ( is my process capable of making customer design specification )\n",
    "   - corrective action can be taken ( when its not a bell curve )\n",
    "   - is the process or system stable\n",
    "   - mission capability (how stable is system WRT performance )"
   ]
  },
  {
   "cell_type": "markdown",
   "metadata": {},
   "source": [
    "## Central Tendancy\n",
    "Statistical averages: Mean, median, mode, harmonic mean, geometric mean etc\n",
    "\n",
    "These are summary measusre / estimates. Estimating population characteristics( measure per capita income of people, avg income of market segment )\n",
    "\n",
    "Whenever we take large number of measurements and form a dataset, is it possible to pick an average value such that all the other values tend to be near this average. This is called central tendancy. Also called as statistical average, measure of location.\n",
    "\n",
    "The popular among them: arithmatic mean, median, mode\n",
    "\n",
    "\n",
    "Arithmatic mean:\n",
    "Sum of all observation/ Number of observation\n",
    "\n",
    "Requires measurement on all observation\n",
    "Uniquely and comprehensively defined.\n",
    "Can be treated algebraically ( means of several groups can be combined )\n",
    "\n",
    "AM is affected by extreme values or fluctuations in samples (these are called outliers). When outliers are present, AM is not reliable\n",
    "Example: In cricket team, total score of 300, player A scores 200 runs. The rest 9 score 100. The average is greatly affected by score of player A. Player A's score is the outlier.\n",
    "\n",
    "\n",
    "Median:\n",
    "Middle most observation value when obervations are arranged in ascending order. 50% of the data are above median, 50% of data are below median\n",
    "Median is useful in measuring ranked data in context of consumer preferences and rating. Not affected by extreme values ( resistant to outliers )\n",
    "\n",
    "Doesn't require measurement on all observation\n",
    "Cannot be determined in all conditions.\n",
    "Cannot be treated algebraically ( medians of several groups cannot be combined )\n",
    "\n",
    "median = (n+1)/2 th value of the ranked data\n",
    "n -> number of observations in sample\n",
    "\n",
    "\n",
    "Mode:\n",
    "Is the value that occurs more often. It has maximum frequency of occurance. Resistant to outliers.\n",
    "Mode is used when you want to keep items in the inventory. Ex: Store outlet keeping more L size of shirts than S size.\n",
    "\n",
    "Doesn't require measurement on all observation\n",
    "Not uniquely defined for multi modal\n",
    "\n",
    "In real life problem, there will more than one mode (bimodal and multimodal) in this case mode cannot be uniquely determined"
   ]
  },
  {
   "cell_type": "markdown",
   "metadata": {},
   "source": [
    "## Measure of Dispersion\n",
    "Measure of dispersion indicate how large the spread of distribution is around central tendancy.\n",
    "Variations in data are measured by summary measures called measure of dispersion.\n",
    "\n",
    "Range:\n",
    "Simplest measure of dispersion.\n",
    "It is difference between maximum and minimum value\n",
    "Range = Xmax - Xmin\n",
    "\n",
    "If one of the components of range (max or min) value becomes an extreme value, range should not be used.\n",
    "\n",
    "Inter Quartile Range:\n",
    "Used when min or max is an outlier.\n",
    "Range computed on middle 50% of the observations after eliminating highest and lowest 25% of observation in data set that is arranged in ascending order.\n",
    "Less affected by outliers\n",
    "IQR = Q3 - Q1\n",
    "Q3 -> 3rd Quartile (75th percentile)\n",
    "Q1 -> 1st Quartile (25th percentile)\n",
    "\n",
    "\n",
    "#### Example\n",
    "Find IQR for 9,3,2,5,6,11,4,3,2\n",
    "arranged_data = 2,2,3,3,4,5,6,9,11\n",
    "n = 9 (odd)\n",
    "median = 4\n",
    "\n",
    "iqrData = 2,2,3,3 | 5,6,9,11\n",
    "\n",
    "\n",
    "Q1 = (3+2)/2 = 2.5\n",
    "Q3 = (6+9)/2 = 7.5\n",
    "\n",
    "IQR = Q3-Q1 = 5\n",
    "\n",
    "\n",
    "Find IQR for 11,2,4,3,8,1,2,7,4,9\n",
    "arranged_data = 1,2,2,3,4,4,7,8,9,11\n",
    "n = 10 (even)\n",
    "median = (4+4)/2 = 4\n",
    "\n",
    "iqrData = 1,2,2,3,4 | 4,7,8,9,11\n",
    "Q1 = 2\n",
    "Q3 = 8\n",
    "\n",
    "IQR = Q3-Q1 = 6\n",
    "\n",
    "\n",
    "## Standard Deviation:\n",
    "Forms the corner stone of statistical inference.\n",
    "SD is square root of variance\n",
    "1. Compute mean (Xbar)\n",
    "2. Subtract Xbar from each observation\n",
    "3. Calculate (X-Xbar)^2\n",
    "4. Divide this sum by (n-1)\n",
    "\n",
    "This value is Variance.\n",
    "SD = sqrt(Variance)\n",
    "\n",
    "SD is the measure of risk.\n",
    "\n",
    "1. Efficient estimate 2. Consistent estimate 3. Unbiased estimate\n",
    "We can divide it by 10, instead of (n-1), the output could be efficient or consistent but not unbiased.\n",
    "\n",
    "Unbiases estimate is -> The population SD will approach the true SD, then it is unbiased"
   ]
  },
  {
   "cell_type": "markdown",
   "metadata": {},
   "source": [
    "## Coefficient of Variation, Relative Dispersion\n",
    "CV is ratio of SD to mean\n",
    "Example: I am having dollar and studying Indian currency with dollar, then I workout SD ( which will also be in rupees). Suppose if I want to compare different region and companies for some characteristics, then I use coefficient of variation ( which is relative SD )\n",
    "CV = SD/Xbar"
   ]
  },
  {
   "cell_type": "markdown",
   "metadata": {},
   "source": [
    "## Emperical Rule\n",
    "Check the video"
   ]
  },
  {
   "cell_type": "markdown",
   "metadata": {},
   "source": [
    "## The five number summary\n",
    "Boxplot is used to describe the 5 point summary\n",
    "1. Smallest Value (Xmin) 2. First Quartile (Q1) 3. Median 4. Third Quartile (Q3) 5. Fourth Quartile (Q4)\n",
    "\n",
    "Boxplot is used to find the outlier, by the interquartile range\n",
    "IQR = Q3 - Q1\n",
    "Lower limit = Q1 - 1.5 * IQR\n",
    "Upper limit = Q3 + 1.5 * IQR\n",
    "\n",
    "If any of the data points fall outside upper limit or before lower limit, then they are outliers\n",
    "\n",
    "Box plot can be used to compare the performance across the segments, identify the patterns in the data, identify the outliers"
   ]
  },
  {
   "cell_type": "code",
   "execution_count": null,
   "metadata": {},
   "outputs": [],
   "source": []
  }
 ],
 "metadata": {
  "kernelspec": {
   "display_name": "Python 3",
   "language": "python",
   "name": "python3"
  },
  "language_info": {
   "codemirror_mode": {
    "name": "ipython",
    "version": 3
   },
   "file_extension": ".py",
   "mimetype": "text/x-python",
   "name": "python",
   "nbconvert_exporter": "python",
   "pygments_lexer": "ipython3",
   "version": "3.7.3"
  }
 },
 "nbformat": 4,
 "nbformat_minor": 2
}
