{
 "cells": [
  {
   "cell_type": "markdown",
   "metadata": {},
   "source": [
    "# Context:\n",
    "The data set has information about features of silhouette extracted from the images of different cars\n",
    "Four \"Corgie\" model vehicles were used for the experiment: a double decker bus, Cheverolet van, Saab 9000 and an Opel Manta 400 \n",
    "cars. This particular combination of vehicles was chosen with the expectation that the bus, van and either one of the cars \n",
    "would be readily distinguishable, but it would be more difficult to distinguish between the cars.\n",
    "\n",
    "Here let's apply Hierarchial Clustering"
   ]
  },
  {
   "cell_type": "markdown",
   "metadata": {},
   "source": [
    "# Q1. Import libraries and Read the dataset using function .dropna() - to avoid dealing with NAs"
   ]
  },
  {
   "cell_type": "code",
   "execution_count": 54,
   "metadata": {},
   "outputs": [],
   "source": [
    "import pandas as pd\n",
    "import numpy as np\n",
    "import seaborn as sns\n",
    "import matplotlib.pyplot as plt\n",
    "%matplotlib inline\n",
    "\n",
    "df = pd.read_csv('vehicle.csv')\n",
    "df.head()\n",
    "\n",
    "X = df.drop('class',axis=1)\n",
    "features = X.apply(lambda x: x.fillna(x.median()))"
   ]
  },
  {
   "cell_type": "markdown",
   "metadata": {},
   "source": [
    "# Q2. Print/ Plot the dependent (categorical variable) and Check for any missing values in the data"
   ]
  },
  {
   "cell_type": "code",
   "execution_count": 55,
   "metadata": {},
   "outputs": [
    {
     "data": {
      "text/plain": [
       "<matplotlib.axes._subplots.AxesSubplot at 0x11df84ef0>"
      ]
     },
     "execution_count": 55,
     "metadata": {},
     "output_type": "execute_result"
    },
    {
     "data": {
      "image/png": "[encoded data removed]",
      "text/plain": [
       "<Figure size 432x288 with 1 Axes>"
      ]
     },
     "metadata": {
      "needs_background": "light"
     },
     "output_type": "display_data"
    }
   ],
   "source": [
    "\n",
    "sns.countplot(df['class'])"
   ]
  },
  {
   "cell_type": "markdown",
   "metadata": {},
   "source": [
    "# Q3. Standardize the data"
   ]
  },
  {
   "cell_type": "code",
   "execution_count": 57,
   "metadata": {},
   "outputs": [
    {
     "data": {
      "text/plain": [
       "compactness                    0\n",
       "circularity                    0\n",
       "distance_circularity           0\n",
       "radius_ratio                   0\n",
       "pr.axis_aspect_ratio           0\n",
       "max.length_aspect_ratio        0\n",
       "scatter_ratio                  0\n",
       "elongatedness                  0\n",
       "pr.axis_rectangularity         0\n",
       "max.length_rectangularity      0\n",
       "scaled_variance                0\n",
       "scaled_variance.1              0\n",
       "scaled_radius_of_gyration      0\n",
       "scaled_radius_of_gyration.1    0\n",
       "skewness_about                 0\n",
       "skewness_about.1               0\n",
       "skewness_about.2               0\n",
       "hollows_ratio                  0\n",
       "dtype: int64"
      ]
     },
     "execution_count": 57,
     "metadata": {},
     "output_type": "execute_result"
    }
   ],
   "source": [
    "from scipy.stats import zscore\n",
    "features_scaled = features.apply(zscore)\n",
    "features_scaled.isna().sum()"
   ]
  },
  {
   "cell_type": "markdown",
   "metadata": {},
   "source": [
    "# Q4. Create datasets using multivariate normal distribution to visually observe how the clusters are formed at the end\n",
    "(Use hierarchial clustering)"
   ]
  },
  {
   "cell_type": "code",
   "execution_count": 58,
   "metadata": {},
   "outputs": [],
   "source": [
    "np.random.seed(101)\n",
    "a = np.random.multivariate_normal([10, 0], [[3, 1], [1, 4]], size=[100,])\n",
    "b = np.random.multivariate_normal([0, 20], [[3, 1], [1, 4]], size=[50,])\n",
    "c = np.random.multivariate_normal([10, 20], [[3, 1], [1, 4]], size=[100,])\n",
    "X = np.concatenate([a,b,c])"
   ]
  },
  {
   "cell_type": "markdown",
   "metadata": {},
   "source": [
    "# Q5. Use scatter matrix to print all the 3 distributions"
   ]
  },
  {
   "cell_type": "code",
   "execution_count": 61,
   "metadata": {},
   "outputs": [
    {
     "data": {
      "text/plain": [
       "<matplotlib.axes._subplots.AxesSubplot at 0x1232422b0>"
      ]
     },
     "execution_count": 61,
     "metadata": {},
     "output_type": "execute_result"
    },
    {
     "data": {
      "image/png": "[encoded data removed]",
      "text/plain": [
       "<Figure size 432x288 with 1 Axes>"
      ]
     },
     "metadata": {
      "needs_background": "light"
     },
     "output_type": "display_data"
    }
   ],
   "source": [
    "sns.scatterplot(X[:,0],X[:,1])"
   ]
  },
  {
   "cell_type": "markdown",
   "metadata": {},
   "source": [
    "# Q6. Find out the linkage matrix"
   ]
  },
  {
   "cell_type": "code",
   "execution_count": 63,
   "metadata": {},
   "outputs": [
    {
     "data": {
      "text/plain": [
       "array([[6.00000000e+00, 3.50000000e+01, 4.03105214e-02, 2.00000000e+00],\n",
       "       [1.59000000e+02, 2.47000000e+02, 4.15336058e-02, 2.00000000e+00],\n",
       "       [1.90000000e+02, 2.14000000e+02, 4.23431904e-02, 2.00000000e+00],\n",
       "       [1.50000000e+01, 5.50000000e+01, 5.03965285e-02, 2.00000000e+00],\n",
       "       [2.30000000e+01, 9.70000000e+01, 5.98615830e-02, 2.00000000e+00],\n",
       "       [1.83000000e+02, 2.30000000e+02, 7.14307127e-02, 2.00000000e+00],\n",
       "       [1.60000000e+02, 1.84000000e+02, 8.10640748e-02, 2.00000000e+00],\n",
       "       [5.20000000e+01, 9.80000000e+01, 8.63310058e-02, 2.00000000e+00],\n",
       "       [1.75000000e+02, 2.33000000e+02, 9.07935743e-02, 2.00000000e+00],\n",
       "       [8.00000000e+00, 1.90000000e+01, 1.05398862e-01, 2.00000000e+00],\n",
       "       [6.60000000e+01, 7.30000000e+01, 1.08977001e-01, 2.00000000e+00],\n",
       "       [5.90000000e+01, 9.60000000e+01, 1.15828291e-01, 2.00000000e+00],\n",
       "       [9.20000000e+01, 2.53000000e+02, 1.34937651e-01, 3.00000000e+00],\n",
       "       [2.10000000e+02, 2.31000000e+02, 1.37055098e-01, 2.00000000e+00],\n",
       "       [1.54000000e+02, 2.11000000e+02, 1.37824764e-01, 2.00000000e+00],\n",
       "       [1.30000000e+01, 6.90000000e+01, 1.52703764e-01, 2.00000000e+00],\n",
       "       [1.20000000e+01, 4.10000000e+01, 1.58639203e-01, 2.00000000e+00],\n",
       "       [2.04000000e+02, 2.32000000e+02, 1.59543686e-01, 2.00000000e+00],\n",
       "       [4.20000000e+01, 2.60000000e+02, 1.68525429e-01, 3.00000000e+00],\n",
       "       [2.20000000e+02, 2.21000000e+02, 1.79795753e-01, 2.00000000e+00],\n",
       "       [1.80000000e+01, 3.30000000e+01, 1.93183631e-01, 2.00000000e+00],\n",
       "       [1.81000000e+02, 1.85000000e+02, 1.94440990e-01, 2.00000000e+00],\n",
       "       [1.92000000e+02, 2.56000000e+02, 1.97898027e-01, 3.00000000e+00],\n",
       "       [4.60000000e+01, 6.50000000e+01, 1.98325448e-01, 2.00000000e+00],\n",
       "       [1.73000000e+02, 2.19000000e+02, 2.08748079e-01, 2.00000000e+00],\n",
       "       [6.70000000e+01, 9.10000000e+01, 2.11760204e-01, 2.00000000e+00],\n",
       "       [8.40000000e+01, 2.50000000e+02, 2.13584875e-01, 3.00000000e+00],\n",
       "       [1.22000000e+02, 1.43000000e+02, 2.17113807e-01, 2.00000000e+00],\n",
       "       [5.30000000e+01, 5.40000000e+01, 2.32131193e-01, 2.00000000e+00],\n",
       "       [0.00000000e+00, 9.00000000e+00, 2.33030950e-01, 2.00000000e+00],\n",
       "       [1.16000000e+02, 1.42000000e+02, 2.35797417e-01, 2.00000000e+00],\n",
       "       [2.60000000e+01, 2.57000000e+02, 2.42940144e-01, 3.00000000e+00],\n",
       "       [1.36000000e+02, 1.44000000e+02, 2.49226556e-01, 2.00000000e+00],\n",
       "       [2.23000000e+02, 2.44000000e+02, 2.50539353e-01, 2.00000000e+00],\n",
       "       [1.70000000e+02, 1.82000000e+02, 2.58283158e-01, 2.00000000e+00],\n",
       "       [2.70000000e+01, 3.20000000e+01, 2.63599705e-01, 2.00000000e+00],\n",
       "       [3.00000000e+00, 1.70000000e+01, 2.77425591e-01, 2.00000000e+00],\n",
       "       [1.62000000e+02, 1.65000000e+02, 2.81732739e-01, 2.00000000e+00],\n",
       "       [1.58000000e+02, 1.79000000e+02, 2.87512937e-01, 2.00000000e+00],\n",
       "       [1.40000000e+01, 6.10000000e+01, 2.88927594e-01, 2.00000000e+00],\n",
       "       [2.18000000e+02, 2.37000000e+02, 2.94274223e-01, 2.00000000e+00],\n",
       "       [1.95000000e+02, 2.22000000e+02, 2.95138509e-01, 2.00000000e+00],\n",
       "       [5.00000000e+00, 7.70000000e+01, 2.97838218e-01, 2.00000000e+00],\n",
       "       [1.67000000e+02, 2.51000000e+02, 3.11247463e-01, 3.00000000e+00],\n",
       "       [1.69000000e+02, 1.89000000e+02, 3.13546479e-01, 2.00000000e+00],\n",
       "       [2.12000000e+02, 2.13000000e+02, 3.18076018e-01, 2.00000000e+00],\n",
       "       [1.74000000e+02, 2.67000000e+02, 3.21295470e-01, 3.00000000e+00],\n",
       "       [7.00000000e+00, 5.60000000e+01, 3.26671770e-01, 2.00000000e+00],\n",
       "       [2.00000000e+00, 4.40000000e+01, 3.39443074e-01, 2.00000000e+00],\n",
       "       [1.68000000e+02, 2.69000000e+02, 3.66454864e-01, 3.00000000e+00],\n",
       "       [2.20000000e+01, 5.80000000e+01, 3.73467246e-01, 2.00000000e+00],\n",
       "       [6.80000000e+01, 7.20000000e+01, 3.84134764e-01, 2.00000000e+00],\n",
       "       [1.03000000e+02, 1.09000000e+02, 3.91568077e-01, 2.00000000e+00],\n",
       "       [1.51000000e+02, 2.01000000e+02, 3.95721747e-01, 2.00000000e+00],\n",
       "       [2.08000000e+02, 2.63000000e+02, 3.96174957e-01, 3.00000000e+00],\n",
       "       [1.72000000e+02, 1.91000000e+02, 4.01180283e-01, 2.00000000e+00],\n",
       "       [7.10000000e+01, 2.54000000e+02, 4.02057884e-01, 3.00000000e+00],\n",
       "       [2.61000000e+02, 2.73000000e+02, 4.02900800e-01, 4.00000000e+00],\n",
       "       [1.55000000e+02, 2.88000000e+02, 4.04012254e-01, 3.00000000e+00],\n",
       "       [2.02000000e+02, 2.42000000e+02, 4.08776476e-01, 2.00000000e+00],\n",
       "       [1.46000000e+02, 2.77000000e+02, 4.15034935e-01, 3.00000000e+00],\n",
       "       [2.52000000e+02, 2.87000000e+02, 4.25113018e-01, 4.00000000e+00],\n",
       "       [2.00000000e+01, 2.10000000e+01, 4.32259832e-01, 2.00000000e+00],\n",
       "       [5.70000000e+01, 7.00000000e+01, 4.32695826e-01, 2.00000000e+00],\n",
       "       [2.43000000e+02, 2.55000000e+02, 4.34964847e-01, 3.00000000e+00],\n",
       "       [1.10000000e+02, 1.34000000e+02, 4.40539426e-01, 2.00000000e+00],\n",
       "       [1.98000000e+02, 2.35000000e+02, 4.43003354e-01, 2.00000000e+00],\n",
       "       [1.99000000e+02, 2.17000000e+02, 4.45570590e-01, 2.00000000e+00],\n",
       "       [1.02000000e+02, 1.07000000e+02, 4.48781091e-01, 2.00000000e+00],\n",
       "       [4.00000000e+01, 7.80000000e+01, 4.49426097e-01, 2.00000000e+00],\n",
       "       [3.00000000e+01, 2.59000000e+02, 4.59032407e-01, 3.00000000e+00],\n",
       "       [1.35000000e+02, 1.41000000e+02, 4.76434734e-01, 2.00000000e+00],\n",
       "       [1.00000000e+00, 7.60000000e+01, 4.86547470e-01, 2.00000000e+00],\n",
       "       [2.65000000e+02, 2.68000000e+02, 4.88130741e-01, 5.00000000e+00],\n",
       "       [5.10000000e+01, 9.00000000e+01, 4.97807765e-01, 2.00000000e+00],\n",
       "       [1.18000000e+02, 1.39000000e+02, 4.99284335e-01, 2.00000000e+00],\n",
       "       [2.64000000e+02, 2.71000000e+02, 4.99903557e-01, 4.00000000e+00],\n",
       "       [3.40000000e+01, 9.50000000e+01, 5.02835695e-01, 2.00000000e+00],\n",
       "       [2.36000000e+02, 2.41000000e+02, 5.03308447e-01, 2.00000000e+00],\n",
       "       [1.80000000e+02, 2.72000000e+02, 5.05194290e-01, 4.00000000e+00],\n",
       "       [1.01000000e+02, 1.21000000e+02, 5.08050498e-01, 2.00000000e+00],\n",
       "       [2.80000000e+01, 4.30000000e+01, 5.17992354e-01, 2.00000000e+00],\n",
       "       [1.56000000e+02, 3.16000000e+02, 5.20352199e-01, 3.00000000e+00],\n",
       "       [2.24000000e+02, 2.26000000e+02, 5.23194253e-01, 2.00000000e+00],\n",
       "       [3.80000000e+01, 8.60000000e+01, 5.41986872e-01, 2.00000000e+00],\n",
       "       [1.52000000e+02, 2.09000000e+02, 5.49478407e-01, 2.00000000e+00],\n",
       "       [3.10000000e+01, 9.40000000e+01, 5.51054676e-01, 2.00000000e+00],\n",
       "       [2.00000000e+02, 2.28000000e+02, 5.55882984e-01, 2.00000000e+00],\n",
       "       [1.05000000e+02, 1.29000000e+02, 5.59245984e-01, 2.00000000e+00],\n",
       "       [6.40000000e+01, 3.20000000e+02, 5.69715841e-01, 4.00000000e+00],\n",
       "       [1.08000000e+02, 1.28000000e+02, 5.76149908e-01, 2.00000000e+00],\n",
       "       [1.06000000e+02, 1.14000000e+02, 5.88428762e-01, 2.00000000e+00],\n",
       "       [2.90000000e+01, 2.86000000e+02, 6.02052769e-01, 3.00000000e+00],\n",
       "       [6.00000000e+01, 2.75000000e+02, 6.11301488e-01, 3.00000000e+00],\n",
       "       [1.96000000e+02, 2.48000000e+02, 6.11619747e-01, 2.00000000e+00],\n",
       "       [1.60000000e+01, 3.01000000e+02, 6.43214051e-01, 3.00000000e+00],\n",
       "       [4.50000000e+01, 8.50000000e+01, 6.43910675e-01, 2.00000000e+00],\n",
       "       [1.87000000e+02, 2.38000000e+02, 6.45841251e-01, 2.00000000e+00],\n",
       "       [1.37000000e+02, 2.82000000e+02, 6.49113147e-01, 3.00000000e+00],\n",
       "       [7.50000000e+01, 8.10000000e+01, 6.54197023e-01, 2.00000000e+00],\n",
       "       [2.40000000e+02, 2.90000000e+02, 6.54304698e-01, 3.00000000e+00],\n",
       "       [3.90000000e+01, 2.97000000e+02, 6.56279562e-01, 3.00000000e+00],\n",
       "       [1.04000000e+02, 3.21000000e+02, 6.60588318e-01, 3.00000000e+00],\n",
       "       [2.29000000e+02, 2.45000000e+02, 6.68663595e-01, 2.00000000e+00],\n",
       "       [1.27000000e+02, 1.32000000e+02, 6.77833260e-01, 2.00000000e+00],\n",
       "       [1.97000000e+02, 3.04000000e+02, 6.79247821e-01, 4.00000000e+00],\n",
       "       [2.66000000e+02, 3.06000000e+02, 6.80235770e-01, 5.00000000e+00],\n",
       "       [1.00000000e+02, 1.13000000e+02, 6.84864572e-01, 2.00000000e+00],\n",
       "       [1.76000000e+02, 2.27000000e+02, 6.98755453e-01, 2.00000000e+00],\n",
       "       [1.63000000e+02, 3.09000000e+02, 7.02176777e-01, 3.00000000e+00],\n",
       "       [1.25000000e+02, 1.33000000e+02, 7.14299740e-01, 2.00000000e+00],\n",
       "       [2.92000000e+02, 2.98000000e+02, 7.18744558e-01, 4.00000000e+00],\n",
       "       [2.40000000e+01, 8.90000000e+01, 7.24924223e-01, 2.00000000e+00],\n",
       "       [1.10000000e+01, 4.80000000e+01, 7.29007873e-01, 2.00000000e+00],\n",
       "       [1.15000000e+02, 1.23000000e+02, 7.34688639e-01, 2.00000000e+00],\n",
       "       [2.06000000e+02, 3.11000000e+02, 7.40277490e-01, 5.00000000e+00],\n",
       "       [2.49000000e+02, 3.37000000e+02, 7.44497177e-01, 3.00000000e+00],\n",
       "       [4.90000000e+01, 3.43000000e+02, 7.48098739e-01, 4.00000000e+00],\n",
       "       [2.62000000e+02, 2.89000000e+02, 7.54214102e-01, 5.00000000e+00],\n",
       "       [3.10000000e+02, 3.57000000e+02, 7.58385564e-01, 5.00000000e+00],\n",
       "       [8.70000000e+01, 2.76000000e+02, 7.76675223e-01, 4.00000000e+00],\n",
       "       [1.00000000e+01, 3.39000000e+02, 7.86415406e-01, 5.00000000e+00],\n",
       "       [2.94000000e+02, 3.32000000e+02, 8.07880737e-01, 5.00000000e+00],\n",
       "       [2.07000000e+02, 2.25000000e+02, 8.30958852e-01, 2.00000000e+00],\n",
       "       [1.50000000e+02, 2.91000000e+02, 8.36783815e-01, 3.00000000e+00],\n",
       "       [2.95000000e+02, 3.08000000e+02, 8.45612422e-01, 5.00000000e+00],\n",
       "       [2.78000000e+02, 3.12000000e+02, 8.61190720e-01, 4.00000000e+00],\n",
       "       [1.88000000e+02, 3.26000000e+02, 8.64564900e-01, 5.00000000e+00],\n",
       "       [1.17000000e+02, 3.25000000e+02, 8.77397888e-01, 3.00000000e+00],\n",
       "       [1.19000000e+02, 3.48000000e+02, 8.98994033e-01, 4.00000000e+00],\n",
       "       [6.30000000e+01, 9.30000000e+01, 9.11073078e-01, 2.00000000e+00],\n",
       "       [7.90000000e+01, 2.81000000e+02, 9.18429832e-01, 4.00000000e+00],\n",
       "       [1.53000000e+02, 2.15000000e+02, 9.20661792e-01, 2.00000000e+00],\n",
       "       [2.93000000e+02, 3.05000000e+02, 9.29450685e-01, 5.00000000e+00],\n",
       "       [1.93000000e+02, 2.99000000e+02, 9.36178872e-01, 4.00000000e+00],\n",
       "       [2.03000000e+02, 3.44000000e+02, 9.40337348e-01, 3.00000000e+00],\n",
       "       [8.00000000e+01, 3.13000000e+02, 9.45593900e-01, 3.00000000e+00],\n",
       "       [1.49000000e+02, 3.18000000e+02, 9.45687653e-01, 3.00000000e+00],\n",
       "       [2.74000000e+02, 3.03000000e+02, 9.53710655e-01, 4.00000000e+00],\n",
       "       [8.80000000e+01, 3.45000000e+02, 9.57214676e-01, 4.00000000e+00],\n",
       "       [4.00000000e+00, 6.20000000e+01, 9.62498970e-01, 2.00000000e+00],\n",
       "       [7.40000000e+01, 3.31000000e+02, 9.70351311e-01, 3.00000000e+00],\n",
       "       [2.16000000e+02, 2.46000000e+02, 9.98413613e-01, 2.00000000e+00],\n",
       "       [4.70000000e+01, 3.46000000e+02, 9.99546287e-01, 3.00000000e+00],\n",
       "       [1.86000000e+02, 3.28000000e+02, 1.01962383e+00, 3.00000000e+00],\n",
       "       [1.11000000e+02, 1.48000000e+02, 1.02647039e+00, 2.00000000e+00],\n",
       "       [1.78000000e+02, 3.53000000e+02, 1.03173163e+00, 3.00000000e+00],\n",
       "       [1.71000000e+02, 1.94000000e+02, 1.04334629e+00, 2.00000000e+00],\n",
       "       [1.20000000e+02, 3.38000000e+02, 1.04400807e+00, 3.00000000e+00],\n",
       "       [2.50000000e+01, 3.76000000e+02, 1.05795152e+00, 5.00000000e+00],\n",
       "       [3.24000000e+02, 3.49000000e+02, 1.07523662e+00, 4.00000000e+00],\n",
       "       [1.77000000e+02, 3.72000000e+02, 1.09184436e+00, 6.00000000e+00],\n",
       "       [2.84000000e+02, 3.50000000e+02, 1.09276861e+00, 5.00000000e+00],\n",
       "       [3.07000000e+02, 3.61000000e+02, 1.15505810e+00, 8.00000000e+00],\n",
       "       [3.22000000e+02, 3.34000000e+02, 1.16117369e+00, 4.00000000e+00],\n",
       "       [8.20000000e+01, 9.90000000e+01, 1.16155697e+00, 2.00000000e+00],\n",
       "       [1.12000000e+02, 3.95000000e+02, 1.17944956e+00, 3.00000000e+00],\n",
       "       [1.30000000e+02, 3.60000000e+02, 1.18136724e+00, 3.00000000e+00],\n",
       "       [2.96000000e+02, 3.33000000e+02, 1.19054224e+00, 5.00000000e+00],\n",
       "       [2.70000000e+02, 3.80000000e+02, 1.22916851e+00, 4.00000000e+00],\n",
       "       [2.39000000e+02, 3.65000000e+02, 1.23353917e+00, 6.00000000e+00],\n",
       "       [1.26000000e+02, 3.79000000e+02, 1.23569624e+00, 5.00000000e+00],\n",
       "       [3.60000000e+01, 3.51000000e+02, 1.25684280e+00, 4.00000000e+00],\n",
       "       [5.00000000e+01, 3.62000000e+02, 1.30888662e+00, 3.00000000e+00],\n",
       "       [3.19000000e+02, 3.27000000e+02, 1.31001670e+00, 4.00000000e+00],\n",
       "       [3.70000000e+01, 3.67000000e+02, 1.35285928e+00, 5.00000000e+00],\n",
       "       [2.83000000e+02, 3.82000000e+02, 1.35689911e+00, 4.00000000e+00],\n",
       "       [3.02000000e+02, 3.69000000e+02, 1.39302259e+00, 7.00000000e+00],\n",
       "       [3.36000000e+02, 3.56000000e+02, 1.42631242e+00, 7.00000000e+00],\n",
       "       [2.85000000e+02, 3.86000000e+02, 1.44271082e+00, 5.00000000e+00],\n",
       "       [3.35000000e+02, 3.97000000e+02, 1.46598833e+00, 4.00000000e+00],\n",
       "       [1.57000000e+02, 4.10000000e+02, 1.48286660e+00, 7.00000000e+00],\n",
       "       [3.14000000e+02, 3.83000000e+02, 1.52778453e+00, 8.00000000e+00],\n",
       "       [1.61000000e+02, 3.92000000e+02, 1.56603746e+00, 3.00000000e+00],\n",
       "       [3.15000000e+02, 3.87000000e+02, 1.57060620e+00, 5.00000000e+00],\n",
       "       [1.64000000e+02, 2.58000000e+02, 1.57100185e+00, 3.00000000e+00],\n",
       "       [3.41000000e+02, 3.52000000e+02, 1.60232516e+00, 5.00000000e+00],\n",
       "       [3.42000000e+02, 3.99000000e+02, 1.60391405e+00, 8.00000000e+00],\n",
       "       [3.55000000e+02, 3.77000000e+02, 1.60948460e+00, 9.00000000e+00],\n",
       "       [3.70000000e+02, 3.81000000e+02, 1.62073433e+00, 8.00000000e+00],\n",
       "       [3.29000000e+02, 3.75000000e+02, 1.63091313e+00, 9.00000000e+00],\n",
       "       [1.31000000e+02, 2.80000000e+02, 1.68971853e+00, 3.00000000e+00],\n",
       "       [3.40000000e+02, 3.54000000e+02, 1.72912979e+00, 4.00000000e+00],\n",
       "       [3.00000000e+02, 3.68000000e+02, 1.73337763e+00, 7.00000000e+00],\n",
       "       [3.59000000e+02, 3.73000000e+02, 1.80017589e+00, 5.00000000e+00],\n",
       "       [1.66000000e+02, 3.85000000e+02, 1.82995164e+00, 4.00000000e+00],\n",
       "       [1.38000000e+02, 1.45000000e+02, 1.93797801e+00, 2.00000000e+00],\n",
       "       [2.05000000e+02, 3.58000000e+02, 2.15131595e+00, 3.00000000e+00],\n",
       "       [3.91000000e+02, 3.93000000e+02, 2.18167539e+00, 6.00000000e+00],\n",
       "       [3.71000000e+02, 4.09000000e+02, 2.22033700e+00, 9.00000000e+00],\n",
       "       [3.47000000e+02, 4.01000000e+02, 2.27240750e+00, 8.00000000e+00],\n",
       "       [3.63000000e+02, 4.14000000e+02, 2.27664517e+00, 6.00000000e+00],\n",
       "       [3.89000000e+02, 4.29000000e+02, 2.28377033e+00, 1.20000000e+01],\n",
       "       [1.40000000e+02, 3.64000000e+02, 2.28713688e+00, 3.00000000e+00],\n",
       "       [3.88000000e+02, 4.21000000e+02, 2.32018944e+00, 1.10000000e+01],\n",
       "       [3.94000000e+02, 4.30000000e+02, 2.39672617e+00, 1.20000000e+01],\n",
       "       [4.11000000e+02, 4.24000000e+02, 2.46054134e+00, 1.00000000e+01],\n",
       "       [3.23000000e+02, 4.33000000e+02, 2.54058922e+00, 1.20000000e+01],\n",
       "       [4.12000000e+02, 4.38000000e+02, 2.57191431e+00, 1.00000000e+01],\n",
       "       [4.08000000e+02, 4.22000000e+02, 2.65365342e+00, 1.30000000e+01],\n",
       "       [2.34000000e+02, 4.35000000e+02, 2.68013467e+00, 5.00000000e+00],\n",
       "       [3.84000000e+02, 3.96000000e+02, 2.69855220e+00, 7.00000000e+00],\n",
       "       [3.30000000e+02, 4.32000000e+02, 2.73452091e+00, 6.00000000e+00],\n",
       "       [4.17000000e+02, 4.31000000e+02, 2.78172164e+00, 1.00000000e+01],\n",
       "       [3.17000000e+02, 4.20000000e+02, 2.79255618e+00, 6.00000000e+00],\n",
       "       [8.30000000e+01, 3.90000000e+02, 2.81928783e+00, 3.00000000e+00],\n",
       "       [3.66000000e+02, 4.37000000e+02, 2.86162492e+00, 6.00000000e+00],\n",
       "       [3.74000000e+02, 4.28000000e+02, 2.99433252e+00, 1.20000000e+01],\n",
       "       [4.06000000e+02, 4.26000000e+02, 3.02014259e+00, 8.00000000e+00],\n",
       "       [4.25000000e+02, 4.34000000e+02, 3.04701879e+00, 8.00000000e+00],\n",
       "       [3.98000000e+02, 4.07000000e+02, 3.05335798e+00, 6.00000000e+00],\n",
       "       [4.04000000e+02, 4.19000000e+02, 3.12061742e+00, 9.00000000e+00],\n",
       "       [4.00000000e+02, 4.41000000e+02, 3.25853831e+00, 1.00000000e+01],\n",
       "       [1.24000000e+02, 4.58000000e+02, 3.48978166e+00, 9.00000000e+00],\n",
       "       [4.05000000e+02, 4.15000000e+02, 3.51186433e+00, 7.00000000e+00],\n",
       "       [4.02000000e+02, 4.44000000e+02, 3.55208275e+00, 1.60000000e+01],\n",
       "       [4.47000000e+02, 4.61000000e+02, 3.77031475e+00, 2.10000000e+01],\n",
       "       [1.47000000e+02, 4.50000000e+02, 3.85881778e+00, 6.00000000e+00],\n",
       "       [3.78000000e+02, 4.43000000e+02, 4.04415488e+00, 6.00000000e+00],\n",
       "       [4.18000000e+02, 4.27000000e+02, 4.37319313e+00, 1.50000000e+01],\n",
       "       [4.03000000e+02, 4.42000000e+02, 4.37949452e+00, 2.00000000e+01],\n",
       "       [2.79000000e+02, 4.13000000e+02, 4.48463786e+00, 5.00000000e+00],\n",
       "       [4.23000000e+02, 4.59000000e+02, 4.66808907e+00, 1.10000000e+01],\n",
       "       [4.36000000e+02, 4.60000000e+02, 4.91593094e+00, 8.00000000e+00],\n",
       "       [4.16000000e+02, 4.49000000e+02, 5.04812583e+00, 1.70000000e+01],\n",
       "       [4.54000000e+02, 4.65000000e+02, 5.40398451e+00, 2.20000000e+01],\n",
       "       [4.64000000e+02, 4.70000000e+02, 5.71695828e+00, 2.70000000e+01],\n",
       "       [4.46000000e+02, 4.53000000e+02, 5.89467906e+00, 2.00000000e+01],\n",
       "       [4.48000000e+02, 4.69000000e+02, 6.04834290e+00, 2.50000000e+01],\n",
       "       [4.51000000e+02, 4.56000000e+02, 6.30381537e+00, 1.30000000e+01],\n",
       "       [4.40000000e+02, 4.57000000e+02, 6.44268504e+00, 2.00000000e+01],\n",
       "       [4.52000000e+02, 4.63000000e+02, 6.98644817e+00, 1.50000000e+01],\n",
       "       [4.55000000e+02, 4.78000000e+02, 7.20683345e+00, 2.80000000e+01],\n",
       "       [4.68000000e+02, 4.73000000e+02, 7.53135979e+00, 1.40000000e+01],\n",
       "       [4.45000000e+02, 4.74000000e+02, 7.66359065e+00, 2.90000000e+01],\n",
       "       [4.72000000e+02, 4.80000000e+02, 8.81130936e+00, 3.10000000e+01],\n",
       "       [4.39000000e+02, 4.66000000e+02, 9.77930066e+00, 3.00000000e+01],\n",
       "       [4.75000000e+02, 4.79000000e+02, 1.03392397e+01, 3.50000000e+01],\n",
       "       [4.77000000e+02, 4.83000000e+02, 1.16988837e+01, 3.40000000e+01],\n",
       "       [4.62000000e+02, 4.82000000e+02, 1.18722795e+01, 3.80000000e+01],\n",
       "       [4.71000000e+02, 4.76000000e+02, 1.21880062e+01, 3.20000000e+01],\n",
       "       [4.67000000e+02, 4.84000000e+02, 1.25194299e+01, 3.50000000e+01],\n",
       "       [4.86000000e+02, 4.90000000e+02, 1.51282733e+01, 6.20000000e+01],\n",
       "       [4.85000000e+02, 4.91000000e+02, 1.53899022e+01, 6.60000000e+01],\n",
       "       [4.81000000e+02, 4.88000000e+02, 1.71731144e+01, 4.90000000e+01],\n",
       "       [4.89000000e+02, 4.92000000e+02, 2.25539862e+01, 1.00000000e+02],\n",
       "       [4.87000000e+02, 4.93000000e+02, 2.82133291e+01, 1.01000000e+02],\n",
       "       [4.94000000e+02, 4.96000000e+02, 8.00943490e+01, 1.50000000e+02],\n",
       "       [4.95000000e+02, 4.97000000e+02, 2.26036308e+02, 2.50000000e+02]])"
      ]
     },
     "execution_count": 63,
     "metadata": {},
     "output_type": "execute_result"
    }
   ],
   "source": [
    "from scipy.cluster.hierarchy import dendrogram, linkage\n",
    "z = linkage(X, method='ward')\n",
    "z"
   ]
  },
  {
   "cell_type": "markdown",
   "metadata": {},
   "source": [
    "# Q7. Plot the dendrogram for the consolidated dataframe"
   ]
  },
  {
   "cell_type": "markdown",
   "metadata": {},
   "source": [
    "Recreate the dendrogram for last 12 merged clusters"
   ]
  },
  {
   "cell_type": "code",
   "execution_count": 70,
   "metadata": {},
   "outputs": [
    {
     "data": {
      "image/png": "[encoded data removed]",
      "text/plain": [
       "<Figure size 1800x720 with 1 Axes>"
      ]
     },
     "metadata": {
      "needs_background": "light"
     },
     "output_type": "display_data"
    }
   ],
   "source": [
    "plt.figure(figsize=(25, 10))\n",
    "dendrogram(z)\n",
    "plt.show()"
   ]
  },
  {
   "cell_type": "code",
   "execution_count": 73,
   "metadata": {},
   "outputs": [
    {
     "data": {
      "text/plain": [
       "{'icoord': [[15.0, 15.0, 25.0, 25.0], [5.0, 5.0, 20.0, 20.0]],\n",
       " 'dcoord': [[0.0, 80.0943490152443, 80.0943490152443, 0.0],\n",
       "  [0.0, 226.03630838338884, 226.03630838338884, 80.0943490152443]],\n",
       " 'ivl': ['(100)', '(49)', '(101)'],\n",
       " 'leaves': [495, 494, 496],\n",
       " 'color_list': ['g', 'b']}"
      ]
     },
     "execution_count": 73,
     "metadata": {},
     "output_type": "execute_result"
    },
    {
     "data": {
      "image/png": "[encoded data removed]",
      "text/plain": [
       "<Figure size 432x288 with 1 Axes>"
      ]
     },
     "metadata": {
      "needs_background": "light"
     },
     "output_type": "display_data"
    }
   ],
   "source": [
    "dendrogram(z,p=3,truncate_mode='lastp')"
   ]
  },
  {
   "cell_type": "markdown",
   "metadata": {},
   "source": [
    "# Q8. From the truncated dendrogram, find out the optimal distance between clusters which u want to use an input for clustering data"
   ]
  },
  {
   "cell_type": "code",
   "execution_count": 77,
   "metadata": {},
   "outputs": [
    {
     "data": {
      "text/plain": [
       "array([1, 1, 1, 1, 1, 1, 1, 1, 1, 1, 1, 1, 1, 1, 1, 1, 1, 1, 1, 1, 1, 1,\n",
       "       1, 1, 1, 1, 1, 1, 1, 1, 1, 1, 1, 1, 1, 1, 1, 1, 1, 1, 1, 1, 1, 1,\n",
       "       1, 1, 1, 1, 1, 1, 1, 1, 1, 1, 1, 1, 1, 1, 1, 1, 1, 1, 1, 1, 1, 1,\n",
       "       1, 1, 1, 1, 1, 1, 1, 1, 1, 1, 1, 1, 1, 1, 1, 1, 1, 1, 1, 1, 1, 1,\n",
       "       1, 1, 1, 1, 1, 1, 1, 1, 1, 1, 1, 1, 2, 2, 2, 2, 2, 2, 2, 2, 2, 2,\n",
       "       2, 2, 2, 2, 2, 2, 2, 2, 2, 2, 2, 2, 2, 2, 2, 2, 2, 2, 2, 2, 2, 2,\n",
       "       2, 2, 2, 2, 2, 2, 2, 2, 2, 2, 2, 2, 2, 2, 2, 3, 2, 2, 3, 3, 3, 3,\n",
       "       3, 3, 3, 3, 3, 3, 3, 3, 3, 3, 3, 3, 3, 3, 3, 3, 3, 3, 3, 3, 3, 3,\n",
       "       3, 3, 3, 3, 3, 3, 3, 3, 3, 3, 3, 3, 3, 3, 3, 3, 3, 3, 3, 3, 3, 3,\n",
       "       3, 3, 3, 3, 3, 3, 3, 3, 3, 3, 3, 3, 3, 3, 3, 3, 3, 3, 3, 3, 3, 3,\n",
       "       3, 3, 3, 3, 3, 3, 3, 3, 3, 3, 3, 3, 3, 3, 3, 3, 3, 3, 3, 3, 3, 3,\n",
       "       3, 3, 3, 3, 3, 3, 3, 3], dtype=int32)"
      ]
     },
     "execution_count": 77,
     "metadata": {},
     "output_type": "execute_result"
    }
   ],
   "source": [
    "from scipy.cluster.hierarchy import fcluster\n",
    "clusters = fcluster(z,50,criterion='distance')\n",
    "clusters"
   ]
  },
  {
   "cell_type": "markdown",
   "metadata": {},
   "source": [
    "# Q9. Use this distance measure(max_d) and fcluster function to cluster the data into 3 different groups"
   ]
  },
  {
   "cell_type": "code",
   "execution_count": null,
   "metadata": {},
   "outputs": [],
   "source": []
  },
  {
   "cell_type": "markdown",
   "metadata": {},
   "source": [
    "# Q10. Use matplotlib to visually observe the clusters in 2D space"
   ]
  },
  {
   "cell_type": "code",
   "execution_count": 79,
   "metadata": {},
   "outputs": [
    {
     "data": {
      "text/plain": [
       "<matplotlib.collections.PathCollection at 0x12876f3c8>"
      ]
     },
     "execution_count": 79,
     "metadata": {},
     "output_type": "execute_result"
    },
    {
     "data": {
      "image/png": "[encoded data removed]",
      "text/plain": [
       "<Figure size 432x288 with 1 Axes>"
      ]
     },
     "metadata": {
      "needs_background": "light"
     },
     "output_type": "display_data"
    }
   ],
   "source": [
    "plt.scatter(X[:,0],X[:,1], c=clusters)"
   ]
  },
  {
   "cell_type": "code",
   "execution_count": null,
   "metadata": {},
   "outputs": [],
   "source": []
  }
 ],
 "metadata": {
  "kernelspec": {
   "display_name": "Python 3",
   "language": "python",
   "name": "python3"
  },
  "language_info": {
   "codemirror_mode": {
    "name": "ipython",
    "version": 3
   },
   "file_extension": ".py",
   "mimetype": "text/x-python",
   "name": "python",
   "nbconvert_exporter": "python",
   "pygments_lexer": "ipython3",
   "version": "3.7.3"
  }
 },
 "nbformat": 4,
 "nbformat_minor": 2
}
