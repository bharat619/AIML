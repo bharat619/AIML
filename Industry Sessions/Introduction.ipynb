{
 "cells": [
  {
   "cell_type": "markdown",
   "metadata": {},
   "source": [
    "# Types of Analysis\n",
    "\n",
    "1. Diagnostic analytics: To find what happened in the past\n",
    "2. Descriptive analytics: What is happening right now\n",
    "3. Predictive analytics: what is going to happen in the future. ( Take historical data, find out pattern and predict future with this pattern. ML is in the picture )\n",
    "4. Prescriptive analytics: what will be the solution. (Business solution to the client to counter the predictive analysis)\n",
    "\n",
    "This 4 comprises Data Science\n",
    "\n",
    "# Machine Learning Algorithms\n",
    "1. Supervised\n",
    "2. Unsupervised\n",
    "\n",
    "Base Learners\n",
    "Weak Learners\n",
    "Sophisticates Statistical Model\n",
    "\n",
    "ML- works with statistical model\n",
    "DL(deepl learning) - deals with differentiation\n",
    "RL(reinforcement learning) - Q-learning, DQN algorithms. ( Example is training a dog )\n",
    "\n",
    "# IDE\n",
    "Spyder and Pycharm"
   ]
  },
  {
   "cell_type": "code",
   "execution_count": 21,
   "metadata": {},
   "outputs": [
    {
     "name": "stdout",
     "output_type": "stream",
     "text": [
      "Tuple for index 0\n",
      "tuple item  1  at index  0\n",
      "tuple item  2  at index  1\n",
      "Tuple for index 1\n",
      "tuple item  3  at index  0\n",
      "tuple item  4  at index  1\n",
      "Tuple for index 2\n",
      "tuple item  5  at index  0\n",
      "tuple item  6  at index  1\n",
      "Tuple for index (1, 2)\n"
     ]
    },
    {
     "ename": "TypeError",
     "evalue": "'int' object is not iterable",
     "output_type": "error",
     "traceback": [
      "\u001b[0;31m---------------------------------------------------------------------------\u001b[0m",
      "\u001b[0;31mTypeError\u001b[0m                                 Traceback (most recent call last)",
      "\u001b[0;32m<ipython-input-21-6a2181b046a2>\u001b[0m in \u001b[0;36m<module>\u001b[0;34m\u001b[0m\n\u001b[1;32m     14\u001b[0m \u001b[0;32mfor\u001b[0m \u001b[0mtuple\u001b[0m\u001b[0;34m,\u001b[0m\u001b[0mindex\u001b[0m \u001b[0;32min\u001b[0m \u001b[0menumerate\u001b[0m\u001b[0;34m(\u001b[0m\u001b[0mlist\u001b[0m\u001b[0;34m)\u001b[0m\u001b[0;34m:\u001b[0m\u001b[0;34m\u001b[0m\u001b[0;34m\u001b[0m\u001b[0m\n\u001b[1;32m     15\u001b[0m     \u001b[0mprint\u001b[0m\u001b[0;34m(\u001b[0m\u001b[0;34m\"Tuple for index\"\u001b[0m\u001b[0;34m,\u001b[0m\u001b[0mindex\u001b[0m\u001b[0;34m)\u001b[0m\u001b[0;34m\u001b[0m\u001b[0;34m\u001b[0m\u001b[0m\n\u001b[0;32m---> 16\u001b[0;31m     \u001b[0;32mfor\u001b[0m \u001b[0melement\u001b[0m\u001b[0;34m,\u001b[0m\u001b[0mtindex\u001b[0m \u001b[0;32min\u001b[0m \u001b[0menumerate\u001b[0m\u001b[0;34m(\u001b[0m\u001b[0mtuple\u001b[0m\u001b[0;34m)\u001b[0m\u001b[0;34m:\u001b[0m\u001b[0;34m\u001b[0m\u001b[0;34m\u001b[0m\u001b[0m\n\u001b[0m\u001b[1;32m     17\u001b[0m         \u001b[0mprint\u001b[0m\u001b[0;34m(\u001b[0m\u001b[0;34m\"tuple item \"\u001b[0m\u001b[0;34m,\u001b[0m\u001b[0melement\u001b[0m\u001b[0;34m,\u001b[0m\u001b[0;34m\" at index \"\u001b[0m\u001b[0;34m,\u001b[0m\u001b[0mtindex\u001b[0m\u001b[0;34m)\u001b[0m\u001b[0;34m\u001b[0m\u001b[0;34m\u001b[0m\u001b[0m\n\u001b[1;32m     18\u001b[0m         \u001b[0mtindex\u001b[0m \u001b[0;34m=\u001b[0m \u001b[0mtindex\u001b[0m \u001b[0;34m+\u001b[0m \u001b[0;36m1\u001b[0m\u001b[0;34m\u001b[0m\u001b[0;34m\u001b[0m\u001b[0m\n",
      "\u001b[0;31mTypeError\u001b[0m: 'int' object is not iterable"
     ]
    }
   ],
   "source": [
    "# method 1\n",
    "list = [(1,2),(3,4),(5,6)]\n",
    "index = 0\n",
    "for tuple in list:\n",
    "    print(\"Tuple for index\",index)\n",
    "    tindex = 0\n",
    "    for element in tuple:\n",
    "        print(\"tuple item \",element,\" at index \",tindex)\n",
    "        tindex = tindex + 1\n",
    "    index= index + 1\n",
    "\n",
    "# method 2\n",
    "list = [(1,2),(3,4),(5,6)]\n",
    "for tuple,index in enumerate(list):\n",
    "    print(\"Tuple for index\",index)\n",
    "    for element,tindex in enumerate(tuple):\n",
    "        print(\"tuple item \",element,\" at index \",tindex)\n",
    "        tindex = tindex + 1\n",
    "    index= index + 1\n",
    "    "
   ]
  },
  {
   "cell_type": "code",
   "execution_count": 10,
   "metadata": {},
   "outputs": [],
   "source": [
    "list.append(2)"
   ]
  },
  {
   "cell_type": "code",
   "execution_count": 27,
   "metadata": {},
   "outputs": [
    {
     "name": "stdout",
     "output_type": "stream",
     "text": [
      "a 20\n"
     ]
    }
   ],
   "source": [
    "a = {\"a\": 20}\n",
    "for k,v in a.items():\n",
    "    print(k, v)"
   ]
  },
  {
   "cell_type": "markdown",
   "metadata": {},
   "source": [
    "# Sites for references\n",
    "https://pythonprogramming.net/intro-alexa-skill-flask-ask-python-tutorial/\n",
    "https://brilliant.org/"
   ]
  },
  {
   "cell_type": "code",
   "execution_count": 28,
   "metadata": {},
   "outputs": [],
   "source": [
    "import pandas as pd"
   ]
  },
  {
   "cell_type": "code",
   "execution_count": 29,
   "metadata": {},
   "outputs": [],
   "source": [
    "# pd.read_table => read from text file"
   ]
  },
  {
   "cell_type": "markdown",
   "metadata": {},
   "source": [
    "# ML Life cycle\n",
    "1. imprt the libraries (pandas, matplotlib, OS, numpy etc)\n",
    "2. import the data (pd.read_csv,pd.read_table etc)\n",
    "3. Data intuition ( what kind of nature of data ) \n",
    "4. Data pre processing ( imputation, scaling, binning )\n",
    "5. Build a model\n",
    "\n",
    "\n",
    "# Types of planes\n",
    "1. Cartesian plane\n",
    "2. Polar plane ( used in NLP )\n",
    "3. Affine plane ( used in computer vision )"
   ]
  }
 ],
 "metadata": {
  "kernelspec": {
   "display_name": "Python 3",
   "language": "python",
   "name": "python3"
  },
  "language_info": {
   "codemirror_mode": {
    "name": "ipython",
    "version": 3
   },
   "file_extension": ".py",
   "mimetype": "text/x-python",
   "name": "python",
   "nbconvert_exporter": "python",
   "pygments_lexer": "ipython3",
   "version": "3.7.3"
  }
 },
 "nbformat": 4,
 "nbformat_minor": 2
}
