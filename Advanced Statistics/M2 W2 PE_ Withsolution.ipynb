{
 "cells": [
  {
   "cell_type": "markdown",
   "metadata": {
    "colab_type": "text",
    "id": "N1u7APouvlb0"
   },
   "source": [
    "# 1. Assume a Poisson distribution\n",
    "a) If lambda = 2.5, Find P(X = 2)\n",
    "\n",
    "b) If lambda = 0.5, Find P(X = 1)"
   ]
  },
  {
   "cell_type": "markdown",
   "metadata": {
    "colab_type": "text",
    "id": "EXy1OS17vlb-"
   },
   "source": [
    "a) 0.2565\n",
    "b) 0.3033"
   ]
  },
  {
   "cell_type": "markdown",
   "metadata": {
    "colab_type": "text",
    "id": "ZCeCtcO6vlcC"
   },
   "source": [
    "# 2. Assume a poisson distribution with lambda = 5.0. What is the probability that\n",
    "a) X <= 1?\n",
    "\n",
    "b) X > 1?"
   ]
  },
  {
   "cell_type": "markdown",
   "metadata": {
    "colab_type": "text",
    "id": "w2NhYwXuvlcE"
   },
   "source": [
    "a) 0.0404\n",
    "b) 0.9596"
   ]
  },
  {
   "cell_type": "markdown",
   "metadata": {
    "colab_type": "text",
    "id": "KndyTsHdvlcM"
   },
   "source": [
    "# 3. The number of work related injuries per month in a manufacturing plant is known to follow a Poisson distribution, with a mean of 2.5 work-related injuries a month.\n",
    "\n",
    "a) What is the probability that in a given month, no work-related injuries occur?\n",
    "\n",
    "b) That at least one work- related injury occurs?\n",
    "\n",
    "Hint: Use Poisson distribution equation, find X = 0, Given lambda = 2.5"
   ]
  },
  {
   "cell_type": "markdown",
   "metadata": {
    "colab_type": "text",
    "id": "kIpaYXvHvlcU"
   },
   "source": [
    "a) P(X = 0| lambda = 2.5) = e^(-2.5) * (2.5)^0 / 0! = 0.0821\n",
    "b) P(X >= 1) = 1 - P(X = 0) = 0.9179"
   ]
  },
  {
   "cell_type": "markdown",
   "metadata": {
    "colab_type": "text",
    "id": "j12gtDmavlcZ"
   },
   "source": [
    "# 4. A 5-litre bucket of water is taken from a swamp. The water contains 75 mosquito larvae. A 200mL flask of water is taken form the bucket for further analysis. What is\n",
    "a) the expected number of larvae in the flask?\n",
    "\n",
    "b) the probability that the flask contains at least one mosquito lava?"
   ]
  },
  {
   "cell_type": "code",
   "execution_count": 0,
   "metadata": {
    "colab": {},
    "colab_type": "code",
    "id": "C-CJaumkvlcg"
   },
   "outputs": [],
   "source": [
    "lambda = 75 per 5L lambda = 3 per 200ml i.e expected number 3\n",
    "P(X >= 1) = 1 - p(X = 0) * e^ -3 * 3 ^ 0 / 0! = 0.9502"
   ]
  },
  {
   "cell_type": "markdown",
   "metadata": {
    "colab_type": "text",
    "id": "ipETubuBvlcz"
   },
   "source": [
    "# 5. Given Standardized normal distribution (mean = 0 and SD = 1), what is the probability that\n",
    "a) Z is less than -1.57 or greater than 1.84?\n",
    "\n",
    "b) What is the value of Z if only 2.5% of all possible Z values are larger?"
   ]
  },
  {
   "cell_type": "code",
   "execution_count": 0,
   "metadata": {
    "colab": {},
    "colab_type": "code",
    "id": "UuKUGnHCvlc1"
   },
   "outputs": [],
   "source": [
    "b)0.0911\n",
    "c)+1.96"
   ]
  },
  {
   "cell_type": "markdown",
   "metadata": {
    "colab_type": "text",
    "id": "Pkp6ZzlyvldA"
   },
   "source": [
    "# 6. Why the need of Standardization? Why do we us Z instead of “the Number of Standard Deviations”? "
   ]
  },
  {
   "cell_type": "code",
   "execution_count": 0,
   "metadata": {
    "colab": {},
    "colab_type": "code",
    "id": "Yr4-Vw1jvldC"
   },
   "outputs": [],
   "source": [
    "Normally Distributed random variable take on many different units of measure: rupees, cms, inches, Kg, minutes. \n",
    "By standardizing, you remove the units as such we do not require separate Normal Distribution table for each variable \n",
    "and one Standardized Distribution Table can be used for any random variable\n"
   ]
  },
  {
   "cell_type": "markdown",
   "metadata": {
    "colab_type": "text",
    "id": "Ev0X-7yjvldL"
   },
   "source": [
    "# 7. A radar unit is used to measure speeds of cars on a Mumbai – Pune Highway. The speeds are normally distributed with a mean of 70 km/hr and a standard deviation of 10 km/hr.\n",
    "\n",
    "a)What is the probability that a car picked at random is travelling at more than 100 km/hr? \n",
    "\n",
    "b)What is the probability that the car speed is between 80 Km / hr and 100 Km / hr\n",
    "\n",
    "Hint: You can make use of Excel or R"
   ]
  },
  {
   "cell_type": "code",
   "execution_count": 0,
   "metadata": {
    "colab": {},
    "colab_type": "code",
    "id": "mJ_vhIbQvldQ"
   },
   "outputs": [],
   "source": [
    "a) Z = (100 – 70) / 10 = 3 \n",
    "Using Excel function \n",
    "Norm.Dist(100, 70, 10, 1) = 0.99865 \n",
    "Norm.S.Dist(3,1) = 0.99865 \n",
    "Probability of a random car picked speeding at 100 Km / Hr or more will be  = 1 – 0.99865 = 0.00135\n",
    "\n",
    "b)Z = (100 – 70) / 10 = 3 Z = (80 – 70) / 10 = 1 \n",
    "Using Excel function \n",
    "Norm.Dist(100, 70, 10, 1) = 0.998650 \n",
    "Norm.Dist(80, 70, 10, 1) = 0.841345\n",
    "Probability of a random car picked having a speed between 80 Km / Hr and 100 Km / Hr = 0.998650 – 0.841345 = 0.157305 \n",
    "This means that 15.73% of the cars are traveling between 80 Km / Hr and 100 Km / Hr\n"
   ]
  },
  {
   "cell_type": "markdown",
   "metadata": {
    "colab_type": "text",
    "id": "tvjCJLouvldW"
   },
   "source": [
    "# 8. Given a normal distribution with mu = 50 and sigma = 4, what is the probability that\n",
    "\n",
    "a) X > 43?\n",
    "\n",
    "b) Five percent of the values are less than what X value?"
   ]
  },
  {
   "cell_type": "code",
   "execution_count": 0,
   "metadata": {
    "colab": {},
    "colab_type": "code",
    "id": "C2yD-pe1vlda"
   },
   "outputs": [],
   "source": [
    "a)0.9599\n",
    "b)43.42"
   ]
  }
 ],
 "metadata": {
  "colab": {
   "name": "M2 W2 PE_ Withsolution.ipynb",
   "provenance": [],
   "version": "0.3.2"
  },
  "kernelspec": {
   "display_name": "Python 3",
   "language": "python",
   "name": "python3"
  },
  "language_info": {
   "codemirror_mode": {
    "name": "ipython",
    "version": 3
   },
   "file_extension": ".py",
   "mimetype": "text/x-python",
   "name": "python",
   "nbconvert_exporter": "python",
   "pygments_lexer": "ipython3",
   "version": "3.7.3"
  }
 },
 "nbformat": 4,
 "nbformat_minor": 1
}
