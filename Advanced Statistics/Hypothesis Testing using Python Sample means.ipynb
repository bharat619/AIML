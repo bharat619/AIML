{
 "cells": [
  {
   "cell_type": "code",
   "execution_count": 25,
   "metadata": {},
   "outputs": [],
   "source": [
    "import numpy as np\n",
    "import pandas as pd\n",
    "import matplotlib.pyplot as plt\n",
    "import seaborn as sns\n",
    "%matplotlib inline\n",
    "from scipy.stats import ttest_1samp, wilcoxon\n",
    "\n",
    "# Difference between wilcox and ttest\n",
    "# ttest: used for parameterized\n",
    "# wilcox: used for non parameterized\n",
    "# parameterized is used if the data is normally distributed\n",
    "# If characteristic of data is not known( if its not normally distributed) then its safe to use wilcox\n",
    "# For one sampled t test we can either go for parametrised or non parameterised\n",
    "\n",
    "from statsmodels.stats.power import ttest_power"
   ]
  },
  {
   "cell_type": "code",
   "execution_count": 4,
   "metadata": {},
   "outputs": [],
   "source": [
    "daily_intake = np.array([5560,5770,7640,5180,5690,6435,6803,7689,6876,8213,8765])"
   ]
  },
  {
   "cell_type": "code",
   "execution_count": 8,
   "metadata": {},
   "outputs": [],
   "source": [
    "population_mean = 7600\n",
    "# H0 = Mean is 7600\n",
    "# H1 = Mean is not 7600"
   ]
  },
  {
   "cell_type": "code",
   "execution_count": 9,
   "metadata": {},
   "outputs": [
    {
     "name": "stdout",
     "output_type": "stream",
     "text": [
      "-2.2925841964555027 0.04481624562570511\n"
     ]
    }
   ],
   "source": [
    "t_statistics, p_value = ttest_1samp(daily_intake,population_mean)\n",
    "print(t_statistics,p_value)"
   ]
  },
  {
   "cell_type": "code",
   "execution_count": 10,
   "metadata": {},
   "outputs": [
    {
     "name": "stdout",
     "output_type": "stream",
     "text": [
      "Reject H0\n"
     ]
    }
   ],
   "source": [
    "if p_value < 0.05:\n",
    "    print(\"Reject H0\")\n",
    "else:\n",
    "    print(\"Fail to reject H0\")"
   ]
  },
  {
   "cell_type": "code",
   "execution_count": 15,
   "metadata": {},
   "outputs": [
    {
     "name": "stdout",
     "output_type": "stream",
     "text": [
      "12.5 0.06821657316330874\n"
     ]
    }
   ],
   "source": [
    "t_statistics, p_value = wilcoxon(daily_intake -population_mean)\n",
    "print(t_statistics,p_value)"
   ]
  },
  {
   "cell_type": "code",
   "execution_count": 17,
   "metadata": {},
   "outputs": [
    {
     "name": "stdout",
     "output_type": "stream",
     "text": [
      "Fail to reject H0\n"
     ]
    },
    {
     "data": {
      "text/plain": [
       "11"
      ]
     },
     "execution_count": 17,
     "metadata": {},
     "output_type": "execute_result"
    }
   ],
   "source": [
    "if p_value < 0.05:\n",
    "    print(\"Reject H0\")\n",
    "else:\n",
    "    print(\"Fail to reject H0\")"
   ]
  },
  {
   "cell_type": "code",
   "execution_count": 24,
   "metadata": {},
   "outputs": [
    {
     "data": {
      "text/plain": [
       "0.5834930699381619"
      ]
     },
     "execution_count": 24,
     "metadata": {},
     "output_type": "execute_result"
    }
   ],
   "source": [
    "# Power of test\n",
    "effect_size = (np.mean(daily_intake) - population_mean)/np.std(daily_intake)\n",
    "power = ttest_power(effect_size, nobs=np.size(daily_intake), alpha=0.05, alternative='two-sided')\n",
    "power"
   ]
  },
  {
   "cell_type": "code",
   "execution_count": 26,
   "metadata": {},
   "outputs": [],
   "source": [
    "# 58.3% probability in rejecting null hypothesis when null hypothesis is false"
   ]
  },
  {
   "cell_type": "code",
   "execution_count": 27,
   "metadata": {},
   "outputs": [
    {
     "data": {
      "text/plain": [
       "(array([1., 3., 0., 1., 2., 0., 2., 0., 1., 1.]),\n",
       " array([5180. , 5538.5, 5897. , 6255.5, 6614. , 6972.5, 7331. , 7689.5,\n",
       "        8048. , 8406.5, 8765. ]),\n",
       " <a list of 10 Patch objects>)"
      ]
     },
     "execution_count": 27,
     "metadata": {},
     "output_type": "execute_result"
    },
    {
     "data": {
      "image/png": "[encoded data removed]",
      "text/plain": [
       "<Figure size 432x288 with 1 Axes>"
      ]
     },
     "metadata": {
      "needs_background": "light"
     },
     "output_type": "display_data"
    }
   ],
   "source": [
    "plt.hist(daily_intake)"
   ]
  },
  {
   "cell_type": "code",
   "execution_count": 28,
   "metadata": {},
   "outputs": [
    {
     "data": {
      "text/plain": [
       "{'whiskers': [<matplotlib.lines.Line2D at 0x11cc13d30>,\n",
       "  <matplotlib.lines.Line2D at 0x11cc13e10>],\n",
       " 'caps': [<matplotlib.lines.Line2D at 0x11cc24400>,\n",
       "  <matplotlib.lines.Line2D at 0x11cc24748>],\n",
       " 'boxes': [<matplotlib.lines.Line2D at 0x11cc13940>],\n",
       " 'medians': [<matplotlib.lines.Line2D at 0x11cc24a90>],\n",
       " 'fliers': [<matplotlib.lines.Line2D at 0x11cc24dd8>],\n",
       " 'means': []}"
      ]
     },
     "execution_count": 28,
     "metadata": {},
     "output_type": "execute_result"
    },
    {
     "data": {
      "image/png": "[encoded data removed]",
      "text/plain": [
       "<Figure size 432x288 with 1 Axes>"
      ]
     },
     "metadata": {
      "needs_background": "light"
     },
     "output_type": "display_data"
    }
   ],
   "source": [
    "plt.boxplot(daily_intake)"
   ]
  },
  {
   "cell_type": "markdown",
   "metadata": {},
   "source": [
    "## Two sample testing"
   ]
  },
  {
   "cell_type": "code",
   "execution_count": 39,
   "metadata": {},
   "outputs": [],
   "source": [
    "import numpy as np\n",
    "from scipy.stats import ttest_1samp, ttest_ind, mannwhitneyu, levene, shapiro, wilcoxon\n",
    "## paired testing (dependent testing): involves a sample data which talks about same sample subject to same test. \n",
    "#       wilcoxon and ttest_1samp come into picture in this \n",
    "## unpaired testing (independent testing): when the underlying sample or the data set collected has two sample that \n",
    "#       are not related to each other, but the same test is applied on both the sample and variable values \n",
    "#       are calculated. We use ttest_ind (for parameterized) and mannwhitneyu (for non parameterized)\n",
    "\n",
    "# Levene's test is an inferential statistic used to assess the equality of variances for a variable calculated for two or more groups.\n",
    "# Shapiro test is used to identify if a single univariate distribution is normally distributed or not\n",
    "from statsmodels.stats.power import ttest_power\n",
    "import pandas as pd"
   ]
  },
  {
   "cell_type": "code",
   "execution_count": 40,
   "metadata": {},
   "outputs": [],
   "source": [
    "# This is unpaired test, we have two different samples (diabetic and non diabetic)\n",
    "# The diabetic sample might be from a different population\n",
    "# The non diabetic might be from a different population\n",
    "weight = np.array([\n",
    "# sugar consumption in grams and stature (0=diabetic, 1=non diabetic)\n",
    "[9.31, 0],\n",
    "[7.76, 0],\n",
    "[6.98, 1],\n",
    "[7.88, 1],\n",
    "[8.49, 1],\n",
    "[10.05, 1],\n",
    "[8.80, 1],\n",
    "[10.88, 1],\n",
    "[6.13, 1],\n",
    "[7.90, 1],\n",
    "[11.51, 0],\n",
    "[12.59, 0],\n",
    "[7.05, 1],\n",
    "[11.85, 0],\n",
    "[9.99, 0],\n",
    "[7.48, 0],\n",
    "[8.79, 0],\n",
    "[8.69, 1],\n",
    "[9.68, 0],\n",
    "[8.58, 1],\n",
    "[9.19, 0],\n",
    "[8.11, 1]])\n",
    "\n",
    "\n",
    "# This is a paired testing. Data is from the same population\n",
    "# pre and post-Exercise food energy intake\n",
    "intake = np.array([\n",
    "[5460, 3980],\n",
    "[5230, 4890],\n",
    "[5640, 3885],\n",
    "[6180, 5160],\n",
    "[6390, 5645],\n",
    "[6512, 4650],\n",
    "[6765, 6109],\n",
    "[7515, 5975],\n",
    "[7515, 6790],\n",
    "[8230, 6970],\n",
    "[8770, 7335],\n",
    "])"
   ]
  },
  {
   "cell_type": "code",
   "execution_count": 41,
   "metadata": {},
   "outputs": [],
   "source": [
    "group1 = weight[:,1] == 0\n",
    "group1 = weight[group1][:,0]\n",
    "\n",
    "group2 = weight[:,1] == 1\n",
    "group2 = weight[group2][:,0]"
   ]
  },
  {
   "cell_type": "code",
   "execution_count": 42,
   "metadata": {},
   "outputs": [
    {
     "data": {
      "text/plain": [
       "array([ 9.31,  7.76, 11.51, 12.59, 11.85,  9.99,  7.48,  8.79,  9.68,\n",
       "        9.19])"
      ]
     },
     "execution_count": 42,
     "metadata": {},
     "output_type": "execute_result"
    }
   ],
   "source": [
    "group1"
   ]
  },
  {
   "cell_type": "code",
   "execution_count": 43,
   "metadata": {},
   "outputs": [
    {
     "data": {
      "text/plain": [
       "array([ 6.98,  7.88,  8.49, 10.05,  8.8 , 10.88,  6.13,  7.9 ,  7.05,\n",
       "        8.69,  8.58,  8.11])"
      ]
     },
     "execution_count": 43,
     "metadata": {},
     "output_type": "execute_result"
    }
   ],
   "source": [
    "group2"
   ]
  },
  {
   "cell_type": "code",
   "execution_count": 50,
   "metadata": {},
   "outputs": [
    {
     "name": "stdout",
     "output_type": "stream",
     "text": [
      "2.3730593333971224 0.02777741611352253\n",
      "Reject H0\n"
     ]
    }
   ],
   "source": [
    "# H0 = The two groups have the same mean\n",
    "# H1 = The two groups have different mean\n",
    "t_statistic, p_value = ttest_ind(group1, group2)\n",
    "print(t_statistic, p_value)\n",
    "if p_value > 0.05:\n",
    "    print(\"Fail to reject H0\")\n",
    "else:\n",
    "    print(\"Reject H0\")"
   ]
  },
  {
   "cell_type": "code",
   "execution_count": 49,
   "metadata": {},
   "outputs": [
    {
     "name": "stdout",
     "output_type": "stream",
     "text": [
      "29.0 0.022156896141583025\n",
      "Reject H0\n"
     ]
    }
   ],
   "source": [
    "# if data was non parametric\n",
    "u , p_value = mannwhitneyu(group1, group2)\n",
    "print(u, p_value)\n",
    "if p_value > 0.05:\n",
    "    print(\"Fail to reject H0\")\n",
    "else:\n",
    "    print(\"Reject H0\")"
   ]
  },
  {
   "cell_type": "code",
   "execution_count": 51,
   "metadata": {},
   "outputs": [
    {
     "name": "stdout",
     "output_type": "stream",
     "text": [
      "-7.750633257827653 1.552189414812135e-05\n",
      "Reject H0\n"
     ]
    }
   ],
   "source": [
    "# Paired testing \n",
    "# We use the ttest_1samp for 2 sample parametric data\n",
    "pre = intake[:,0]\n",
    "post = intake[:, 1]\n",
    "t_statistic, p_value = ttest_1samp(post - pre, 0)\n",
    "print(t_statistic, p_value)\n",
    "if p_value > 0.05:\n",
    "    print(\"Fail to reject H0\")\n",
    "else:\n",
    "    print(\"Reject H0\")"
   ]
  },
  {
   "cell_type": "code",
   "execution_count": 52,
   "metadata": {},
   "outputs": [
    {
     "name": "stdout",
     "output_type": "stream",
     "text": [
      "0.0 0.0033456181158508813\n",
      "Reject H0\n"
     ]
    }
   ],
   "source": [
    "# We use the wilcoxon for 2 sample non parametric data\n",
    "z_statistic, p_value = wilcoxon(post-pre)\n",
    "print(z_statistic, p_value)\n",
    "if p_value > 0.05:\n",
    "    print(\"Fail to reject H0\")\n",
    "else:\n",
    "    print(\"Reject H0\")"
   ]
  },
  {
   "cell_type": "code",
   "execution_count": 56,
   "metadata": {},
   "outputs": [
    {
     "name": "stdout",
     "output_type": "stream",
     "text": [
      "Fail to reject H0\n"
     ]
    }
   ],
   "source": [
    "# Levene test\n",
    "# H0 = variances are same\n",
    "# H1 = variances are not same\n",
    "result = levene(post, pre)\n",
    "if result.pvalue > 0.05:\n",
    "    print(\"Fail to reject H0\")\n",
    "else:\n",
    "    print(\"Reject H0\")"
   ]
  },
  {
   "cell_type": "code",
   "execution_count": 69,
   "metadata": {},
   "outputs": [
    {
     "data": {
      "text/plain": [
       "(0.9546877145767212, 0.7041629552841187)"
      ]
     },
     "execution_count": 69,
     "metadata": {},
     "output_type": "execute_result"
    }
   ],
   "source": [
    "# shapiro \n",
    "shapiro(post)"
   ]
  },
  {
   "cell_type": "code",
   "execution_count": 83,
   "metadata": {},
   "outputs": [],
   "source": [
    "# power of test\n",
    "(np.mean(pre) - np.mean(post)) / np.sqrt(((11-1)*np.var(pre) + (11-1)*np.var(post)) / (11+11-2))\n",
    "\n",
    "n1 = np.size(pre)\n",
    "n2 = np.size(post)\n",
    "s1Square = np.var(pre)\n",
    "s2Square = np.var(post)\n",
    "\n",
    "SDpool = np.sqrt((((n1-1)*s1Square)+((n2-1)*s2Square))/(n1+n2-2))\n",
    "\n",
    "effect_size = (np.mean(pre) - np.mean(post)) / SDpool"
   ]
  },
  {
   "cell_type": "code",
   "execution_count": 85,
   "metadata": {},
   "outputs": [
    {
     "data": {
      "text/plain": [
       "0.8805237687647913"
      ]
     },
     "execution_count": 85,
     "metadata": {},
     "output_type": "execute_result"
    }
   ],
   "source": [
    "ttest_power(effect_size, nobs= n1, alpha = 0.05, alternative = 'two-sided')"
   ]
  },
  {
   "cell_type": "markdown",
   "metadata": {},
   "source": [
    "## Chi Square Test"
   ]
  },
  {
   "cell_type": "code",
   "execution_count": 86,
   "metadata": {},
   "outputs": [],
   "source": [
    "from scipy.stats import chisquare, chi2_contingency"
   ]
  },
  {
   "cell_type": "code",
   "execution_count": 97,
   "metadata": {},
   "outputs": [
    {
     "data": {
      "text/html": [
       "<div>\n",
       "<style scoped>\n",
       "    .dataframe tbody tr th:only-of-type {\n",
       "        vertical-align: middle;\n",
       "    }\n",
       "\n",
       "    .dataframe tbody tr th {\n",
       "        vertical-align: top;\n",
       "    }\n",
       "\n",
       "    .dataframe thead th {\n",
       "        text-align: right;\n",
       "    }\n",
       "</style>\n",
       "<table border=\"1\" class=\"dataframe\">\n",
       "  <thead>\n",
       "    <tr style=\"text-align: right;\">\n",
       "      <th></th>\n",
       "      <th>0</th>\n",
       "      <th>1</th>\n",
       "      <th>2</th>\n",
       "      <th>3</th>\n",
       "      <th>4</th>\n",
       "      <th>5</th>\n",
       "    </tr>\n",
       "  </thead>\n",
       "  <tbody>\n",
       "    <tr>\n",
       "      <th>0</th>\n",
       "      <td>vhigh</td>\n",
       "      <td>vhigh</td>\n",
       "      <td>2</td>\n",
       "      <td>2</td>\n",
       "      <td>small</td>\n",
       "      <td>low</td>\n",
       "    </tr>\n",
       "    <tr>\n",
       "      <th>1</th>\n",
       "      <td>vhigh</td>\n",
       "      <td>vhigh</td>\n",
       "      <td>2</td>\n",
       "      <td>2</td>\n",
       "      <td>small</td>\n",
       "      <td>med</td>\n",
       "    </tr>\n",
       "    <tr>\n",
       "      <th>2</th>\n",
       "      <td>vhigh</td>\n",
       "      <td>vhigh</td>\n",
       "      <td>2</td>\n",
       "      <td>2</td>\n",
       "      <td>small</td>\n",
       "      <td>high</td>\n",
       "    </tr>\n",
       "    <tr>\n",
       "      <th>3</th>\n",
       "      <td>vhigh</td>\n",
       "      <td>vhigh</td>\n",
       "      <td>2</td>\n",
       "      <td>2</td>\n",
       "      <td>med</td>\n",
       "      <td>low</td>\n",
       "    </tr>\n",
       "    <tr>\n",
       "      <th>4</th>\n",
       "      <td>vhigh</td>\n",
       "      <td>vhigh</td>\n",
       "      <td>2</td>\n",
       "      <td>2</td>\n",
       "      <td>med</td>\n",
       "      <td>med</td>\n",
       "    </tr>\n",
       "  </tbody>\n",
       "</table>\n",
       "</div>"
      ],
      "text/plain": [
       "       0      1  2  3      4     5\n",
       "0  vhigh  vhigh  2  2  small   low\n",
       "1  vhigh  vhigh  2  2  small   med\n",
       "2  vhigh  vhigh  2  2  small  high\n",
       "3  vhigh  vhigh  2  2    med   low\n",
       "4  vhigh  vhigh  2  2    med   med"
      ]
     },
     "execution_count": 97,
     "metadata": {},
     "output_type": "execute_result"
    }
   ],
   "source": [
    "car = pd.read_csv('SM4-car (1).csv',header=None,usecols =[0,1,2,3,4,5])\n",
    "car.head()"
   ]
  },
  {
   "cell_type": "code",
   "execution_count": 98,
   "metadata": {},
   "outputs": [
    {
     "data": {
      "text/html": [
       "<div>\n",
       "<style scoped>\n",
       "    .dataframe tbody tr th:only-of-type {\n",
       "        vertical-align: middle;\n",
       "    }\n",
       "\n",
       "    .dataframe tbody tr th {\n",
       "        vertical-align: top;\n",
       "    }\n",
       "\n",
       "    .dataframe thead th {\n",
       "        text-align: right;\n",
       "    }\n",
       "</style>\n",
       "<table border=\"1\" class=\"dataframe\">\n",
       "  <thead>\n",
       "    <tr style=\"text-align: right;\">\n",
       "      <th></th>\n",
       "      <th>0</th>\n",
       "      <th>1</th>\n",
       "      <th>2</th>\n",
       "      <th>3</th>\n",
       "      <th>4</th>\n",
       "      <th>5</th>\n",
       "    </tr>\n",
       "  </thead>\n",
       "  <tbody>\n",
       "    <tr>\n",
       "      <th>count</th>\n",
       "      <td>1728</td>\n",
       "      <td>1728</td>\n",
       "      <td>1728</td>\n",
       "      <td>1728</td>\n",
       "      <td>1728</td>\n",
       "      <td>1728</td>\n",
       "    </tr>\n",
       "    <tr>\n",
       "      <th>unique</th>\n",
       "      <td>4</td>\n",
       "      <td>4</td>\n",
       "      <td>4</td>\n",
       "      <td>3</td>\n",
       "      <td>3</td>\n",
       "      <td>3</td>\n",
       "    </tr>\n",
       "    <tr>\n",
       "      <th>top</th>\n",
       "      <td>med</td>\n",
       "      <td>med</td>\n",
       "      <td>5more</td>\n",
       "      <td>more</td>\n",
       "      <td>small</td>\n",
       "      <td>med</td>\n",
       "    </tr>\n",
       "    <tr>\n",
       "      <th>freq</th>\n",
       "      <td>432</td>\n",
       "      <td>432</td>\n",
       "      <td>432</td>\n",
       "      <td>576</td>\n",
       "      <td>576</td>\n",
       "      <td>576</td>\n",
       "    </tr>\n",
       "  </tbody>\n",
       "</table>\n",
       "</div>"
      ],
      "text/plain": [
       "           0     1      2     3      4     5\n",
       "count   1728  1728   1728  1728   1728  1728\n",
       "unique     4     4      4     3      3     3\n",
       "top      med   med  5more  more  small   med\n",
       "freq     432   432    432   576    576   576"
      ]
     },
     "execution_count": 98,
     "metadata": {},
     "output_type": "execute_result"
    }
   ],
   "source": [
    "car.describe()"
   ]
  },
  {
   "cell_type": "code",
   "execution_count": 102,
   "metadata": {},
   "outputs": [
    {
     "data": {
      "text/html": [
       "<div>\n",
       "<style scoped>\n",
       "    .dataframe tbody tr th:only-of-type {\n",
       "        vertical-align: middle;\n",
       "    }\n",
       "\n",
       "    .dataframe tbody tr th {\n",
       "        vertical-align: top;\n",
       "    }\n",
       "\n",
       "    .dataframe thead th {\n",
       "        text-align: right;\n",
       "    }\n",
       "</style>\n",
       "<table border=\"1\" class=\"dataframe\">\n",
       "  <thead>\n",
       "    <tr style=\"text-align: right;\">\n",
       "      <th></th>\n",
       "      <th>buying</th>\n",
       "      <th>maint</th>\n",
       "      <th>doors</th>\n",
       "      <th>persons</th>\n",
       "      <th>lug_boot</th>\n",
       "      <th>safety</th>\n",
       "    </tr>\n",
       "  </thead>\n",
       "  <tbody>\n",
       "    <tr>\n",
       "      <th>0</th>\n",
       "      <td>vhigh</td>\n",
       "      <td>vhigh</td>\n",
       "      <td>2</td>\n",
       "      <td>2</td>\n",
       "      <td>small</td>\n",
       "      <td>low</td>\n",
       "    </tr>\n",
       "    <tr>\n",
       "      <th>1</th>\n",
       "      <td>vhigh</td>\n",
       "      <td>vhigh</td>\n",
       "      <td>2</td>\n",
       "      <td>2</td>\n",
       "      <td>small</td>\n",
       "      <td>med</td>\n",
       "    </tr>\n",
       "    <tr>\n",
       "      <th>2</th>\n",
       "      <td>vhigh</td>\n",
       "      <td>vhigh</td>\n",
       "      <td>2</td>\n",
       "      <td>2</td>\n",
       "      <td>small</td>\n",
       "      <td>high</td>\n",
       "    </tr>\n",
       "    <tr>\n",
       "      <th>3</th>\n",
       "      <td>vhigh</td>\n",
       "      <td>vhigh</td>\n",
       "      <td>2</td>\n",
       "      <td>2</td>\n",
       "      <td>med</td>\n",
       "      <td>low</td>\n",
       "    </tr>\n",
       "    <tr>\n",
       "      <th>4</th>\n",
       "      <td>vhigh</td>\n",
       "      <td>vhigh</td>\n",
       "      <td>2</td>\n",
       "      <td>2</td>\n",
       "      <td>med</td>\n",
       "      <td>med</td>\n",
       "    </tr>\n",
       "  </tbody>\n",
       "</table>\n",
       "</div>"
      ],
      "text/plain": [
       "  buying  maint doors persons lug_boot safety\n",
       "0  vhigh  vhigh     2       2    small    low\n",
       "1  vhigh  vhigh     2       2    small    med\n",
       "2  vhigh  vhigh     2       2    small   high\n",
       "3  vhigh  vhigh     2       2      med    low\n",
       "4  vhigh  vhigh     2       2      med    med"
      ]
     },
     "execution_count": 102,
     "metadata": {},
     "output_type": "execute_result"
    }
   ],
   "source": [
    "car.rename(columns={0: 'buying', 1: 'maint', 2: 'doors', 3: 'persons', 4: 'lug_boot', 5: 'safety'}, inplace=True)\n",
    "car.head()"
   ]
  },
  {
   "cell_type": "code",
   "execution_count": 104,
   "metadata": {},
   "outputs": [
    {
     "name": "stdout",
     "output_type": "stream",
     "text": [
      "<class 'pandas.core.frame.DataFrame'>\n",
      "RangeIndex: 1728 entries, 0 to 1727\n",
      "Data columns (total 6 columns):\n",
      "buying      1728 non-null object\n",
      "maint       1728 non-null object\n",
      "doors       1728 non-null object\n",
      "persons     1728 non-null object\n",
      "lug_boot    1728 non-null object\n",
      "safety      1728 non-null object\n",
      "dtypes: object(6)\n",
      "memory usage: 81.1+ KB\n"
     ]
    }
   ],
   "source": [
    "car.info()"
   ]
  },
  {
   "cell_type": "code",
   "execution_count": 109,
   "metadata": {},
   "outputs": [
    {
     "data": {
      "text/plain": [
       "Power_divergenceResult(statistic=0.0, pvalue=1.0)"
      ]
     },
     "execution_count": 109,
     "metadata": {},
     "output_type": "execute_result"
    }
   ],
   "source": [
    "# H0: All proportion's are the same\n",
    "# H1: Atleast one proportion differs from other\n",
    "\n",
    "chisquare(car['doors'].value_counts())\n",
    "# fail to reject H0"
   ]
  },
  {
   "cell_type": "code",
   "execution_count": 110,
   "metadata": {},
   "outputs": [
    {
     "data": {
      "text/plain": [
       "Power_divergenceResult(statistic=0.0, pvalue=1.0)"
      ]
     },
     "execution_count": 110,
     "metadata": {},
     "output_type": "execute_result"
    }
   ],
   "source": [
    "chisquare(car['lug_boot'].value_counts())"
   ]
  },
  {
   "cell_type": "code",
   "execution_count": 114,
   "metadata": {
    "scrolled": true
   },
   "outputs": [
    {
     "data": {
      "text/html": [
       "<div>\n",
       "<style scoped>\n",
       "    .dataframe tbody tr th:only-of-type {\n",
       "        vertical-align: middle;\n",
       "    }\n",
       "\n",
       "    .dataframe tbody tr th {\n",
       "        vertical-align: top;\n",
       "    }\n",
       "\n",
       "    .dataframe thead th {\n",
       "        text-align: right;\n",
       "    }\n",
       "</style>\n",
       "<table border=\"1\" class=\"dataframe\">\n",
       "  <thead>\n",
       "    <tr style=\"text-align: right;\">\n",
       "      <th>lug_boot</th>\n",
       "      <th>big</th>\n",
       "      <th>med</th>\n",
       "      <th>small</th>\n",
       "    </tr>\n",
       "    <tr>\n",
       "      <th>doors</th>\n",
       "      <th></th>\n",
       "      <th></th>\n",
       "      <th></th>\n",
       "    </tr>\n",
       "  </thead>\n",
       "  <tbody>\n",
       "    <tr>\n",
       "      <th>2</th>\n",
       "      <td>144</td>\n",
       "      <td>144</td>\n",
       "      <td>144</td>\n",
       "    </tr>\n",
       "    <tr>\n",
       "      <th>3</th>\n",
       "      <td>144</td>\n",
       "      <td>144</td>\n",
       "      <td>144</td>\n",
       "    </tr>\n",
       "    <tr>\n",
       "      <th>4</th>\n",
       "      <td>144</td>\n",
       "      <td>144</td>\n",
       "      <td>144</td>\n",
       "    </tr>\n",
       "    <tr>\n",
       "      <th>5more</th>\n",
       "      <td>144</td>\n",
       "      <td>144</td>\n",
       "      <td>144</td>\n",
       "    </tr>\n",
       "  </tbody>\n",
       "</table>\n",
       "</div>"
      ],
      "text/plain": [
       "lug_boot  big  med  small\n",
       "doors                    \n",
       "2         144  144    144\n",
       "3         144  144    144\n",
       "4         144  144    144\n",
       "5more     144  144    144"
      ]
     },
     "execution_count": 114,
     "metadata": {},
     "output_type": "execute_result"
    }
   ],
   "source": [
    "# Two sample \n",
    "coross_tab = pd.crosstab(car['doors'], car['lug_boot'])\n",
    "coross_tab"
   ]
  },
  {
   "cell_type": "code",
   "execution_count": 116,
   "metadata": {},
   "outputs": [
    {
     "data": {
      "text/plain": [
       "(0.0, 1.0, 6, array([[144., 144., 144.],\n",
       "        [144., 144., 144.],\n",
       "        [144., 144., 144.],\n",
       "        [144., 144., 144.]]))"
      ]
     },
     "execution_count": 116,
     "metadata": {},
     "output_type": "execute_result"
    }
   ],
   "source": [
    "chi2_contingency(coross_tab)"
   ]
  },
  {
   "cell_type": "code",
   "execution_count": null,
   "metadata": {},
   "outputs": [],
   "source": []
  },
  {
   "cell_type": "code",
   "execution_count": null,
   "metadata": {},
   "outputs": [],
   "source": []
  }
 ],
 "metadata": {
  "kernelspec": {
   "display_name": "Python 3",
   "language": "python",
   "name": "python3"
  },
  "language_info": {
   "codemirror_mode": {
    "name": "ipython",
    "version": 3
   },
   "file_extension": ".py",
   "mimetype": "text/x-python",
   "name": "python",
   "nbconvert_exporter": "python",
   "pygments_lexer": "ipython3",
   "version": "3.7.3"
  }
 },
 "nbformat": 4,
 "nbformat_minor": 2
}
