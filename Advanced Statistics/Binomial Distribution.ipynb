{
 "cells": [
  {
   "cell_type": "markdown",
   "metadata": {},
   "source": [
    "## Risk Uncertainity and Volatile\n",
    "Risk is measured by SD\n",
    "An event which we cannot foresee will increase the risk\n",
    "The uncertainity plus risk will be a measure of volatile\n",
    "\n",
    "#### Probability\n",
    "Chance or liklihood of a particular event taking place\n",
    "\n",
    "#### Event\n",
    "Event is an outcome of an experiment\n",
    "\n",
    "#### Experiment\n",
    "Is a process that is performed to undestand and observe possible outcome\n",
    "\n",
    "#### Sample Space\n",
    "Set of all outcomes of an experiment is called sample space\n",
    "\n",
    "#### Example\n",
    "In a manufacture unit three parts from the assembly are selected. You are observing weather they are defective or non defective. Determine\n",
    "1. Sample space\n",
    "2. The event of getting atleast two defective parts\n",
    "\n",
    "Solution: <br/>\n",
    "Sample Space = { GGG, GGD, GDG, GDD, DGG, DGD, DDG, DDD }\n",
    "The event of getting atleast two defective parts = { GDD, DGD, DDG, DDD }\n",
    "<br/>\n",
    "An event is always the subset of sample space\n",
    "\n",
    "#### Definition\n",
    "Probability of an event A is defined as the ratio of two numbers m and n <br/>\n",
    "P(A) = m/n\n",
    "* m -> number of ways that favourable to occurances of A\n",
    "* n -> total number of outcomes of an experiment\n",
    "p(A) >= 0 and <= 1 and is always a real number\n",
    "\n",
    "\n",
    "#### Extreme values of probability\n",
    "1. (100% chance) or certainity\n",
    "2. (50%) equally likely\n",
    "3. (0% chance) impossibility\n",
    "\n",
    "#### Types of probablity\n",
    "1. A Priori Classical Probability: A probability that is derived purely from deductive reasoning. One disadvantage is that it applies only to the finite collection of events.\n",
    "2. Emperical Probability ( also called relative frequency or experimental probability ): Is the ratio of number of outcomes in which specified event occurs to the total number of trials in an actual sample space. It is data driven.\n",
    "3. Subjective Probability ( delfi technique ): It is derived from an individual personal judgement about weather a specific event is likely to occur. It contains no calculations but only the past experience of a person.\n",
    "\n",
    "\n",
    "#### Mutually Exclusively Events\n",
    "Two events A and B are mutually exclusive if, occurance of one event prevents the occurance of another. <br>\n",
    "Example: Selected card being a king or queen\n",
    "\n",
    "#### Independent Events\n",
    "Two events A and B are independent of, occurance of one event is independent of other.\n",
    "Example: Toss of coin, occurance of head in second trial is independent of outcome of first trial\n",
    "\n",
    "#### Rules for computing probability\n",
    "1. Addition rule ( when events are mutually exclusive) <br>\n",
    "P(A *U* B) = P(A) + P(B) <br>\n",
    "2. Addition rule ( when events are not mutually exclusive) <br>\n",
    "P(A *U* B) = P(A) + P(B) - P(A ∩ B)\n",
    "3. Multiplication rule ( when events are independent) <br>\n",
    "P(A ∩ B) = P(A)*P(B)\n",
    "4. Multiplication rule ( when events are not independent) <br>\n",
    "P(A ∩ B) = P(A)*P(B/A)<br>\n",
    "This rule says that probability of intersection of events A and B is product of probability of A and B given that A has happened or known to you.<br>\n",
    "P(B/A) -> Conditional probability of B given that A has happened. <br>\n",
    "This can also be written as P(A ∩ B) = P(B) * P(A/B) if B has already happened\n",
    "<br> Watch video for example\n",
    "\n",
    "#### Marginal Probability\n",
    "Contingency table ( pivot table ) consists of rows and columns of two attributes at different levels with frequencies or numbers in each of the cells. It is a matrix of frequencies assigned to rows and columns.<br>\n",
    "Term marginal is used to indicate the probabilities calculated using the contingency table( also called joint probability table )\n",
    "<br> Watch video for example\n",
    "<br>\n",
    "Market Basket analysis is association rules\n",
    "\n",
    "\n",
    "#### Baye's Theorem\n",
    "Extension of conditional probability\n",
    "\n",
    "#### Watch these\n",
    "1. https://www.youtube.com/watch?v=ibINrxJLvlM\n",
    "2. https://www.youtube.com/watch?v=OYT0AcuLXu8\n",
    "3. https://www.youtube.com/watch?v=XQoLVl31ZfQ\n",
    "4. https://www.youtube.com/watch?v=k6Dw0on6NtM\n",
    "\n",
    "\n",
    "## Probability Distribution\n",
    "Probability Distribution is a total listing of various values the random variable can take along with corresponding probability for each value.<br>\n",
    "\n",
    "Binomial and Poisson are discrete distributioin. Normal is for continuous distribution\n",
    "\n",
    "### Binomial Distribution\n",
    "Plays a major role in quality control and quality assurance. Manufacturing units do use binomial distribution for defective analysis. Can be applied in service organisation like bank, insurance organisation to find the people who might be dissatisfied with the services.\n",
    "\n",
    "#### Conditions for Binomial\n",
    "* Trials are independant and random\n",
    "* There are fixed number of trials (n)\n",
    "* There are 2 outcomes, success or failure\n",
    "* Probability of success in uniform throughout n trials\n",
    "\n",
    "\n",
    "## Binomial Using Python"
   ]
  },
  {
   "cell_type": "code",
   "execution_count": 1,
   "metadata": {},
   "outputs": [
    {
     "name": "stderr",
     "output_type": "stream",
     "text": [
      "/Library/Frameworks/Python.framework/Versions/3.7/lib/python3.7/importlib/_bootstrap.py:219: RuntimeWarning: numpy.ufunc size changed, may indicate binary incompatibility. Expected 192 from C header, got 216 from PyObject\n",
      "  return f(*args, **kwds)\n",
      "/Library/Frameworks/Python.framework/Versions/3.7/lib/python3.7/importlib/_bootstrap.py:219: RuntimeWarning: numpy.ufunc size changed, may indicate binary incompatibility. Expected 192 from C header, got 216 from PyObject\n",
      "  return f(*args, **kwds)\n"
     ]
    }
   ],
   "source": [
    "import numpy as np\n",
    "import scipy.stats as stats\n",
    "import matplotlib.pyplot as plt"
   ]
  },
  {
   "cell_type": "code",
   "execution_count": 2,
   "metadata": {},
   "outputs": [],
   "source": [
    "n = 7"
   ]
  },
  {
   "cell_type": "code",
   "execution_count": 3,
   "metadata": {},
   "outputs": [],
   "source": [
    "p = 0.6"
   ]
  },
  {
   "cell_type": "code",
   "execution_count": 5,
   "metadata": {},
   "outputs": [
    {
     "data": {
      "text/plain": [
       "array([0, 1, 2, 3, 4, 5, 6, 7])"
      ]
     },
     "execution_count": 5,
     "metadata": {},
     "output_type": "execute_result"
    }
   ],
   "source": [
    "k = np.arange(0, 8)\n",
    "k"
   ]
  },
  {
   "cell_type": "code",
   "execution_count": 6,
   "metadata": {},
   "outputs": [
    {
     "data": {
      "text/plain": [
       "array([0.0016384, 0.0172032, 0.0774144, 0.193536 , 0.290304 , 0.2612736,\n",
       "       0.1306368, 0.0279936])"
      ]
     },
     "execution_count": 6,
     "metadata": {},
     "output_type": "execute_result"
    }
   ],
   "source": [
    "# pmf - we use this for discrete variables. If it was for a continuous distribution we would use something calle\n",
    "# probability density function\n",
    "binomial = stats.binom.pmf(k, n, p)\n",
    "binomial"
   ]
  },
  {
   "cell_type": "code",
   "execution_count": 8,
   "metadata": {},
   "outputs": [
    {
     "data": {
      "text/plain": [
       "Text(0, 0.5, 'Probability')"
      ]
     },
     "execution_count": 8,
     "metadata": {},
     "output_type": "execute_result"
    },
    {
     "data": {
      "image/png": "[encoded data removed]",
      "text/plain": [
       "<Figure size 432x288 with 1 Axes>"
      ]
     },
     "metadata": {
      "needs_background": "light"
     },
     "output_type": "display_data"
    }
   ],
   "source": [
    "plt.plot(k, binomial, 'o-')\n",
    "plt.title('Binomial with n=%i, p=%.2f ' % (n,p), fontsize = 15 )\n",
    "plt.xlabel('Number of success')\n",
    "plt.ylabel('Probability')"
   ]
  },
  {
   "cell_type": "code",
   "execution_count": 10,
   "metadata": {},
   "outputs": [
    {
     "data": {
      "text/plain": [
       "array([0.0016384, 0.0188416, 0.096256 , 0.289792 , 0.580096 , 0.8413696,\n",
       "       0.9720064, 1.       ])"
      ]
     },
     "execution_count": 10,
     "metadata": {},
     "output_type": "execute_result"
    }
   ],
   "source": [
    "# cumulative binomial distribution function\n",
    "cumulative_binomial = stats.binom.cdf(k, n, p)\n",
    "cumulative_binomial"
   ]
  },
  {
   "cell_type": "code",
   "execution_count": null,
   "metadata": {},
   "outputs": [],
   "source": []
  },
  {
   "cell_type": "code",
   "execution_count": 14,
   "metadata": {},
   "outputs": [
    {
     "data": {
      "text/plain": [
       "array([  0,   1,   2,   3,   4,   5,   6,   7,   8,   9,  10,  11,  12,\n",
       "        13,  14,  15,  16,  17,  18,  19,  20,  21,  22,  23,  24,  25,\n",
       "        26,  27,  28,  29,  30,  31,  32,  33,  34,  35,  36,  37,  38,\n",
       "        39,  40,  41,  42,  43,  44,  45,  46,  47,  48,  49,  50,  51,\n",
       "        52,  53,  54,  55,  56,  57,  58,  59,  60,  61,  62,  63,  64,\n",
       "        65,  66,  67,  68,  69,  70,  71,  72,  73,  74,  75,  76,  77,\n",
       "        78,  79,  80,  81,  82,  83,  84,  85,  86,  87,  88,  89,  90,\n",
       "        91,  92,  93,  94,  95,  96,  97,  98,  99, 100])"
      ]
     },
     "execution_count": 14,
     "metadata": {},
     "output_type": "execute_result"
    }
   ],
   "source": [
    "n = 100\n",
    "p = 0.10\n",
    "k = np.arange(0,n+1)\n",
    "k"
   ]
  },
  {
   "cell_type": "code",
   "execution_count": 15,
   "metadata": {},
   "outputs": [
    {
     "data": {
      "text/plain": [
       "array([2.65613989e-005, 2.95126654e-004, 1.62319660e-003, 5.89160247e-003,\n",
       "       1.58745955e-002, 3.38658038e-002, 5.95787289e-002, 8.88952464e-002,\n",
       "       1.14823027e-001, 1.30416277e-001, 1.31865347e-001, 1.19877588e-001,\n",
       "       9.87880124e-002, 7.43020948e-002, 5.13038273e-002, 3.26824382e-002,\n",
       "       1.92917170e-002, 1.05915309e-002, 5.42652508e-003, 2.60219331e-003,\n",
       "       1.17098699e-003, 4.95655869e-004, 1.97761685e-004, 7.45188959e-005,\n",
       "       2.65646064e-005, 8.97293372e-006, 2.87594029e-006, 8.75800748e-007,\n",
       "       2.53704185e-007, 6.99873614e-008, 1.84040839e-008, 4.61751209e-009,\n",
       "       1.10627894e-009, 2.53289454e-010, 5.54588020e-011, 1.16199395e-011,\n",
       "       2.33116070e-012, 4.48030885e-013, 8.25320051e-014, 1.45783029e-014,\n",
       "       2.47021243e-015, 4.01660558e-016, 6.26930501e-017, 9.39585764e-018,\n",
       "       1.35243405e-018, 1.87003227e-019, 2.48434239e-020, 3.17150093e-021,\n",
       "       3.89096178e-022, 4.58798215e-023, 5.19971310e-024, 5.66417549e-025,\n",
       "       5.93044015e-026, 5.96773852e-027, 5.77126976e-028, 5.36320018e-029,\n",
       "       4.78857159e-030, 4.10715692e-031, 3.38329018e-032, 2.67604873e-033,\n",
       "       2.03181478e-034, 1.48037507e-035, 1.03467074e-036, 6.93430129e-038,\n",
       "       4.45432548e-039, 2.74112337e-040, 1.61514003e-041, 9.10692557e-043,\n",
       "       4.91059712e-044, 2.53042042e-045, 1.24512751e-046, 5.84566904e-048,\n",
       "       2.61611732e-049, 1.11493584e-050, 4.52001018e-052, 1.74104096e-053,\n",
       "       6.36345379e-055, 2.20379352e-056, 7.22040612e-058, 2.23416223e-059,\n",
       "       6.51630651e-061, 1.78773841e-062, 4.60257857e-064, 1.10905508e-065,\n",
       "       2.49390692e-067, 5.21601447e-069, 1.01085552e-070, 1.80740450e-072,\n",
       "       2.96669931e-074, 4.44449334e-076, 6.03573170e-078, 7.36963577e-080,\n",
       "       8.01047367e-082, 7.65636671e-084, 6.33505520e-086, 4.44565277e-088,\n",
       "       2.57271572e-090, 1.17879300e-092, 4.00950000e-095, 9.00000000e-098,\n",
       "       1.00000000e-100])"
      ]
     },
     "execution_count": 15,
     "metadata": {},
     "output_type": "execute_result"
    }
   ],
   "source": [
    "binomial = stats.binom.pmf(k,n,p)\n",
    "binomial"
   ]
  },
  {
   "cell_type": "code",
   "execution_count": 19,
   "metadata": {},
   "outputs": [
    {
     "data": {
      "text/plain": [
       "Text(0, 0.5, 'Probability')"
      ]
     },
     "execution_count": 19,
     "metadata": {},
     "output_type": "execute_result"
    },
    {
     "data": {
      "image/png": "[encoded data removed]",
      "text/plain": [
       "<Figure size 432x288 with 1 Axes>"
      ]
     },
     "metadata": {
      "needs_background": "light"
     },
     "output_type": "display_data"
    }
   ],
   "source": [
    "plt.plot(k, binomial, 'o-')\n",
    "plt.title('Binomial n=%i p=%.2f' % (n,p))\n",
    "plt.xlabel('Defective laptops')\n",
    "plt.ylabel('Probability')"
   ]
  },
  {
   "cell_type": "code",
   "execution_count": 20,
   "metadata": {},
   "outputs": [
    {
     "data": {
      "text/plain": [
       "10.0"
      ]
     },
     "execution_count": 20,
     "metadata": {},
     "output_type": "execute_result"
    }
   ],
   "source": [
    "n * p"
   ]
  },
  {
   "cell_type": "code",
   "execution_count": null,
   "metadata": {},
   "outputs": [],
   "source": []
  }
 ],
 "metadata": {
  "kernelspec": {
   "display_name": "Python 3",
   "language": "python",
   "name": "python3"
  },
  "language_info": {
   "codemirror_mode": {
    "name": "ipython",
    "version": 3
   },
   "file_extension": ".py",
   "mimetype": "text/x-python",
   "name": "python",
   "nbconvert_exporter": "python",
   "pygments_lexer": "ipython3",
   "version": "3.7.3"
  }
 },
 "nbformat": 4,
 "nbformat_minor": 2
}
