{
 "cells": [
  {
   "cell_type": "markdown",
   "metadata": {},
   "source": [
    "## Problem Statement\n",
    "If on an average, 6 customers arrive every minute in the bank during busy hours of working day\n",
    "i) What is the probability that exactly 4 customers will arrive in a given minute?\n",
    "ii) What is the probability that more than 3 customers will arrive in a given minute?"
   ]
  },
  {
   "cell_type": "code",
   "execution_count": 1,
   "metadata": {},
   "outputs": [],
   "source": [
    "import numpy as np\n",
    "import scipy.stats as stats\n",
    "import matplotlib.pyplot as plt\n",
    "%matplotlib inline"
   ]
  },
  {
   "cell_type": "code",
   "execution_count": 2,
   "metadata": {},
   "outputs": [],
   "source": [
    "mean = 6\n",
    "# x varies from 0 to infinnity. Lets limit to 20 observations\n",
    "n = np.arange(0, 19)"
   ]
  },
  {
   "cell_type": "code",
   "execution_count": 3,
   "metadata": {},
   "outputs": [
    {
     "data": {
      "text/plain": [
       "array([2.47875218e-03, 1.48725131e-02, 4.46175392e-02, 8.92350784e-02,\n",
       "       1.33852618e-01, 1.60623141e-01, 1.60623141e-01, 1.37676978e-01,\n",
       "       1.03257734e-01, 6.88384890e-02, 4.13030934e-02, 2.25289600e-02,\n",
       "       1.12644800e-02, 5.19899078e-03, 2.22813891e-03, 8.91255562e-04,\n",
       "       3.34220836e-04, 1.17960295e-04, 3.93200983e-05])"
      ]
     },
     "execution_count": 3,
     "metadata": {},
     "output_type": "execute_result"
    }
   ],
   "source": [
    "poisson = stats.poisson.pmf(n, mean)\n",
    "poisson"
   ]
  },
  {
   "cell_type": "code",
   "execution_count": 5,
   "metadata": {},
   "outputs": [
    {
     "data": {
      "text/plain": [
       "0.13385261753998332"
      ]
     },
     "execution_count": 5,
     "metadata": {},
     "output_type": "execute_result"
    }
   ],
   "source": [
    "# answer for i\n",
    "poisson[4]"
   ]
  },
  {
   "cell_type": "code",
   "execution_count": 8,
   "metadata": {},
   "outputs": [
    {
     "data": {
      "text/plain": [
       "0.8487961172233521"
      ]
     },
     "execution_count": 8,
     "metadata": {},
     "output_type": "execute_result"
    }
   ],
   "source": [
    "# ansert for ii\n",
    "1 - (poisson[0] + poisson[1] + poisson[2] + poisson[3])"
   ]
  },
  {
   "cell_type": "code",
   "execution_count": null,
   "metadata": {},
   "outputs": [],
   "source": []
  },
  {
   "cell_type": "code",
   "execution_count": null,
   "metadata": {},
   "outputs": [],
   "source": []
  },
  {
   "cell_type": "markdown",
   "metadata": {},
   "source": [
    "## Problem statement\n",
    "A laptop assembly unit is doing defective analysis to understand the number of defects that could happen for a given defective laptop. It is noted that 12 defects are noted on an average for a defective laptop. Calculate probability that\n",
    "1. Defective laptop has exactly 5 defects\n",
    "2. Defective laptop has less than 5 defects"
   ]
  },
  {
   "cell_type": "code",
   "execution_count": 13,
   "metadata": {},
   "outputs": [],
   "source": [
    "import numpy as np\n",
    "import scipy.stats as stat\n",
    "import matplotlib.pyplot as plt\n",
    "%matplotlib inline"
   ]
  },
  {
   "cell_type": "code",
   "execution_count": 14,
   "metadata": {},
   "outputs": [
    {
     "data": {
      "text/plain": [
       "array([6.14421235e-06, 7.37305482e-05, 4.42383289e-04, 1.76953316e-03,\n",
       "       5.30859947e-03, 1.27406387e-02, 2.54812775e-02, 4.36821900e-02,\n",
       "       6.55232849e-02, 8.73643799e-02, 1.04837256e-01, 1.14367916e-01,\n",
       "       1.14367916e-01, 1.05570384e-01, 9.04889002e-02, 7.23911201e-02,\n",
       "       5.42933401e-02, 3.83247107e-02, 2.55498071e-02])"
      ]
     },
     "execution_count": 14,
     "metadata": {},
     "output_type": "execute_result"
    }
   ],
   "source": [
    "mean = 12\n",
    "n = np.arange(0, 19)\n",
    "poisson = stat.poisson.pmf(n, mean)\n",
    "poisson"
   ]
  },
  {
   "cell_type": "code",
   "execution_count": 15,
   "metadata": {},
   "outputs": [
    {
     "data": {
      "text/plain": [
       "0.012740638735861376"
      ]
     },
     "execution_count": 15,
     "metadata": {},
     "output_type": "execute_result"
    }
   ],
   "source": [
    "# i\n",
    "poisson[5]"
   ]
  },
  {
   "cell_type": "code",
   "execution_count": 16,
   "metadata": {},
   "outputs": [
    {
     "data": {
      "text/plain": [
       "0.007600390681067"
      ]
     },
     "execution_count": 16,
     "metadata": {},
     "output_type": "execute_result"
    }
   ],
   "source": [
    "# ii\n",
    "poisson[0] + poisson[1] + poisson[2] + poisson[3] + poisson[4]"
   ]
  },
  {
   "cell_type": "code",
   "execution_count": 18,
   "metadata": {},
   "outputs": [
    {
     "data": {
      "text/plain": [
       "Text(0, 0.5, 'Probability')"
      ]
     },
     "execution_count": 18,
     "metadata": {},
     "output_type": "execute_result"
    },
    {
     "data": {
      "image/png": "[encoded data removed]",
      "text/plain": [
       "<Figure size 432x288 with 1 Axes>"
      ]
     },
     "metadata": {
      "needs_background": "light"
     },
     "output_type": "display_data"
    }
   ],
   "source": [
    "plt.plot(n, poisson, 'o-')\n",
    "plt.title('Defect Analysis')\n",
    "plt.xlabel('Defects')\n",
    "plt.ylabel('Probability')"
   ]
  },
  {
   "cell_type": "code",
   "execution_count": null,
   "metadata": {},
   "outputs": [],
   "source": []
  }
 ],
 "metadata": {
  "kernelspec": {
   "display_name": "Python 3",
   "language": "python",
   "name": "python3"
  },
  "language_info": {
   "codemirror_mode": {
    "name": "ipython",
    "version": 3
   },
   "file_extension": ".py",
   "mimetype": "text/x-python",
   "name": "python",
   "nbconvert_exporter": "python",
   "pygments_lexer": "ipython3",
   "version": "3.7.3"
  }
 },
 "nbformat": 4,
 "nbformat_minor": 2
}
